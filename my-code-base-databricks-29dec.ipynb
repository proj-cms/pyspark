{
 "cells": [
  {
   "cell_type": "code",
   "execution_count": null,
   "metadata": {
    "application/vnd.databricks.v1+cell": {
     "inputWidgets": {},
     "nuid": "e641d3c9-134d-4431-a0bf-f85fd402f8db",
     "showTitle": false,
     "title": ""
    }
   },
   "outputs": [],
   "source": [
    "#from pyspark.sql import SparkSession\n",
    "from pyspark.sql.functions import *"
   ]
  },
  {
   "cell_type": "code",
   "execution_count": null,
   "metadata": {
    "application/vnd.databricks.v1+cell": {
     "inputWidgets": {},
     "nuid": "59a42063-1e4b-4393-8f85-e7b84446fd50",
     "showTitle": false,
     "title": ""
    }
   },
   "outputs": [],
   "source": [
    "my_spark = SparkSession \\\n",
    "    .builder \\\n",
    "    .appName(\"Python Spark SQL example\") \\\n",
    "    .enableHiveSupport() \\\n",
    "    .getOrCreate()"
   ]
  },
  {
   "cell_type": "code",
   "execution_count": null,
   "metadata": {
    "application/vnd.databricks.v1+cell": {
     "inputWidgets": {},
     "nuid": "f38f6a18-60c9-438b-9340-eb32514dc5a3",
     "showTitle": false,
     "title": ""
    }
   },
   "outputs": [
    {
     "data": {
      "text/plain": [
       "+-------------------+-----------------+\n",
       "|              Dates|      Description|\n",
       "+-------------------+-----------------+\n",
       "|2015-05-14 03:53:00|   WARRANT ARREST|\n",
       "|2015-05-14 03:53:00|TRAFFIC VIOLATION|\n",
       "|2015-05-14 03:33:00|TRAFFIC VIOLATION|\n",
       "+-------------------+-----------------+\n",
       "\n"
      ]
     },
     "metadata": {
      "application/vnd.databricks.v1+output": {
       "addedWidgets": {},
       "arguments": {},
       "data": "+-------------------+-----------------+\n|              Dates|      Description|\n+-------------------+-----------------+\n|2015-05-14 03:53:00|   WARRANT ARREST|\n|2015-05-14 03:53:00|TRAFFIC VIOLATION|\n|2015-05-14 03:33:00|TRAFFIC VIOLATION|\n+-------------------+-----------------+\n\n",
       "datasetInfos": [],
       "metadata": {},
       "removedWidgets": [],
       "type": "ansi"
      }
     },
     "output_type": "display_data"
    }
   ],
   "source": [
    "data = [\n",
    "    (\"2015-05-14 03:53:00\", \"WARRANT ARREST\"),\n",
    "    (\"2015-05-14 03:53:00\", \"TRAFFIC VIOLATION\"),\n",
    "    (\"2015-05-14 03:33:00\", \"TRAFFIC VIOLATION\")\n",
    "]\n",
    "\n",
    "df1 = my_spark.createDataFrame(data, [\"Dates\", \"Description\"])\n",
    "df1.show()"
   ]
  },
  {
   "cell_type": "code",
   "execution_count": null,
   "metadata": {
    "application/vnd.databricks.v1+cell": {
     "inputWidgets": {},
     "nuid": "2ca74669-acbd-490b-8001-c1a30256d518",
     "showTitle": false,
     "title": ""
    }
   },
   "outputs": [
    {
     "data": {
      "text/plain": [
       "+-------------------+-----------------+---------+\n",
       "|              Dates|      Description|wordCount|\n",
       "+-------------------+-----------------+---------+\n",
       "|2015-05-14 03:53:00|   WARRANT ARREST|        2|\n",
       "|2015-05-14 03:53:00|TRAFFIC VIOLATION|        2|\n",
       "|2015-05-14 03:33:00|TRAFFIC VIOLATION|        2|\n",
       "+-------------------+-----------------+---------+\n",
       "\n"
      ]
     },
     "metadata": {
      "application/vnd.databricks.v1+output": {
       "addedWidgets": {},
       "arguments": {},
       "data": "+-------------------+-----------------+---------+\n|              Dates|      Description|wordCount|\n+-------------------+-----------------+---------+\n|2015-05-14 03:53:00|   WARRANT ARREST|        2|\n|2015-05-14 03:53:00|TRAFFIC VIOLATION|        2|\n|2015-05-14 03:33:00|TRAFFIC VIOLATION|        2|\n+-------------------+-----------------+---------+\n\n",
       "datasetInfos": [],
       "metadata": {},
       "removedWidgets": [],
       "type": "ansi"
      }
     },
     "output_type": "display_data"
    }
   ],
   "source": [
    "df_2 = df1.withColumn('wordCount', f.size(f.split(f.col('Description'), ' ')))\n",
    "df_2.show()"
   ]
  },
  {
   "cell_type": "code",
   "execution_count": null,
   "metadata": {
    "application/vnd.databricks.v1+cell": {
     "inputWidgets": {},
     "nuid": "7e454186-89cf-427c-87a0-4e71eddc7a66",
     "showTitle": false,
     "title": ""
    }
   },
   "outputs": [
    {
     "data": {
      "text/plain": [
       "+-------------------+-----------------+---------+\n",
       "|              Dates|      Description|wordCount|\n",
       "+-------------------+-----------------+---------+\n",
       "|2015-05-14 03:53:00|   WARRANT ARREST|        2|\n",
       "|2015-05-14 03:53:00|TRAFFIC VIOLATION|        2|\n",
       "|2015-05-14 03:33:00|TRAFFIC VIOLATION|        2|\n",
       "+-------------------+-----------------+---------+\n",
       "\n",
       "+---------+\n",
       "|    words|\n",
       "+---------+\n",
       "|  WARRANT|\n",
       "|   ARREST|\n",
       "|  TRAFFIC|\n",
       "|VIOLATION|\n",
       "|  TRAFFIC|\n",
       "|VIOLATION|\n",
       "+---------+\n",
       "\n"
      ]
     },
     "metadata": {
      "application/vnd.databricks.v1+output": {
       "addedWidgets": {},
       "arguments": {},
       "data": "+-------------------+-----------------+---------+\n|              Dates|      Description|wordCount|\n+-------------------+-----------------+---------+\n|2015-05-14 03:53:00|   WARRANT ARREST|        2|\n|2015-05-14 03:53:00|TRAFFIC VIOLATION|        2|\n|2015-05-14 03:33:00|TRAFFIC VIOLATION|        2|\n+-------------------+-----------------+---------+\n\n+---------+\n|    words|\n+---------+\n|  WARRANT|\n|   ARREST|\n|  TRAFFIC|\n|VIOLATION|\n|  TRAFFIC|\n|VIOLATION|\n+---------+\n\n",
       "datasetInfos": [],
       "metadata": {},
       "removedWidgets": [],
       "type": "ansi"
      }
     },
     "output_type": "display_data"
    }
   ],
   "source": [
    "df_2.show()\n",
    "df_3 = df_2.withColumn('words',f.explode(f.split(f.col('Description'),' '))) "
   ]
  },
  {
   "cell_type": "code",
   "execution_count": null,
   "metadata": {
    "application/vnd.databricks.v1+cell": {
     "inputWidgets": {},
     "nuid": "7e4c7600-13f1-4600-ba5d-e0e908aeb2b8",
     "showTitle": false,
     "title": ""
    }
   },
   "outputs": [
    {
     "data": {
      "text/plain": [
       "+---------+---------+\n",
       "|    words|WordCount|\n",
       "+---------+---------+\n",
       "|  WARRANT|        1|\n",
       "|   ARREST|        1|\n",
       "|  TRAFFIC|        2|\n",
       "|VIOLATION|        2|\n",
       "+---------+---------+\n",
       "\n"
      ]
     },
     "metadata": {
      "application/vnd.databricks.v1+output": {
       "addedWidgets": {},
       "arguments": {},
       "data": "+---------+---------+\n|    words|WordCount|\n+---------+---------+\n|  WARRANT|        1|\n|   ARREST|        1|\n|  TRAFFIC|        2|\n|VIOLATION|        2|\n+---------+---------+\n\n",
       "datasetInfos": [],
       "metadata": {},
       "removedWidgets": [],
       "type": "ansi"
      }
     },
     "output_type": "display_data"
    }
   ],
   "source": [
    "df_3.select('words') \\\n",
    "    .groupBy(f.col('words')) \\\n",
    "    .agg(\n",
    "       f.count(f.lit(1)).alias('WordCount')\n",
    "  ).show()"
   ]
  },
  {
   "cell_type": "code",
   "execution_count": null,
   "metadata": {
    "application/vnd.databricks.v1+cell": {
     "inputWidgets": {},
     "nuid": "f9a00d1a-67ee-4da2-87e6-16c102a4257e",
     "showTitle": false,
     "title": ""
    }
   },
   "outputs": [
    {
     "data": {
      "text/plain": [
       "+------+---+\n",
       "|Number|Sqr|\n",
       "+------+---+\n",
       "|     2|  4|\n",
       "|     3|  9|\n",
       "|     4| 16|\n",
       "+------+---+\n",
       "\n"
      ]
     },
     "metadata": {
      "application/vnd.databricks.v1+output": {
       "addedWidgets": {},
       "arguments": {},
       "data": "+------+---+\n|Number|Sqr|\n+------+---+\n|     2|  4|\n|     3|  9|\n|     4| 16|\n+------+---+\n\n",
       "datasetInfos": [],
       "metadata": {},
       "removedWidgets": [],
       "type": "ansi"
      }
     },
     "output_type": "display_data"
    }
   ],
   "source": [
    "sc = spark.sparkContext\n",
    "\n",
    "data = [\n",
    "    (2, 4),\n",
    "    (3, 9),\n",
    "    (4, 16)\n",
    "]\n",
    "\n",
    "squaresDF = my_spark.createDataFrame(data, [\"Number\", \"Sqr\"])\n",
    "                                 \n",
    "squaresDF.show()"
   ]
  },
  {
   "cell_type": "code",
   "execution_count": null,
   "metadata": {
    "application/vnd.databricks.v1+cell": {
     "inputWidgets": {},
     "nuid": "4a4f5246-8b50-4139-8cff-52a4b0cfd786",
     "showTitle": false,
     "title": ""
    }
   },
   "outputs": [],
   "source": [
    "squaresDF.write.parquet(\"dbfs:/FileStore/shared_uploads/forgcpmak@gmail.com/data/test_table/key=1\")\n"
   ]
  },
  {
   "cell_type": "code",
   "execution_count": null,
   "metadata": {
    "application/vnd.databricks.v1+cell": {
     "inputWidgets": {},
     "nuid": "7c61abc6-f2e6-47ce-aa34-f1b07f238b6c",
     "showTitle": false,
     "title": ""
    }
   },
   "outputs": [
    {
     "data": {
      "text/plain": [
       "+------+---+\n",
       "|Number|Cub|\n",
       "+------+---+\n",
       "|     2|  8|\n",
       "|     3| 27|\n",
       "|     4| 64|\n",
       "+------+---+\n",
       "\n"
      ]
     },
     "metadata": {
      "application/vnd.databricks.v1+output": {
       "addedWidgets": {},
       "arguments": {},
       "data": "+------+---+\n|Number|Cub|\n+------+---+\n|     2|  8|\n|     3| 27|\n|     4| 64|\n+------+---+\n\n",
       "datasetInfos": [],
       "metadata": {},
       "removedWidgets": [],
       "type": "ansi"
      }
     },
     "output_type": "display_data"
    }
   ],
   "source": [
    "data2 = [\n",
    "    (2, 8),\n",
    "    (3, 27),\n",
    "    (4, 64)\n",
    "]\n",
    "\n",
    "cubesDF = my_spark.createDataFrame(data2, [\"Number\", \"Cub\"])\n",
    "cubesDF.show()"
   ]
  },
  {
   "cell_type": "code",
   "execution_count": null,
   "metadata": {
    "application/vnd.databricks.v1+cell": {
     "inputWidgets": {},
     "nuid": "778597d9-9413-412d-8789-9f5de7b683c5",
     "showTitle": false,
     "title": ""
    }
   },
   "outputs": [],
   "source": [
    "cubesDF.write.parquet(\"dbfs:/FileStore/shared_uploads/forgcpmak@gmail.com/data/test_table/key=2\")\n"
   ]
  },
  {
   "cell_type": "code",
   "execution_count": null,
   "metadata": {
    "application/vnd.databricks.v1+cell": {
     "inputWidgets": {},
     "nuid": "faa93b96-9df4-4e8b-b076-40497c27176c",
     "showTitle": false,
     "title": ""
    }
   },
   "outputs": [
    {
     "data": {
      "text/plain": [
       "root\n",
       " |-- Number: long (nullable = true)\n",
       " |-- Sqr: long (nullable = true)\n",
       " |-- Cub: long (nullable = true)\n",
       " |-- key: integer (nullable = true)\n",
       "\n"
      ]
     },
     "metadata": {
      "application/vnd.databricks.v1+output": {
       "addedWidgets": {},
       "arguments": {},
       "data": "root\n |-- Number: long (nullable = true)\n |-- Sqr: long (nullable = true)\n |-- Cub: long (nullable = true)\n |-- key: integer (nullable = true)\n\n",
       "datasetInfos": [],
       "metadata": {},
       "removedWidgets": [],
       "type": "ansi"
      }
     },
     "output_type": "display_data"
    }
   ],
   "source": [
    "# Read the partitioned table\n",
    "mergedDF = spark.read.option(\"mergeSchema\", \"true\").parquet(\"/FileStore/shared_uploads/forgcpmak@gmail.com/data/test_table\")\n",
    "mergedDF.printSchema()"
   ]
  },
  {
   "cell_type": "code",
   "execution_count": null,
   "metadata": {
    "application/vnd.databricks.v1+cell": {
     "inputWidgets": {},
     "nuid": "21418951-014f-4127-8a6b-8015b5f60591",
     "showTitle": false,
     "title": ""
    }
   },
   "outputs": [
    {
     "data": {
      "text/plain": [
       "+------+----+----+---+\n",
       "|Number| Sqr| Cub|key|\n",
       "+------+----+----+---+\n",
       "|     2|null|   8|  2|\n",
       "|     3|null|  27|  2|\n",
       "|     4|null|  64|  2|\n",
       "|     2|   4|null|  1|\n",
       "|     3|   9|null|  1|\n",
       "|     4|  16|null|  1|\n",
       "+------+----+----+---+\n",
       "\n"
      ]
     },
     "metadata": {
      "application/vnd.databricks.v1+output": {
       "addedWidgets": {},
       "arguments": {},
       "data": "+------+----+----+---+\n|Number| Sqr| Cub|key|\n+------+----+----+---+\n|     2|null|   8|  2|\n|     3|null|  27|  2|\n|     4|null|  64|  2|\n|     2|   4|null|  1|\n|     3|   9|null|  1|\n|     4|  16|null|  1|\n+------+----+----+---+\n\n",
       "datasetInfos": [],
       "metadata": {},
       "removedWidgets": [],
       "type": "ansi"
      }
     },
     "output_type": "display_data"
    }
   ],
   "source": [
    "mergedDF.show()"
   ]
  },
  {
   "cell_type": "code",
   "execution_count": null,
   "metadata": {
    "application/vnd.databricks.v1+cell": {
     "inputWidgets": {},
     "nuid": "edb127fe-d7f6-48f1-a5e1-1efae8ce5720",
     "showTitle": false,
     "title": ""
    }
   },
   "outputs": [
    {
     "data": {
      "text/plain": [
       "root\n",
       " |-- Company: string (nullable = true)\n",
       " |-- Person: string (nullable = true)\n",
       " |-- Sales: double (nullable = true)\n",
       "\n",
       "+-------+-------+-----+\n",
       "|Company| Person|Sales|\n",
       "+-------+-------+-----+\n",
       "|   GOOG|    Sam|200.0|\n",
       "|   GOOG|Charlie|120.0|\n",
       "|   GOOG|  Frank|340.0|\n",
       "|   MSFT|   Tina|600.0|\n",
       "|   MSFT|    Amy|124.0|\n",
       "|   MSFT|Vanessa|243.0|\n",
       "|     FB|   Carl|870.0|\n",
       "|     FB|  Sarah|350.0|\n",
       "|   APPL|   John|250.0|\n",
       "|   APPL|  Linda|130.0|\n",
       "|   APPL|   Mike|750.0|\n",
       "|   APPL|  Chris|350.0|\n",
       "+-------+-------+-----+\n",
       "\n"
      ]
     },
     "metadata": {
      "application/vnd.databricks.v1+output": {
       "addedWidgets": {},
       "arguments": {},
       "data": "root\n |-- Company: string (nullable = true)\n |-- Person: string (nullable = true)\n |-- Sales: double (nullable = true)\n\n+-------+-------+-----+\n|Company| Person|Sales|\n+-------+-------+-----+\n|   GOOG|    Sam|200.0|\n|   GOOG|Charlie|120.0|\n|   GOOG|  Frank|340.0|\n|   MSFT|   Tina|600.0|\n|   MSFT|    Amy|124.0|\n|   MSFT|Vanessa|243.0|\n|     FB|   Carl|870.0|\n|     FB|  Sarah|350.0|\n|   APPL|   John|250.0|\n|   APPL|  Linda|130.0|\n|   APPL|   Mike|750.0|\n|   APPL|  Chris|350.0|\n+-------+-------+-----+\n\n",
       "datasetInfos": [],
       "metadata": {},
       "removedWidgets": [],
       "type": "ansi"
      }
     },
     "output_type": "display_data"
    }
   ],
   "source": [
    "file_location = \"dbfs:/FileStore/shared_uploads/forgcpmak@gmail.com/sales_info.csv\"\n",
    "file_type = \"csv\"\n",
    "\n",
    "# CSV options\n",
    "infer_schema = \"True\"\n",
    "first_row_is_header = \"True\"\n",
    "delimiter = \",\"\n",
    "\n",
    "sales_df = spark.read \\\n",
    "        .format(file_type) \\\n",
    "        .option(\"inferSchema\", infer_schema) \\\n",
    "        .option(\"header\", first_row_is_header) \\\n",
    "        .option(\"sep\", delimiter) \\\n",
    "        .load(file_location)\n",
    "\n",
    "sales_df.printSchema()\n",
    "sales_df.show()"
   ]
  },
  {
   "cell_type": "code",
   "execution_count": null,
   "metadata": {
    "application/vnd.databricks.v1+cell": {
     "inputWidgets": {},
     "nuid": "7b1012bc-4e25-41ee-93cc-823f990f377b",
     "showTitle": false,
     "title": ""
    }
   },
   "outputs": [],
   "source": [
    "sales_df\\\n",
    "     .coalesce(1) \\\n",
    "     .write\\\n",
    "     .mode(\"overwrite\")\\\n",
    "     .save(\"dbfs:/FileStore/shared_uploads/forgcpmak@gmail.com/sales_info.parquet\",format=\"parquet\")\n",
    "\n"
   ]
  },
  {
   "cell_type": "code",
   "execution_count": null,
   "metadata": {
    "application/vnd.databricks.v1+cell": {
     "inputWidgets": {},
     "nuid": "c9e0dcf6-4e7b-4339-a5cd-4d5eec45db5b",
     "showTitle": false,
     "title": ""
    }
   },
   "outputs": [
    {
     "data": {
      "text/plain": [
       "Out[44]: {'type': 'struct',\n",
       " 'fields': [{'name': 'Company',\n",
       "   'type': 'string',\n",
       "   'nullable': True,\n",
       "   'metadata': {}},\n",
       "  {'name': 'Person', 'type': 'string', 'nullable': True, 'metadata': {}},\n",
       "  {'name': 'Sales', 'type': 'double', 'nullable': True, 'metadata': {}}]}"
      ]
     },
     "metadata": {
      "application/vnd.databricks.v1+output": {
       "addedWidgets": {},
       "arguments": {},
       "data": "Out[44]: {'type': 'struct',\n 'fields': [{'name': 'Company',\n   'type': 'string',\n   'nullable': True,\n   'metadata': {}},\n  {'name': 'Person', 'type': 'string', 'nullable': True, 'metadata': {}},\n  {'name': 'Sales', 'type': 'double', 'nullable': True, 'metadata': {}}]}",
       "datasetInfos": [],
       "metadata": {},
       "removedWidgets": [],
       "type": "ansi"
      }
     },
     "output_type": "display_data"
    }
   ],
   "source": [
    "sales_df.schema.jsonValue()"
   ]
  },
  {
   "cell_type": "code",
   "execution_count": null,
   "metadata": {
    "application/vnd.databricks.v1+cell": {
     "inputWidgets": {},
     "nuid": "623e96d5-f629-4723-a3a9-c380a03b2728",
     "showTitle": false,
     "title": ""
    }
   },
   "outputs": [
    {
     "data": {
      "text/plain": [
       "root\n",
       " |-- Company: string (nullable = true)\n",
       " |-- Person: string (nullable = true)\n",
       " |-- Sales: double (nullable = true)\n",
       "\n",
       "+-------+-------+-----+\n",
       "|Company| Person|Sales|\n",
       "+-------+-------+-----+\n",
       "|   GOOG|    Sam|200.0|\n",
       "|   GOOG|Charlie|120.0|\n",
       "|   GOOG|  Frank|340.0|\n",
       "|   MSFT|   Tina|600.0|\n",
       "|   MSFT|    Amy|124.0|\n",
       "|   MSFT|Vanessa|243.0|\n",
       "|     FB|   Carl|870.0|\n",
       "|     FB|  Sarah|350.0|\n",
       "|   APPL|   John|250.0|\n",
       "|   APPL|  Linda|130.0|\n",
       "|   APPL|   Mike|750.0|\n",
       "|   APPL|  Chris|350.0|\n",
       "+-------+-------+-----+\n",
       "\n"
      ]
     },
     "metadata": {
      "application/vnd.databricks.v1+output": {
       "addedWidgets": {},
       "arguments": {},
       "data": "root\n |-- Company: string (nullable = true)\n |-- Person: string (nullable = true)\n |-- Sales: double (nullable = true)\n\n+-------+-------+-----+\n|Company| Person|Sales|\n+-------+-------+-----+\n|   GOOG|    Sam|200.0|\n|   GOOG|Charlie|120.0|\n|   GOOG|  Frank|340.0|\n|   MSFT|   Tina|600.0|\n|   MSFT|    Amy|124.0|\n|   MSFT|Vanessa|243.0|\n|     FB|   Carl|870.0|\n|     FB|  Sarah|350.0|\n|   APPL|   John|250.0|\n|   APPL|  Linda|130.0|\n|   APPL|   Mike|750.0|\n|   APPL|  Chris|350.0|\n+-------+-------+-----+\n\n",
       "datasetInfos": [],
       "metadata": {},
       "removedWidgets": [],
       "type": "ansi"
      }
     },
     "output_type": "display_data"
    }
   ],
   "source": [
    "file_location = \"dbfs:/FileStore/shared_uploads/forgcpmak@gmail.com/sales_info.parquet\"\n",
    "file_type = \"parquet\"\n",
    "\n",
    "# CSV options\n",
    "infer_schema = \"True\"\n",
    "first_row_is_header = \"True\"\n",
    "#delimiter = \",\"\n",
    "\n",
    "sales_df_pq = spark.read \\\n",
    "        .format(file_type) \\\n",
    "        .option(\"inferSchema\", infer_schema) \\\n",
    "        .option(\"header\", first_row_is_header) \\\n",
    "        .load(file_location)\n",
    "\n",
    "sales_df_pq.printSchema()\n",
    "sales_df_pq.show()"
   ]
  },
  {
   "cell_type": "code",
   "execution_count": null,
   "metadata": {
    "application/vnd.databricks.v1+cell": {
     "inputWidgets": {},
     "nuid": "f3767eb3-81ae-45c8-9a48-94b7df89ad9a",
     "showTitle": false,
     "title": ""
    }
   },
   "outputs": [
    {
     "data": {
      "text/plain": [
       "root\n",
       " |-- Company: string (nullable = true)\n",
       " |-- Person: string (nullable = true)\n",
       " |-- Sales: double (nullable = true)\n",
       "\n",
       "+-------+-------+-----+\n",
       "|Company| Person|Sales|\n",
       "+-------+-------+-----+\n",
       "|   GOOG|    Sam|200.0|\n",
       "|   GOOG|Charlie|120.0|\n",
       "|   GOOG|  Frank|340.0|\n",
       "|   MSFT|   Tina|600.0|\n",
       "|   MSFT|    Amy|124.0|\n",
       "|   MSFT|Vanessa|243.0|\n",
       "|     FB|   Carl|870.0|\n",
       "|     FB|  Sarah|350.0|\n",
       "|   APPL|   John|250.0|\n",
       "|   APPL|  Linda|130.0|\n",
       "|   APPL|   Mike|750.0|\n",
       "|   APPL|  Chris|350.0|\n",
       "+-------+-------+-----+\n",
       "\n"
      ]
     },
     "metadata": {
      "application/vnd.databricks.v1+output": {
       "addedWidgets": {},
       "arguments": {},
       "data": "root\n |-- Company: string (nullable = true)\n |-- Person: string (nullable = true)\n |-- Sales: double (nullable = true)\n\n+-------+-------+-----+\n|Company| Person|Sales|\n+-------+-------+-----+\n|   GOOG|    Sam|200.0|\n|   GOOG|Charlie|120.0|\n|   GOOG|  Frank|340.0|\n|   MSFT|   Tina|600.0|\n|   MSFT|    Amy|124.0|\n|   MSFT|Vanessa|243.0|\n|     FB|   Carl|870.0|\n|     FB|  Sarah|350.0|\n|   APPL|   John|250.0|\n|   APPL|  Linda|130.0|\n|   APPL|   Mike|750.0|\n|   APPL|  Chris|350.0|\n+-------+-------+-----+\n\n",
       "datasetInfos": [],
       "metadata": {},
       "removedWidgets": [],
       "type": "ansi"
      }
     },
     "output_type": "display_data"
    }
   ],
   "source": [
    "sales_df_pq.printSchema()\n",
    "sales_df_pq.show()"
   ]
  },
  {
   "cell_type": "code",
   "execution_count": null,
   "metadata": {
    "application/vnd.databricks.v1+cell": {
     "inputWidgets": {},
     "nuid": "89138de1-de9e-4fce-a1f5-15a5b99591f7",
     "showTitle": false,
     "title": ""
    }
   },
   "outputs": [],
   "source": []
  },
  {
   "cell_type": "code",
   "execution_count": null,
   "metadata": {
    "application/vnd.databricks.v1+cell": {
     "inputWidgets": {},
     "nuid": "6fe2e78d-3951-452a-8b07-0040a454673d",
     "showTitle": false,
     "title": ""
    }
   },
   "outputs": [],
   "source": [
    "stack_overflow_2016_survey_df = spark.read\\\n",
    "                           .format(\"csv\") \\\n",
    "                           .option(\"sep\",\",\") \\\n",
    "                           .option(\"header\", \"true\") \\\n",
    "                           .option(\"inferSchema\",\"true\") \\\n",
    "                           .load(\"dbfs:/FileStore/shared_uploads/forgcpmak@gmail.com/2016_stack_overflow_survey_responses.csv\")\n",
    "\n"
   ]
  },
  {
   "cell_type": "code",
   "execution_count": null,
   "metadata": {
    "application/vnd.databricks.v1+cell": {
     "inputWidgets": {},
     "nuid": "5f05af88-715f-44f0-91c9-f36a044ea9f6",
     "showTitle": false,
     "title": ""
    }
   },
   "outputs": [
    {
     "data": {
      "text/plain": [
       "root\n",
       " |-- _c0: integer (nullable = true)\n",
       " |-- collector: string (nullable = true)\n",
       " |-- country: string (nullable = true)\n",
       " |-- un_subregion: string (nullable = true)\n",
       " |-- so_region: string (nullable = true)\n",
       " |-- age_range: string (nullable = true)\n",
       " |-- age_midpoint: double (nullable = true)\n",
       " |-- gender: string (nullable = true)\n",
       " |-- self_identification: string (nullable = true)\n",
       " |-- occupation: string (nullable = true)\n",
       " |-- occupation_group: string (nullable = true)\n",
       " |-- experience_range: string (nullable = true)\n",
       " |-- experience_midpoint: double (nullable = true)\n",
       " |-- salary_range: string (nullable = true)\n",
       " |-- salary_midpoint: double (nullable = true)\n",
       " |-- big_mac_index: double (nullable = true)\n",
       " |-- tech_do: string (nullable = true)\n",
       " |-- tech_want: string (nullable = true)\n",
       " |-- aliens: string (nullable = true)\n",
       " |-- programming_ability: double (nullable = true)\n",
       " |-- employment_status: string (nullable = true)\n",
       " |-- industry: string (nullable = true)\n",
       " |-- company_size_range: string (nullable = true)\n",
       " |-- team_size_range: string (nullable = true)\n",
       " |-- women_on_team: string (nullable = true)\n",
       " |-- remote: string (nullable = true)\n",
       " |-- job_satisfaction: string (nullable = true)\n",
       " |-- job_discovery: string (nullable = true)\n",
       " |-- dev_environment: string (nullable = true)\n",
       " |-- commit_frequency: string (nullable = true)\n",
       " |-- hobby: string (nullable = true)\n",
       " |-- dogs_vs_cats: string (nullable = true)\n",
       " |-- desktop_os: string (nullable = true)\n",
       " |-- unit_testing: string (nullable = true)\n",
       " |-- rep_range: string (nullable = true)\n",
       " |-- visit_frequency: string (nullable = true)\n",
       " |-- why_learn_new_tech: string (nullable = true)\n",
       " |-- education: string (nullable = true)\n",
       " |-- open_to_new_job: string (nullable = true)\n",
       " |-- new_job_value: string (nullable = true)\n",
       " |-- job_search_annoyance: string (nullable = true)\n",
       " |-- interview_likelihood: string (nullable = true)\n",
       " |-- how_to_improve_interview_process: string (nullable = true)\n",
       " |-- star_wars_vs_star_trek: string (nullable = true)\n",
       " |-- agree_tech: string (nullable = true)\n",
       " |-- agree_notice: string (nullable = true)\n",
       " |-- agree_problemsolving: string (nullable = true)\n",
       " |-- agree_diversity: string (nullable = true)\n",
       " |-- agree_adblocker: string (nullable = true)\n",
       " |-- agree_alcohol: string (nullable = true)\n",
       " |-- agree_loveboss: string (nullable = true)\n",
       " |-- agree_nightcode: string (nullable = true)\n",
       " |-- agree_legacy: string (nullable = true)\n",
       " |-- agree_mars: string (nullable = true)\n",
       " |-- important_variety: string (nullable = true)\n",
       " |-- important_control: string (nullable = true)\n",
       " |-- important_sameend: string (nullable = true)\n",
       " |-- important_newtech: string (nullable = true)\n",
       " |-- important_buildnew: string (nullable = true)\n",
       " |-- important_buildexisting: string (nullable = true)\n",
       " |-- important_promotion: string (nullable = true)\n",
       " |-- important_companymission: string (nullable = true)\n",
       " |-- important_wfh: string (nullable = true)\n",
       " |-- important_ownoffice: string (nullable = true)\n",
       " |-- developer_challenges: string (nullable = true)\n",
       " |-- why_stack_overflow: string (nullable = true)\n",
       "\n"
      ]
     },
     "metadata": {
      "application/vnd.databricks.v1+output": {
       "addedWidgets": {},
       "arguments": {},
       "data": "root\n |-- _c0: integer (nullable = true)\n |-- collector: string (nullable = true)\n |-- country: string (nullable = true)\n |-- un_subregion: string (nullable = true)\n |-- so_region: string (nullable = true)\n |-- age_range: string (nullable = true)\n |-- age_midpoint: double (nullable = true)\n |-- gender: string (nullable = true)\n |-- self_identification: string (nullable = true)\n |-- occupation: string (nullable = true)\n |-- occupation_group: string (nullable = true)\n |-- experience_range: string (nullable = true)\n |-- experience_midpoint: double (nullable = true)\n |-- salary_range: string (nullable = true)\n |-- salary_midpoint: double (nullable = true)\n |-- big_mac_index: double (nullable = true)\n |-- tech_do: string (nullable = true)\n |-- tech_want: string (nullable = true)\n |-- aliens: string (nullable = true)\n |-- programming_ability: double (nullable = true)\n |-- employment_status: string (nullable = true)\n |-- industry: string (nullable = true)\n |-- company_size_range: string (nullable = true)\n |-- team_size_range: string (nullable = true)\n |-- women_on_team: string (nullable = true)\n |-- remote: string (nullable = true)\n |-- job_satisfaction: string (nullable = true)\n |-- job_discovery: string (nullable = true)\n |-- dev_environment: string (nullable = true)\n |-- commit_frequency: string (nullable = true)\n |-- hobby: string (nullable = true)\n |-- dogs_vs_cats: string (nullable = true)\n |-- desktop_os: string (nullable = true)\n |-- unit_testing: string (nullable = true)\n |-- rep_range: string (nullable = true)\n |-- visit_frequency: string (nullable = true)\n |-- why_learn_new_tech: string (nullable = true)\n |-- education: string (nullable = true)\n |-- open_to_new_job: string (nullable = true)\n |-- new_job_value: string (nullable = true)\n |-- job_search_annoyance: string (nullable = true)\n |-- interview_likelihood: string (nullable = true)\n |-- how_to_improve_interview_process: string (nullable = true)\n |-- star_wars_vs_star_trek: string (nullable = true)\n |-- agree_tech: string (nullable = true)\n |-- agree_notice: string (nullable = true)\n |-- agree_problemsolving: string (nullable = true)\n |-- agree_diversity: string (nullable = true)\n |-- agree_adblocker: string (nullable = true)\n |-- agree_alcohol: string (nullable = true)\n |-- agree_loveboss: string (nullable = true)\n |-- agree_nightcode: string (nullable = true)\n |-- agree_legacy: string (nullable = true)\n |-- agree_mars: string (nullable = true)\n |-- important_variety: string (nullable = true)\n |-- important_control: string (nullable = true)\n |-- important_sameend: string (nullable = true)\n |-- important_newtech: string (nullable = true)\n |-- important_buildnew: string (nullable = true)\n |-- important_buildexisting: string (nullable = true)\n |-- important_promotion: string (nullable = true)\n |-- important_companymission: string (nullable = true)\n |-- important_wfh: string (nullable = true)\n |-- important_ownoffice: string (nullable = true)\n |-- developer_challenges: string (nullable = true)\n |-- why_stack_overflow: string (nullable = true)\n\n",
       "datasetInfos": [],
       "metadata": {},
       "removedWidgets": [],
       "type": "ansi"
      }
     },
     "output_type": "display_data"
    }
   ],
   "source": [
    "stack_overflow_2016_survey_df.printSchema()"
   ]
  },
  {
   "cell_type": "code",
   "execution_count": null,
   "metadata": {
    "application/vnd.databricks.v1+cell": {
     "inputWidgets": {},
     "nuid": "ebd15fdd-1264-4090-ba34-394652735e2a",
     "showTitle": false,
     "title": ""
    }
   },
   "outputs": [],
   "source": [
    "uk_post_code_df = spark.read\\\n",
    "                           .format(\"csv\") \\\n",
    "                           .option(\"sep\",\",\") \\\n",
    "                           .option(\"header\", \"true\") \\\n",
    "                           .load(\"dbfs:/FileStore/shared_uploads/forgcpmak@gmail.com/uk_postcode.csv\")"
   ]
  },
  {
   "cell_type": "code",
   "execution_count": null,
   "metadata": {
    "application/vnd.databricks.v1+cell": {
     "inputWidgets": {},
     "nuid": "2ba9a5b0-597d-477e-93b3-00f3c4c703ff",
     "showTitle": false,
     "title": ""
    }
   },
   "outputs": [
    {
     "data": {
      "text/plain": [
       "+--------+--------+---------+-------+--------+--------+--------------------+-------------+---------+----------------+----------+----------+\n",
       "|Postcode|Latitude|Longitude|Easting|Northing| GridRef|           Town/Area|       Region|Postcodes|Active postcodes|Population|Households|\n",
       "+--------+--------+---------+-------+--------+--------+--------------------+-------------+---------+----------------+----------+----------+\n",
       "|     AB1| 57.1269| -2.13644| 391839|  804005|NJ918040|            Aberdeen|     Aberdeen|     2655|               0|      null|      null|\n",
       "|     AB2| 57.1713| -2.14152| 391541|  808948|NJ915089|            Aberdeen|     Aberdeen|     3070|               0|      null|      null|\n",
       "|     AB3| 57.0876| -2.59624| 363963|  799780|NO639997|            Aberdeen|     Aberdeen|     2168|               0|      null|      null|\n",
       "|     AB4| 57.5343| -2.12713| 392487|  849358|NJ924493|Fraserburgh, Pete...|     Aberdeen|     2956|               0|      null|      null|\n",
       "|     AB5| 57.4652| -2.64764| 361248|  841843|NJ612418|Buckie, Huntly, I...|     Aberdeen|     3002|               0|      null|      null|\n",
       "|     AB9| 57.1466|  -2.1142| 393189|  806196|NJ931061|            Aberdeen|     Aberdeen|     1066|               0|      null|      null|\n",
       "|    AB10| 57.1348| -2.11748| 392988|  804882|NJ929048|Aberdeen city cen...|     Aberdeen|      888|             675|     21964|     11517|\n",
       "|    AB11| 57.1371| -2.09341| 394445|  805136|NJ944051|Aberdeen city cen...|     Aberdeen|      889|             644|     21237|     10926|\n",
       "|    AB12| 57.1033| -2.11034| 393414|  801375|NJ934013|Aberdeen, Altens,...|     Aberdeen|      991|             782|     25414|     10688|\n",
       "|    AB13| 57.1127| -2.24469| 385279|  802443|NJ852024|          Milltimber|     Aberdeen|      100|              80|      2725|       947|\n",
       "|    AB14| 57.1033| -2.27251| 383590|  801402|NJ835014|Peterculter, Uppe...|     Aberdeen|      164|             140|      4881|      2162|\n",
       "|    AB15| 57.1388| -2.16551| 390082|  805334|NJ900053|Aberdeen, Bieldsi...|     Aberdeen|     1205|            1019|     35543|     15330|\n",
       "|    AB16| 57.1596| -2.15654| 390630|  807648|NJ906076|Aberdeen, Mastric...|     Aberdeen|      893|             776|     29238|     12874|\n",
       "|    AB21| 57.2091| -2.20174| 387912|  813165|NJ879131|Aberdeen, Blackbu...|     Aberdeen|      879|             732|     22181|      9650|\n",
       "|    AB22| 57.1864| -2.11913| 392898|  810627|NJ928106|Aberdeen, Bridge ...|     Aberdeen|      361|             300|     16311|      6978|\n",
       "|    AB23| 57.2088| -2.08971| 394680|  813118|NJ946131|Aberdeen, Balmedi...|     Aberdeen|      399|             311|     11143|      4517|\n",
       "|    AB24| 57.1634| -2.10828| 393550|  808065|NJ935080|Aberdeen, Old Abe...|     Aberdeen|      968|             808|     36343|     16935|\n",
       "|    AB25| 57.1534| -2.11422| 393189|  806953|NJ931069|Aberdeen city cen...|     Aberdeen|      610|             476|     18407|      9634|\n",
       "|    AB30|  56.846| -2.47726| 370986|  772829|NO709728|        Laurencekirk|Aberdeenshire|      349|             308|      7229|      2935|\n",
       "|    AB31| 57.0672| -2.50552| 369444|  797465|NO694974|            Banchory|Aberdeenshire|     1033|             629|     15319|      6096|\n",
       "+--------+--------+---------+-------+--------+--------+--------------------+-------------+---------+----------------+----------+----------+\n",
       "only showing top 20 rows\n",
       "\n"
      ]
     },
     "metadata": {
      "application/vnd.databricks.v1+output": {
       "addedWidgets": {},
       "arguments": {},
       "data": "+--------+--------+---------+-------+--------+--------+--------------------+-------------+---------+----------------+----------+----------+\n|Postcode|Latitude|Longitude|Easting|Northing| GridRef|           Town/Area|       Region|Postcodes|Active postcodes|Population|Households|\n+--------+--------+---------+-------+--------+--------+--------------------+-------------+---------+----------------+----------+----------+\n|     AB1| 57.1269| -2.13644| 391839|  804005|NJ918040|            Aberdeen|     Aberdeen|     2655|               0|      null|      null|\n|     AB2| 57.1713| -2.14152| 391541|  808948|NJ915089|            Aberdeen|     Aberdeen|     3070|               0|      null|      null|\n|     AB3| 57.0876| -2.59624| 363963|  799780|NO639997|            Aberdeen|     Aberdeen|     2168|               0|      null|      null|\n|     AB4| 57.5343| -2.12713| 392487|  849358|NJ924493|Fraserburgh, Pete...|     Aberdeen|     2956|               0|      null|      null|\n|     AB5| 57.4652| -2.64764| 361248|  841843|NJ612418|Buckie, Huntly, I...|     Aberdeen|     3002|               0|      null|      null|\n|     AB9| 57.1466|  -2.1142| 393189|  806196|NJ931061|            Aberdeen|     Aberdeen|     1066|               0|      null|      null|\n|    AB10| 57.1348| -2.11748| 392988|  804882|NJ929048|Aberdeen city cen...|     Aberdeen|      888|             675|     21964|     11517|\n|    AB11| 57.1371| -2.09341| 394445|  805136|NJ944051|Aberdeen city cen...|     Aberdeen|      889|             644|     21237|     10926|\n|    AB12| 57.1033| -2.11034| 393414|  801375|NJ934013|Aberdeen, Altens,...|     Aberdeen|      991|             782|     25414|     10688|\n|    AB13| 57.1127| -2.24469| 385279|  802443|NJ852024|          Milltimber|     Aberdeen|      100|              80|      2725|       947|\n|    AB14| 57.1033| -2.27251| 383590|  801402|NJ835014|Peterculter, Uppe...|     Aberdeen|      164|             140|      4881|      2162|\n|    AB15| 57.1388| -2.16551| 390082|  805334|NJ900053|Aberdeen, Bieldsi...|     Aberdeen|     1205|            1019|     35543|     15330|\n|    AB16| 57.1596| -2.15654| 390630|  807648|NJ906076|Aberdeen, Mastric...|     Aberdeen|      893|             776|     29238|     12874|\n|    AB21| 57.2091| -2.20174| 387912|  813165|NJ879131|Aberdeen, Blackbu...|     Aberdeen|      879|             732|     22181|      9650|\n|    AB22| 57.1864| -2.11913| 392898|  810627|NJ928106|Aberdeen, Bridge ...|     Aberdeen|      361|             300|     16311|      6978|\n|    AB23| 57.2088| -2.08971| 394680|  813118|NJ946131|Aberdeen, Balmedi...|     Aberdeen|      399|             311|     11143|      4517|\n|    AB24| 57.1634| -2.10828| 393550|  808065|NJ935080|Aberdeen, Old Abe...|     Aberdeen|      968|             808|     36343|     16935|\n|    AB25| 57.1534| -2.11422| 393189|  806953|NJ931069|Aberdeen city cen...|     Aberdeen|      610|             476|     18407|      9634|\n|    AB30|  56.846| -2.47726| 370986|  772829|NO709728|        Laurencekirk|Aberdeenshire|      349|             308|      7229|      2935|\n|    AB31| 57.0672| -2.50552| 369444|  797465|NO694974|            Banchory|Aberdeenshire|     1033|             629|     15319|      6096|\n+--------+--------+---------+-------+--------+--------+--------------------+-------------+---------+----------------+----------+----------+\nonly showing top 20 rows\n\n",
       "datasetInfos": [],
       "metadata": {},
       "removedWidgets": [],
       "type": "ansi"
      }
     },
     "output_type": "display_data"
    }
   ],
   "source": [
    "uk_post_code_df.show()"
   ]
  },
  {
   "cell_type": "code",
   "execution_count": null,
   "metadata": {
    "application/vnd.databricks.v1+cell": {
     "inputWidgets": {},
     "nuid": "2c962dd7-78f8-4989-9971-834de8298660",
     "showTitle": false,
     "title": ""
    }
   },
   "outputs": [],
   "source": [
    "df_nasa_19950801 = spark.read.format(\"csv\").option(\"delimiter\", \"\\t\").option(\"header\", \"true\").load(\"dbfs:/FileStore/shared_uploads/forgcpmak@gmail.com/nasa_19950801.tsv\")\n",
    "\n",
    "df2_nasa_19950701 = spark.read.format(\"csv\").option(\"delimiter\", \"\\t\").option(\"header\", \"true\").load(\"dbfs:/FileStore/shared_uploads/forgcpmak@gmail.com/nasa_19950701.tsv\")"
   ]
  },
  {
   "cell_type": "code",
   "execution_count": null,
   "metadata": {
    "application/vnd.databricks.v1+cell": {
     "inputWidgets": {},
     "nuid": "6b756f9e-8c43-4d4d-91d4-8b4960960b38",
     "showTitle": false,
     "title": ""
    }
   },
   "outputs": [
    {
     "data": {
      "text/plain": [
       "Out[4]: 9999"
      ]
     },
     "metadata": {
      "application/vnd.databricks.v1+output": {
       "addedWidgets": {},
       "arguments": {},
       "data": "Out[4]: 9999",
       "datasetInfos": [],
       "metadata": {},
       "removedWidgets": [],
       "type": "ansi"
      }
     },
     "output_type": "display_data"
    }
   ],
   "source": [
    "df_nasa_19950801.count()"
   ]
  },
  {
   "cell_type": "code",
   "execution_count": null,
   "metadata": {
    "application/vnd.databricks.v1+cell": {
     "inputWidgets": {},
     "nuid": "ded4cccd-9a79-4dd9-b5c5-2c9c76b1fc80",
     "showTitle": false,
     "title": ""
    }
   },
   "outputs": [
    {
     "data": {
      "text/plain": [
       "+---------------------------+-------+---------+------+---------------------------------------------------+--------+-----+\n",
       "|host                       |logname|time     |method|url                                                |response|bytes|\n",
       "+---------------------------+-------+---------+------+---------------------------------------------------+--------+-----+\n",
       "|in24.inetnebr.com          |-      |807249601|GET   |/shuttle/missions/sts-68/news/sts-68-mcc-05.txt    |200     |1839 |\n",
       "|uplherc.upl.com            |-      |807249607|GET   |/                                                  |304     |0    |\n",
       "|uplherc.upl.com            |-      |807249608|GET   |/images/ksclogo-medium.gif                         |304     |0    |\n",
       "|uplherc.upl.com            |-      |807249608|GET   |/images/MOSAIC-logosmall.gif                       |304     |0    |\n",
       "|uplherc.upl.com            |-      |807249608|GET   |/images/USA-logosmall.gif                          |304     |0    |\n",
       "|ix-esc-ca2-07.ix.netcom.com|-      |807249609|GET   |/images/launch-logo.gif                            |200     |1713 |\n",
       "|uplherc.upl.com            |-      |807249610|GET   |/images/WORLD-logosmall.gif                        |304     |0    |\n",
       "|slppp6.intermind.net       |-      |807249610|GET   |/history/skylab/skylab.html                        |200     |1687 |\n",
       "|piweba4y.prodigy.com       |-      |807249610|GET   |/images/launchmedium.gif                           |200     |11853|\n",
       "|slppp6.intermind.net       |-      |807249611|GET   |/history/skylab/skylab-small.gif                   |200     |9202 |\n",
       "|slppp6.intermind.net       |-      |807249612|GET   |/images/ksclogosmall.gif                           |200     |3635 |\n",
       "|ix-esc-ca2-07.ix.netcom.com|-      |807249612|GET   |/history/apollo/images/apollo-logo1.gif            |200     |1173 |\n",
       "|slppp6.intermind.net       |-      |807249613|GET   |/history/apollo/images/apollo-logo.gif             |200     |3047 |\n",
       "|uplherc.upl.com            |-      |807249614|GET   |/images/NASA-logosmall.gif                         |304     |0    |\n",
       "|133.43.96.45               |-      |807249616|GET   |/shuttle/missions/sts-69/mission-sts-69.html       |200     |10566|\n",
       "|kgtyk4.kj.yamagata-u.ac.jp |-      |807249617|GET   |/                                                  |200     |7280 |\n",
       "|kgtyk4.kj.yamagata-u.ac.jp |-      |807249618|GET   |/images/ksclogo-medium.gif                         |200     |5866 |\n",
       "|d0ucr6.fnal.gov            |-      |807249619|GET   |/history/apollo/apollo-16/apollo-16.html           |200     |2743 |\n",
       "|ix-esc-ca2-07.ix.netcom.com|-      |807249619|GET   |/shuttle/resources/orbiters/discovery.html         |200     |6849 |\n",
       "|d0ucr6.fnal.gov            |-      |807249620|GET   |/history/apollo/apollo-16/apollo-16-patch-small.gif|200     |14897|\n",
       "+---------------------------+-------+---------+------+---------------------------------------------------+--------+-----+\n",
       "only showing top 20 rows\n",
       "\n"
      ]
     },
     "metadata": {
      "application/vnd.databricks.v1+output": {
       "addedWidgets": {},
       "arguments": {},
       "data": "+---------------------------+-------+---------+------+---------------------------------------------------+--------+-----+\n|host                       |logname|time     |method|url                                                |response|bytes|\n+---------------------------+-------+---------+------+---------------------------------------------------+--------+-----+\n|in24.inetnebr.com          |-      |807249601|GET   |/shuttle/missions/sts-68/news/sts-68-mcc-05.txt    |200     |1839 |\n|uplherc.upl.com            |-      |807249607|GET   |/                                                  |304     |0    |\n|uplherc.upl.com            |-      |807249608|GET   |/images/ksclogo-medium.gif                         |304     |0    |\n|uplherc.upl.com            |-      |807249608|GET   |/images/MOSAIC-logosmall.gif                       |304     |0    |\n|uplherc.upl.com            |-      |807249608|GET   |/images/USA-logosmall.gif                          |304     |0    |\n|ix-esc-ca2-07.ix.netcom.com|-      |807249609|GET   |/images/launch-logo.gif                            |200     |1713 |\n|uplherc.upl.com            |-      |807249610|GET   |/images/WORLD-logosmall.gif                        |304     |0    |\n|slppp6.intermind.net       |-      |807249610|GET   |/history/skylab/skylab.html                        |200     |1687 |\n|piweba4y.prodigy.com       |-      |807249610|GET   |/images/launchmedium.gif                           |200     |11853|\n|slppp6.intermind.net       |-      |807249611|GET   |/history/skylab/skylab-small.gif                   |200     |9202 |\n|slppp6.intermind.net       |-      |807249612|GET   |/images/ksclogosmall.gif                           |200     |3635 |\n|ix-esc-ca2-07.ix.netcom.com|-      |807249612|GET   |/history/apollo/images/apollo-logo1.gif            |200     |1173 |\n|slppp6.intermind.net       |-      |807249613|GET   |/history/apollo/images/apollo-logo.gif             |200     |3047 |\n|uplherc.upl.com            |-      |807249614|GET   |/images/NASA-logosmall.gif                         |304     |0    |\n|133.43.96.45               |-      |807249616|GET   |/shuttle/missions/sts-69/mission-sts-69.html       |200     |10566|\n|kgtyk4.kj.yamagata-u.ac.jp |-      |807249617|GET   |/                                                  |200     |7280 |\n|kgtyk4.kj.yamagata-u.ac.jp |-      |807249618|GET   |/images/ksclogo-medium.gif                         |200     |5866 |\n|d0ucr6.fnal.gov            |-      |807249619|GET   |/history/apollo/apollo-16/apollo-16.html           |200     |2743 |\n|ix-esc-ca2-07.ix.netcom.com|-      |807249619|GET   |/shuttle/resources/orbiters/discovery.html         |200     |6849 |\n|d0ucr6.fnal.gov            |-      |807249620|GET   |/history/apollo/apollo-16/apollo-16-patch-small.gif|200     |14897|\n+---------------------------+-------+---------+------+---------------------------------------------------+--------+-----+\nonly showing top 20 rows\n\n",
       "datasetInfos": [],
       "metadata": {},
       "removedWidgets": [],
       "type": "ansi"
      }
     },
     "output_type": "display_data"
    }
   ],
   "source": [
    "df_nasa_19950801.show(20, truncate = False)"
   ]
  },
  {
   "cell_type": "code",
   "execution_count": null,
   "metadata": {
    "application/vnd.databricks.v1+cell": {
     "inputWidgets": {},
     "nuid": "cc44d60d-2696-423c-be17-d1f359da3a1a",
     "showTitle": false,
     "title": ""
    }
   },
   "outputs": [
    {
     "data": {
      "text/plain": [
       "+--------------------------+-----------+\n",
       "|host                      |sumofBytes |\n",
       "+--------------------------+-----------+\n",
       "|www-relay.pa-x.dec.com    |1.1675006E7|\n",
       "|www.thyssen.com           |4056290.0  |\n",
       "|130.110.74.81             |3286411.0  |\n",
       "|ircgate1.rcc-irc.si       |3181377.0  |\n",
       "|piweba3y.prodigy.com      |2852560.0  |\n",
       "|seigate.sumiden.co.jp     |2771498.0  |\n",
       "|pc121102.shef.ac.uk       |2602173.0  |\n",
       "|uplherc.upl.com           |2540660.0  |\n",
       "|box.dcs.warwick.ac.uk     |2346191.0  |\n",
       "|www-c1.proxy.aol.com      |2198197.0  |\n",
       "|193.246.121.210           |2163688.0  |\n",
       "|haraway.ucet.ufl.edu      |2146536.0  |\n",
       "|s150.phxslip4.indirect.com|2067283.0  |\n",
       "|bettong.client.uq.oz.au   |1936436.0  |\n",
       "|adam.tower.com.au         |1864419.0  |\n",
       "|139.137.217.23            |1828056.0  |\n",
       "|torben.dou.dk             |1706824.0  |\n",
       "|ncg-72.axionet.com        |1596447.0  |\n",
       "|ppp3.mtx.net.au           |1501018.0  |\n",
       "|ccn.cs.dal.ca             |1492908.0  |\n",
       "+--------------------------+-----------+\n",
       "only showing top 20 rows\n",
       "\n"
      ]
     },
     "metadata": {
      "application/vnd.databricks.v1+output": {
       "addedWidgets": {},
       "arguments": {},
       "data": "+--------------------------+-----------+\n|host                      |sumofBytes |\n+--------------------------+-----------+\n|www-relay.pa-x.dec.com    |1.1675006E7|\n|www.thyssen.com           |4056290.0  |\n|130.110.74.81             |3286411.0  |\n|ircgate1.rcc-irc.si       |3181377.0  |\n|piweba3y.prodigy.com      |2852560.0  |\n|seigate.sumiden.co.jp     |2771498.0  |\n|pc121102.shef.ac.uk       |2602173.0  |\n|uplherc.upl.com           |2540660.0  |\n|box.dcs.warwick.ac.uk     |2346191.0  |\n|www-c1.proxy.aol.com      |2198197.0  |\n|193.246.121.210           |2163688.0  |\n|haraway.ucet.ufl.edu      |2146536.0  |\n|s150.phxslip4.indirect.com|2067283.0  |\n|bettong.client.uq.oz.au   |1936436.0  |\n|adam.tower.com.au         |1864419.0  |\n|139.137.217.23            |1828056.0  |\n|torben.dou.dk             |1706824.0  |\n|ncg-72.axionet.com        |1596447.0  |\n|ppp3.mtx.net.au           |1501018.0  |\n|ccn.cs.dal.ca             |1492908.0  |\n+--------------------------+-----------+\nonly showing top 20 rows\n\n",
       "datasetInfos": [],
       "metadata": {},
       "removedWidgets": [],
       "type": "ansi"
      }
     },
     "output_type": "display_data"
    }
   ],
   "source": [
    "df_nasa_19950801.\\\n",
    "   select ('host','bytes')\\\n",
    "   .groupBy('host') \\\n",
    "   .agg(\n",
    "      sum(col('bytes')).alias('sumofBytes')\n",
    "      ) \\\n",
    "   .orderBy(col('sumofBytes').desc()) \\\n",
    "   .show(truncate = False)\n",
    "   "
   ]
  },
  {
   "cell_type": "code",
   "execution_count": null,
   "metadata": {
    "application/vnd.databricks.v1+cell": {
     "inputWidgets": {},
     "nuid": "d628360e-4803-477c-9da5-d3490d141684",
     "showTitle": false,
     "title": ""
    }
   },
   "outputs": [
    {
     "data": {
      "text/plain": [
       "+--------------------------+-----------------+\n",
       "|host                      |countofNonSuccess|\n",
       "+--------------------------+-----------------+\n",
       "|ts8-1.westwood.ts.ucla.edu|37               |\n",
       "|slmel1p63.ozemail.com.au  |35               |\n",
       "|mfm-stich4pc.amc.uva.nl   |25               |\n",
       "|dialup21.brussels.eunet.be|24               |\n",
       "|ix-pl1-08.ix.netcom.com   |20               |\n",
       "|gert.tbit.dk              |15               |\n",
       "|mage.ho.bom.gov.au        |14               |\n",
       "|ssc24.iscs.nus.sg         |14               |\n",
       "|funny.dcs.warwick.ac.uk   |14               |\n",
       "|ts01-ind-21.iquest.net    |13               |\n",
       "|rpgopher.aist.go.jp       |13               |\n",
       "|slip167.slip.uleth.ca     |13               |\n",
       "|bora.dacom.co.kr          |13               |\n",
       "|163.205.156.16            |12               |\n",
       "|ottgate2.bnr.ca           |12               |\n",
       "|nts137.dialup.hawaii.edu  |11               |\n",
       "|h96-158.ccnet.com         |11               |\n",
       "|nit1.mains.nitech.ac.jp   |10               |\n",
       "|133.68.18.180             |10               |\n",
       "|solg2.bnsc.rl.ac.uk       |10               |\n",
       "+--------------------------+-----------------+\n",
       "only showing top 20 rows\n",
       "\n"
      ]
     },
     "metadata": {
      "application/vnd.databricks.v1+output": {
       "addedWidgets": {},
       "arguments": {},
       "data": "+--------------------------+-----------------+\n|host                      |countofNonSuccess|\n+--------------------------+-----------------+\n|ts8-1.westwood.ts.ucla.edu|37               |\n|slmel1p63.ozemail.com.au  |35               |\n|mfm-stich4pc.amc.uva.nl   |25               |\n|dialup21.brussels.eunet.be|24               |\n|ix-pl1-08.ix.netcom.com   |20               |\n|gert.tbit.dk              |15               |\n|mage.ho.bom.gov.au        |14               |\n|ssc24.iscs.nus.sg         |14               |\n|funny.dcs.warwick.ac.uk   |14               |\n|ts01-ind-21.iquest.net    |13               |\n|rpgopher.aist.go.jp       |13               |\n|slip167.slip.uleth.ca     |13               |\n|bora.dacom.co.kr          |13               |\n|163.205.156.16            |12               |\n|ottgate2.bnr.ca           |12               |\n|nts137.dialup.hawaii.edu  |11               |\n|h96-158.ccnet.com         |11               |\n|nit1.mains.nitech.ac.jp   |10               |\n|133.68.18.180             |10               |\n|solg2.bnsc.rl.ac.uk       |10               |\n+--------------------------+-----------------+\nonly showing top 20 rows\n\n",
       "datasetInfos": [],
       "metadata": {},
       "removedWidgets": [],
       "type": "ansi"
      }
     },
     "output_type": "display_data"
    }
   ],
   "source": [
    "df_nasa_19950801.\\\n",
    "   select ('host','response')\\\n",
    "   .filter(df_nasa_19950801['response'].cast('int') != 200 ) \\\n",
    "   .groupBy('host') \\\n",
    "   .agg(\n",
    "      count(col('response')).alias('countofNonSuccess')\n",
    "      ) \\\n",
    "   .orderBy(col('countofNonSuccess').desc()) \\\n",
    "   .show(truncate = False)"
   ]
  },
  {
   "cell_type": "code",
   "execution_count": null,
   "metadata": {
    "application/vnd.databricks.v1+cell": {
     "inputWidgets": {},
     "nuid": "f31da607-5d76-429c-b423-be1e88f1b34a",
     "showTitle": false,
     "title": ""
    }
   },
   "outputs": [],
   "source": [
    "df_real_estate = spark.read.format(\"csv\").option(\"header\", \"true\").load(\"dbfs:/FileStore/shared_uploads/forgcpmak@gmail.com/RealEstate.csv\")"
   ]
  },
  {
   "cell_type": "code",
   "execution_count": null,
   "metadata": {
    "application/vnd.databricks.v1+cell": {
     "inputWidgets": {},
     "nuid": "89911be6-f6a9-4217-9136-8f09a52293a4",
     "showTitle": false,
     "title": ""
    }
   },
   "outputs": [
    {
     "data": {
      "text/plain": [
       "+------+----------------+----------+--------+---------+----+-----------+-----------+---------+\n",
       "|   MLS|        Location|     Price|Bedrooms|Bathrooms|Size|Price SQ Ft|     Status| PriceInt|\n",
       "+------+----------------+----------+--------+---------+----+-----------+-----------+---------+\n",
       "|154526|   Arroyo Grande|5499000.00|       4|        5|5060|    1086.76|    Regular|5499000.0|\n",
       "|154491|         Cambria|2995000.00|       5|        4|3684|     812.98|    Regular|2995000.0|\n",
       "|154463| San Luis Obispo|2369000.00|       5|        6|4174|     567.56|    Regular|2369000.0|\n",
       "|154434|         Cambria|2000000.00|       4|        4|3576|     559.28|    Regular|2000000.0|\n",
       "|152768|     Avila Beach|1999000.00|       4|        5|5307|     376.67| Short Sale|1999000.0|\n",
       "|150439|   Arroyo Grande|1900000.00|       4|        5|5411|     351.14| Short Sale|1900000.0|\n",
       "|151419|     Pismo Beach|1799000.00|       4|        4|3609|     498.48|Foreclosure|1799000.0|\n",
       "|150949|          Nipomo|1700000.00|       3|        5|4463|     380.91| Short Sale|1700000.0|\n",
       "|154533|         Bradley|1600000.00|       3|        3|2640|     606.06|    Regular|1600000.0|\n",
       "|140080|         Cayucos|1500000.00|       3|        3|3880|     386.60| Short Sale|1500000.0|\n",
       "|150143|   Arroyo Grande|1499000.00|       5|        7|6800|     220.44| Short Sale|1499000.0|\n",
       "|154466| San Luis Obispo|1490000.00|       3|        3|3201|     465.48|    Regular|1490000.0|\n",
       "|153516|          Nipomo|1399900.00|       4|        4|5190|     269.73| Short Sale|1399900.0|\n",
       "|143436|       Templeton|1399000.00|       4|        3|6500|     215.23|Foreclosure|1399000.0|\n",
       "|154516|      Santa Ynez|1395000.00|       4|        4|2693|     518.01| Short Sale|1395000.0|\n",
       "|154354|        Los Osos|1350000.00|       3|        3|2502|     539.57|    Regular|1350000.0|\n",
       "|154428|         Cambria|1290000.00|       3|        3|2130|     605.63|    Regular|1290000.0|\n",
       "|149860|          Oceano|1250000.00|       3|        3|2586|     483.37| Short Sale|1250000.0|\n",
       "|152999|        Los Osos|1249000.00|       6|        7|5103|     244.76|Foreclosure|1249000.0|\n",
       "|154410|   Arroyo Grande|1249000.00|       3|        3|2480|     503.63|    Regular|1249000.0|\n",
       "+------+----------------+----------+--------+---------+----+-----------+-----------+---------+\n",
       "only showing top 20 rows\n",
       "\n"
      ]
     },
     "metadata": {
      "application/vnd.databricks.v1+output": {
       "addedWidgets": {},
       "arguments": {},
       "data": "+------+----------------+----------+--------+---------+----+-----------+-----------+---------+\n|   MLS|        Location|     Price|Bedrooms|Bathrooms|Size|Price SQ Ft|     Status| PriceInt|\n+------+----------------+----------+--------+---------+----+-----------+-----------+---------+\n|154526|   Arroyo Grande|5499000.00|       4|        5|5060|    1086.76|    Regular|5499000.0|\n|154491|         Cambria|2995000.00|       5|        4|3684|     812.98|    Regular|2995000.0|\n|154463| San Luis Obispo|2369000.00|       5|        6|4174|     567.56|    Regular|2369000.0|\n|154434|         Cambria|2000000.00|       4|        4|3576|     559.28|    Regular|2000000.0|\n|152768|     Avila Beach|1999000.00|       4|        5|5307|     376.67| Short Sale|1999000.0|\n|150439|   Arroyo Grande|1900000.00|       4|        5|5411|     351.14| Short Sale|1900000.0|\n|151419|     Pismo Beach|1799000.00|       4|        4|3609|     498.48|Foreclosure|1799000.0|\n|150949|          Nipomo|1700000.00|       3|        5|4463|     380.91| Short Sale|1700000.0|\n|154533|         Bradley|1600000.00|       3|        3|2640|     606.06|    Regular|1600000.0|\n|140080|         Cayucos|1500000.00|       3|        3|3880|     386.60| Short Sale|1500000.0|\n|150143|   Arroyo Grande|1499000.00|       5|        7|6800|     220.44| Short Sale|1499000.0|\n|154466| San Luis Obispo|1490000.00|       3|        3|3201|     465.48|    Regular|1490000.0|\n|153516|          Nipomo|1399900.00|       4|        4|5190|     269.73| Short Sale|1399900.0|\n|143436|       Templeton|1399000.00|       4|        3|6500|     215.23|Foreclosure|1399000.0|\n|154516|      Santa Ynez|1395000.00|       4|        4|2693|     518.01| Short Sale|1395000.0|\n|154354|        Los Osos|1350000.00|       3|        3|2502|     539.57|    Regular|1350000.0|\n|154428|         Cambria|1290000.00|       3|        3|2130|     605.63|    Regular|1290000.0|\n|149860|          Oceano|1250000.00|       3|        3|2586|     483.37| Short Sale|1250000.0|\n|152999|        Los Osos|1249000.00|       6|        7|5103|     244.76|Foreclosure|1249000.0|\n|154410|   Arroyo Grande|1249000.00|       3|        3|2480|     503.63|    Regular|1249000.0|\n+------+----------------+----------+--------+---------+----+-----------+-----------+---------+\nonly showing top 20 rows\n\n",
       "datasetInfos": [],
       "metadata": {},
       "removedWidgets": [],
       "type": "ansi"
      }
     },
     "output_type": "display_data"
    }
   ],
   "source": [
    "df_real_estate \\\n",
    "   .withColumn('PriceInt',col(\"Price\").cast('double')) \\\n",
    "   .orderBy(col('PriceInt').desc())\\\n",
    "   .show()"
   ]
  },
  {
   "cell_type": "code",
   "execution_count": null,
   "metadata": {
    "application/vnd.databricks.v1+cell": {
     "inputWidgets": {},
     "nuid": "948b2795-f041-4ef7-9aba-45e5f3867f25",
     "showTitle": false,
     "title": ""
    }
   },
   "outputs": [
    {
     "data": {
      "text/plain": [
       "+-------------------+\n",
       "|           Location|\n",
       "+-------------------+\n",
       "|      Arroyo Grande|\n",
       "|         Atascadero|\n",
       "|            Bradley|\n",
       "|            Cambria|\n",
       "|            Cayucos|\n",
       "|            Creston|\n",
       "|       Grover Beach|\n",
       "|             Lompoc|\n",
       "|           Los Osos|\n",
       "|          Morro Bay|\n",
       "|             Nipomo|\n",
       "|             Oceano|\n",
       "|        Out Of Area|\n",
       "|        Paso Robles|\n",
       "|        Pismo Beach|\n",
       "|    San Luis Obispo|\n",
       "|         San Miguel|\n",
       "| Santa Maria-Orcutt|\n",
       "|            Solvang|\n",
       "|          Templeton|\n",
       "+-------------------+\n",
       "only showing top 20 rows\n",
       "\n"
      ]
     },
     "metadata": {
      "application/vnd.databricks.v1+output": {
       "addedWidgets": {},
       "arguments": {},
       "data": "+-------------------+\n|           Location|\n+-------------------+\n|      Arroyo Grande|\n|         Atascadero|\n|            Bradley|\n|            Cambria|\n|            Cayucos|\n|            Creston|\n|       Grover Beach|\n|             Lompoc|\n|           Los Osos|\n|          Morro Bay|\n|             Nipomo|\n|             Oceano|\n|        Out Of Area|\n|        Paso Robles|\n|        Pismo Beach|\n|    San Luis Obispo|\n|         San Miguel|\n| Santa Maria-Orcutt|\n|            Solvang|\n|          Templeton|\n+-------------------+\nonly showing top 20 rows\n\n",
       "datasetInfos": [],
       "metadata": {},
       "removedWidgets": [],
       "type": "ansi"
      }
     },
     "output_type": "display_data"
    }
   ],
   "source": [
    "df_real_estate \\\n",
    "   .select('Location') \\\n",
    "   .distinct() \\\n",
    "   .orderBy('Location') \\\n",
    "   .show()"
   ]
  },
  {
   "cell_type": "code",
   "execution_count": null,
   "metadata": {
    "application/vnd.databricks.v1+cell": {
     "inputWidgets": {},
     "nuid": "5bbe07ba-1ceb-4e1c-870f-86bfa592a483",
     "showTitle": false,
     "title": ""
    }
   },
   "outputs": [],
   "source": [
    "df_real_estate_intprice = df_real_estate \\\n",
    "    .withColumn('PriceInt',col(\"Price\").cast('double')) \\\n",
    "    .withColumnRenamed('Price SQ Ft','PricePerSqFt') \\\n",
    "    .withColumn('RatePerSqFtDouble',col('PricePerSqFt').cast('double')) \\\n",
    "    .drop('Price','PricePerSqFt')"
   ]
  },
  {
   "cell_type": "code",
   "execution_count": null,
   "metadata": {
    "application/vnd.databricks.v1+cell": {
     "inputWidgets": {},
     "nuid": "11adec2d-edb5-444e-a04d-8cc9a5a81823",
     "showTitle": false,
     "title": ""
    }
   },
   "outputs": [
    {
     "data": {
      "text/plain": [
       "root\n",
       " |-- MLS: string (nullable = true)\n",
       " |-- Location: string (nullable = true)\n",
       " |-- Bedrooms: string (nullable = true)\n",
       " |-- Bathrooms: string (nullable = true)\n",
       " |-- Size: string (nullable = true)\n",
       " |-- Status: string (nullable = true)\n",
       " |-- PriceInt: double (nullable = true)\n",
       " |-- RatePerSqFtDouble: double (nullable = true)\n",
       "\n"
      ]
     },
     "metadata": {
      "application/vnd.databricks.v1+output": {
       "addedWidgets": {},
       "arguments": {},
       "data": "root\n |-- MLS: string (nullable = true)\n |-- Location: string (nullable = true)\n |-- Bedrooms: string (nullable = true)\n |-- Bathrooms: string (nullable = true)\n |-- Size: string (nullable = true)\n |-- Status: string (nullable = true)\n |-- PriceInt: double (nullable = true)\n |-- RatePerSqFtDouble: double (nullable = true)\n\n",
       "datasetInfos": [],
       "metadata": {},
       "removedWidgets": [],
       "type": "ansi"
      }
     },
     "output_type": "display_data"
    }
   ],
   "source": [
    "df_real_estate_intprice.printSchema()"
   ]
  },
  {
   "cell_type": "code",
   "execution_count": null,
   "metadata": {
    "application/vnd.databricks.v1+cell": {
     "inputWidgets": {},
     "nuid": "f735f725-c699-46ae-b3ef-7eb95a09d8eb",
     "showTitle": false,
     "title": ""
    }
   },
   "outputs": [
    {
     "data": {
      "text/plain": [
       "+----------------+---------+\n",
       "|        Location| PriceInt|\n",
       "+----------------+---------+\n",
       "|   Arroyo Grande|5499000.0|\n",
       "|         Cambria|2995000.0|\n",
       "| San Luis Obispo|2369000.0|\n",
       "|     Avila Beach|1999000.0|\n",
       "|   Arroyo Grande|1900000.0|\n",
       "|     Pismo Beach|1799000.0|\n",
       "|          Nipomo|1700000.0|\n",
       "|         Bradley|1600000.0|\n",
       "|         Cayucos|1500000.0|\n",
       "|       Templeton|1399000.0|\n",
       "|      Santa Ynez|1395000.0|\n",
       "|        Los Osos|1350000.0|\n",
       "|          Oceano|1250000.0|\n",
       "|        Los Osos|1249000.0|\n",
       "|          Oceano|1195000.0|\n",
       "|     Out Of Area|1195000.0|\n",
       "|       Morro Bay|1100000.0|\n",
       "|          Nipomo|1065000.0|\n",
       "|    Grover Beach| 999000.0|\n",
       "|      Atascadero| 995000.0|\n",
       "+----------------+---------+\n",
       "only showing top 20 rows\n",
       "\n"
      ]
     },
     "metadata": {
      "application/vnd.databricks.v1+output": {
       "addedWidgets": {},
       "arguments": {},
       "data": "+----------------+---------+\n|        Location| PriceInt|\n+----------------+---------+\n|   Arroyo Grande|5499000.0|\n|         Cambria|2995000.0|\n| San Luis Obispo|2369000.0|\n|     Avila Beach|1999000.0|\n|   Arroyo Grande|1900000.0|\n|     Pismo Beach|1799000.0|\n|          Nipomo|1700000.0|\n|         Bradley|1600000.0|\n|         Cayucos|1500000.0|\n|       Templeton|1399000.0|\n|      Santa Ynez|1395000.0|\n|        Los Osos|1350000.0|\n|          Oceano|1250000.0|\n|        Los Osos|1249000.0|\n|          Oceano|1195000.0|\n|     Out Of Area|1195000.0|\n|       Morro Bay|1100000.0|\n|          Nipomo|1065000.0|\n|    Grover Beach| 999000.0|\n|      Atascadero| 995000.0|\n+----------------+---------+\nonly showing top 20 rows\n\n",
       "datasetInfos": [],
       "metadata": {},
       "removedWidgets": [],
       "type": "ansi"
      }
     },
     "output_type": "display_data"
    }
   ],
   "source": [
    "#Step #1 - Import the Window \n",
    "from pyspark.sql.window import Window\n",
    "#Stpe #2 - Import the rank function\n",
    "from pyspark.sql.functions import rank\n",
    "\n",
    "windowLocationPriceSpec  = Window \\\n",
    "                .partitionBy(col('Location'))\\\n",
    "                .orderBy(col('PriceInt').desc())\n",
    "\n",
    "df_real_estate_intprice \\\n",
    "   .withColumn('rank',rank().over(windowLocationPriceSpec)) \\\n",
    "   .filter(col('rank') == 1) \\\n",
    "   .orderBy(col('PriceInt').desc()) \\\n",
    "   .select('Location','PriceInt') \\\n",
    "   .show()"
   ]
  },
  {
   "cell_type": "code",
   "execution_count": null,
   "metadata": {
    "application/vnd.databricks.v1+cell": {
     "inputWidgets": {},
     "nuid": "3003e0f5-fe3b-4376-9bec-8205197cd258",
     "showTitle": false,
     "title": ""
    }
   },
   "outputs": [
    {
     "data": {
      "text/plain": [
       "+----------------+-----------------+\n",
       "|        Location|RatePerSqFtDouble|\n",
       "+----------------+-----------------+\n",
       "|          Oceano|          1144.64|\n",
       "|   Arroyo Grande|          1086.76|\n",
       "|     Pismo Beach|            819.4|\n",
       "|         Cambria|           812.98|\n",
       "|     Avila Beach|           686.02|\n",
       "|         Cambria|           680.58|\n",
       "|     Pismo Beach|           660.95|\n",
       "|         Bradley|           606.06|\n",
       "| San Luis Obispo|           567.56|\n",
       "|      Atascadero|            562.5|\n",
       "|        Los Osos|           539.57|\n",
       "|      Santa Ynez|           518.01|\n",
       "|       Morro Bay|           499.35|\n",
       "|         Cayucos|           483.65|\n",
       "|          Oceano|           483.37|\n",
       "|    Grover Beach|            468.2|\n",
       "| San Luis Obispo|           461.36|\n",
       "|       Morro Bay|            456.9|\n",
       "|     Paso Robles|           439.67|\n",
       "|          Nipomo|           411.18|\n",
       "+----------------+-----------------+\n",
       "only showing top 20 rows\n",
       "\n"
      ]
     },
     "metadata": {
      "application/vnd.databricks.v1+output": {
       "addedWidgets": {},
       "arguments": {},
       "data": "+----------------+-----------------+\n|        Location|RatePerSqFtDouble|\n+----------------+-----------------+\n|          Oceano|          1144.64|\n|   Arroyo Grande|          1086.76|\n|     Pismo Beach|            819.4|\n|         Cambria|           812.98|\n|     Avila Beach|           686.02|\n|         Cambria|           680.58|\n|     Pismo Beach|           660.95|\n|         Bradley|           606.06|\n| San Luis Obispo|           567.56|\n|      Atascadero|            562.5|\n|        Los Osos|           539.57|\n|      Santa Ynez|           518.01|\n|       Morro Bay|           499.35|\n|         Cayucos|           483.65|\n|          Oceano|           483.37|\n|    Grover Beach|            468.2|\n| San Luis Obispo|           461.36|\n|       Morro Bay|            456.9|\n|     Paso Robles|           439.67|\n|          Nipomo|           411.18|\n+----------------+-----------------+\nonly showing top 20 rows\n\n",
       "datasetInfos": [],
       "metadata": {},
       "removedWidgets": [],
       "type": "ansi"
      }
     },
     "output_type": "display_data"
    }
   ],
   "source": [
    "windowLocationPricePersqFtSpec  = Window \\\n",
    "                .partitionBy(col('Location'))\\\n",
    "                .orderBy(col('RatePerSqFtDouble').desc())\n",
    "\n",
    "df_real_estate_intprice \\\n",
    "   .withColumn('rank',rank().over(windowLocationPricePersqFtSpec)) \\\n",
    "   .filter(col('rank') == 1) \\\n",
    "   .orderBy(col('RatePerSqFtDouble').desc()) \\\n",
    "   .select('Location','RatePerSqFtDouble') \\\n",
    "   .show()"
   ]
  },
  {
   "cell_type": "code",
   "execution_count": null,
   "metadata": {
    "application/vnd.databricks.v1+cell": {
     "inputWidgets": {},
     "nuid": "f9f5fd90-0a25-44b5-a661-87f2ab445cca",
     "showTitle": false,
     "title": ""
    }
   },
   "outputs": [
    {
     "data": {
      "text/html": [
       "<style scoped>\n",
       "  .ansiout {\n",
       "    display: block;\n",
       "    unicode-bidi: embed;\n",
       "    white-space: pre-wrap;\n",
       "    word-wrap: break-word;\n",
       "    word-break: break-all;\n",
       "    font-family: \"Source Code Pro\", \"Menlo\", monospace;;\n",
       "    font-size: 13px;\n",
       "    color: #555;\n",
       "    margin-left: 4px;\n",
       "    line-height: 19px;\n",
       "  }\n",
       "</style>"
      ]
     },
     "metadata": {
      "application/vnd.databricks.v1+output": {
       "arguments": {},
       "data": "",
       "errorSummary": "",
       "errorTraceType": null,
       "metadata": {},
       "type": "ipynbError"
      }
     },
     "output_type": "display_data"
    }
   ],
   "source": []
  }
 ],
 "metadata": {
  "application/vnd.databricks.v1+notebook": {
   "dashboards": [],
   "language": "python",
   "notebookMetadata": {
    "pythonIndentUnit": 2
   },
   "notebookName": "my-code-base",
   "notebookOrigID": 1475158672216104,
   "widgets": {}
  },
  "kernelspec": {
   "display_name": "PySpark (Python 3.8)",
   "language": "python3",
   "name": "pyspark"
  },
  "language_info": {
   "codemirror_mode": {
    "name": "ipython",
    "version": 3
   },
   "file_extension": ".py",
   "mimetype": "text/x-python",
   "name": "python",
   "nbconvert_exporter": "python",
   "pygments_lexer": "ipython3",
   "version": "3.8.9"
  }
 },
 "nbformat": 4,
 "nbformat_minor": 4
}
