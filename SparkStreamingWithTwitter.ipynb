{
 "cells": [
  {
   "cell_type": "code",
   "execution_count": null,
   "id": "49923924-4d7e-4d9d-a03c-3ad81d349941",
   "metadata": {},
   "outputs": [],
   "source": [
    "from pyspark.sql import SparkSession"
   ]
  },
  {
   "cell_type": "code",
   "execution_count": 2,
   "id": "3902f90f-a7d6-4896-a633-c2f5fba6bf80",
   "metadata": {},
   "outputs": [],
   "source": [
    "spark = SparkSession\\\n",
    "        .builder \\\n",
    "        .config(\"spark.ui.port\", \"0\")\\\n",
    "        .config(\"spark.sql.warehouse.dir\", \"/user/forgcpmak/warehouse\")\\\n",
    "        .enableHiveSupport()\\\n",
    "        .appName('Spark Streaming')\\\n",
    "        .master('yarn')\\\n",
    "        .getOrCreate()"
   ]
  },
  {
   "cell_type": "code",
   "execution_count": 3,
   "id": "84550b1c-310b-4924-b90c-dd9f3cd4bf82",
   "metadata": {},
   "outputs": [
    {
     "data": {
      "text/html": [
       "\n",
       "            <div>\n",
       "                <p><b>SparkSession - hive</b></p>\n",
       "                \n",
       "        <div>\n",
       "            <p><b>SparkContext</b></p>\n",
       "\n",
       "            <p><a href=\"http://cca175udemy.asia-south1-c.c.august-key-324503.internal:35433\">Spark UI</a></p>\n",
       "\n",
       "            <dl>\n",
       "              <dt>Version</dt>\n",
       "                <dd><code>v3.0.3</code></dd>\n",
       "              <dt>Master</dt>\n",
       "                <dd><code>yarn</code></dd>\n",
       "              <dt>AppName</dt>\n",
       "                <dd><code>Spark Streaming</code></dd>\n",
       "            </dl>\n",
       "        </div>\n",
       "        \n",
       "            </div>\n",
       "        "
      ],
      "text/plain": [
       "<pyspark.sql.session.SparkSession at 0x7fecf61a4128>"
      ]
     },
     "execution_count": 3,
     "metadata": {},
     "output_type": "execute_result"
    }
   ],
   "source": [
    "spark"
   ]
  },
  {
   "cell_type": "code",
   "execution_count": 10,
   "id": "2000067f-3744-440a-a19d-a6b66842243f",
   "metadata": {},
   "outputs": [],
   "source": [
    "import tweepy\n",
    "import socket\n",
    "import json"
   ]
  },
  {
   "cell_type": "code",
   "execution_count": 11,
   "id": "f2dea54b-0d16-4f4e-a989-5cebbed061f8",
   "metadata": {},
   "outputs": [],
   "source": [
    "from tweepy import OAuthHandler,Stream\n",
    "from tweepy.streaming import StreamListener"
   ]
  },
  {
   "cell_type": "code",
   "execution_count": 14,
   "id": "2b9468b5-ea42-42f6-9e31-40da18f5b823",
   "metadata": {},
   "outputs": [],
   "source": [
    "consumer_key=''\n",
    "consumer_secret=''\n",
    "access_token=''\n",
    "access_secret=''"
   ]
  },
  {
   "cell_type": "code",
   "execution_count": null,
   "id": "201dbaf6-a231-49f2-8405-9e837dcae1fe",
   "metadata": {},
   "outputs": [],
   "source": []
  }
 ],
 "metadata": {
  "kernelspec": {
   "display_name": "Pyspark 2",
   "language": "python",
   "name": "pyspark2"
  },
  "language_info": {
   "codemirror_mode": {
    "name": "ipython",
    "version": 3
   },
   "file_extension": ".py",
   "mimetype": "text/x-python",
   "name": "python",
   "nbconvert_exporter": "python",
   "pygments_lexer": "ipython3",
   "version": "3.6.9"
  }
 },
 "nbformat": 4,
 "nbformat_minor": 5
}
