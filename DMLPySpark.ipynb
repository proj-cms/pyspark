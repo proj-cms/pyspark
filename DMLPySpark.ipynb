{
 "cells": [
  {
   "cell_type": "code",
   "execution_count": null,
   "id": "76a7cf1a-57ab-4b2e-813c-efcb2d7b477f",
   "metadata": {},
   "outputs": [],
   "source": [
    "from pyspark.sql import SparkSession"
   ]
  },
  {
   "cell_type": "code",
   "execution_count": null,
   "id": "74f5ab88-0ccf-4125-b85e-5c9a92a6c6c2",
   "metadata": {},
   "outputs": [],
   "source": [
    "spark = SparkSession. \\\n",
    "    builder. \\\n",
    "    config(\"spark.ui.port\", \"0\").\\\n",
    "    config(\"spark.sql.warehouse.dir\", \"/user/forgcpmak/warehouse\").\\\n",
    "    enableHiveSupport(). \\\n",
    "    appName('Spark SQL - Managing Tables - DML and Partitioning'). \\\n",
    "    master('yarn'). \\\n",
    "    getOrCreate()"
   ]
  },
  {
   "cell_type": "code",
   "execution_count": null,
   "id": "2e7e763a-0f41-4899-a99d-f80421ede94c",
   "metadata": {},
   "outputs": [],
   "source": [
    "spark"
   ]
  },
  {
   "cell_type": "code",
   "execution_count": null,
   "id": "9b3b9245-b6de-43a7-a452-519e39647fd4",
   "metadata": {},
   "outputs": [],
   "source": [
    "spark.sql('SHOW databases').show()"
   ]
  },
  {
   "cell_type": "code",
   "execution_count": null,
   "id": "9b1a1cc8-af25-4c61-8113-217c813ff6ba",
   "metadata": {},
   "outputs": [],
   "source": [
    "spark.sql(\"use retail_db\")"
   ]
  },
  {
   "cell_type": "code",
   "execution_count": null,
   "id": "09a5e384-5f49-4f40-a3f2-66fed3ba20de",
   "metadata": {},
   "outputs": [],
   "source": [
    "spark.sql(\"show tables\").show(truncate = False)"
   ]
  },
  {
   "cell_type": "code",
   "execution_count": null,
   "id": "af65b3c7-a2d1-4b18-8729-6966ddc844a0",
   "metadata": {},
   "outputs": [],
   "source": []
  }
 ],
 "metadata": {
  "kernelspec": {
   "display_name": "Pyspark 2",
   "language": "python",
   "name": "pyspark2"
  },
  "language_info": {
   "codemirror_mode": {
    "name": "ipython",
    "version": 3
   },
   "file_extension": ".py",
   "mimetype": "text/x-python",
   "name": "python",
   "nbconvert_exporter": "python",
   "pygments_lexer": "ipython3",
   "version": "3.6.9"
  }
 },
 "nbformat": 4,
 "nbformat_minor": 5
}
