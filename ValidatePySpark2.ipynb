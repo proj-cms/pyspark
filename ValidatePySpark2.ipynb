{
 "cells": [
  {
   "cell_type": "code",
   "execution_count": 1,
   "id": "a9dce306-abe9-45ac-a296-0ed0e8b00dd9",
   "metadata": {},
   "outputs": [],
   "source": [
    "from pyspark.sql import SparkSession"
   ]
  },
  {
   "cell_type": "code",
   "execution_count": 2,
   "id": "6c58d528-06af-4cce-aa62-41d72e83d4f4",
   "metadata": {},
   "outputs": [],
   "source": [
    "spark = SparkSession. \\\n",
    "    builder. \\\n",
    "    config(\"spark.sql.warehouse.dir\", \"/user/forgcpmak/warehouse\").\\\n",
    "    enableHiveSupport(). \\\n",
    "    appName('Spark SQL - Managing Tables - DML and Partitioning'). \\\n",
    "    master('yarn'). \\\n",
    "    getOrCreate()"
   ]
  },
  {
   "cell_type": "code",
   "execution_count": 5,
   "id": "95911fd7-dd72-4234-af27-d480f65f9c65",
   "metadata": {},
   "outputs": [
    {
     "data": {
      "text/html": [
       "\n",
       "            <div>\n",
       "                <p><b>SparkSession - hive</b></p>\n",
       "                \n",
       "        <div>\n",
       "            <p><b>SparkContext</b></p>\n",
       "\n",
       "            <p><a href=\"http://cca175udemy.asia-south1-c.c.august-key-324503.internal:4040\">Spark UI</a></p>\n",
       "\n",
       "            <dl>\n",
       "              <dt>Version</dt>\n",
       "                <dd><code>v3.0.3</code></dd>\n",
       "              <dt>Master</dt>\n",
       "                <dd><code>yarn</code></dd>\n",
       "              <dt>AppName</dt>\n",
       "                <dd><code>Spark SQL - Managing Tables - DML and Partitioning</code></dd>\n",
       "            </dl>\n",
       "        </div>\n",
       "        \n",
       "            </div>\n",
       "        "
      ],
      "text/plain": [
       "<pyspark.sql.session.SparkSession at 0x7f14f01f0710>"
      ]
     },
     "execution_count": 5,
     "metadata": {},
     "output_type": "execute_result"
    }
   ],
   "source": [
    "spark"
   ]
  },
  {
   "cell_type": "code",
   "execution_count": null,
   "id": "8a4310b2-533b-48b1-a1ef-e1e851562bdd",
   "metadata": {},
   "outputs": [],
   "source": []
  },
  {
   "cell_type": "code",
   "execution_count": null,
   "id": "ed48f8bf-e624-4d37-8c80-98cad23d2772",
   "metadata": {},
   "outputs": [],
   "source": [
    "spark.sql('SHOW databases').show()"
   ]
  },
  {
   "cell_type": "code",
   "execution_count": null,
   "id": "fba4d0b3-71ab-4e75-8a37-451f9f702670",
   "metadata": {},
   "outputs": [],
   "source": [
    "spark.sql(\"use retail_db\")"
   ]
  },
  {
   "cell_type": "code",
   "execution_count": null,
   "id": "48bd030a-f2ae-41f1-9f91-bc8e60c228a6",
   "metadata": {},
   "outputs": [],
   "source": [
    "spark.sql(\"show functions\").show(300, False)"
   ]
  },
  {
   "cell_type": "code",
   "execution_count": null,
   "id": "f525090c-29ef-45f8-87e0-3e6782bdf71d",
   "metadata": {},
   "outputs": [],
   "source": [
    "spark.sql(\"DESCRIBE FUNCTION substr\").show(truncate = False)"
   ]
  },
  {
   "cell_type": "code",
   "execution_count": null,
   "id": "27d76304-6ed4-4240-b21b-e36d6d67f291",
   "metadata": {},
   "outputs": [],
   "source": [
    "spark.sql(\"select current_date\").show(truncate = False)"
   ]
  },
  {
   "cell_type": "code",
   "execution_count": 13,
   "id": "6ef32c3b-f581-45c4-b368-86aa93bd211e",
   "metadata": {},
   "outputs": [],
   "source": [
    "ordersdf = spark.read. \\\n",
    "    schema(\"order_id INT, order_date STRING, order_customer_id INT, order_status STRING\"). \\\n",
    "    csv(\"/user/forgcpmak/retail_db/orders\")\n",
    "ordersdf.createOrReplaceTempView(\"orders_temp\")"
   ]
  },
  {
   "cell_type": "code",
   "execution_count": 53,
   "id": "66945bfc-50e1-4268-bc32-d86f2dc25256",
   "metadata": {},
   "outputs": [
    {
     "name": "stdout",
     "output_type": "stream",
     "text": [
      "+----------+\n",
      "|unixtime  |\n",
      "+----------+\n",
      "|1556648331|\n",
      "+----------+\n",
      "\n"
     ]
    }
   ],
   "source": [
    "spark.sql(\"\"\"\n",
    "SELECT to_unix_timestamp('2019-04-30 18:18:51') AS unixtime\n",
    "    \"\"\").show(truncate = False)"
   ]
  },
  {
   "cell_type": "code",
   "execution_count": 69,
   "id": "68cbc7a5-8fdc-41fa-b1be-2e615a60c908",
   "metadata": {},
   "outputs": [
    {
     "name": "stdout",
     "output_type": "stream",
     "text": [
      "++\n",
      "||\n",
      "++\n",
      "++\n",
      "\n"
     ]
    }
   ],
   "source": [
    "spark.sql(\"\"\"\n",
    "CREATE EXTERNAL TABLE IF NOT EXISTS orders_single_column (\n",
    "    s STRING\n",
    ") LOCATION '/user/hive/warehouse/retail_db.db/orders'\n",
    "    \"\"\").show(truncate = False)"
   ]
  },
  {
   "cell_type": "code",
   "execution_count": 71,
   "id": "75a2f4ed-0cb4-4a2a-92bc-acb532cabc7b",
   "metadata": {},
   "outputs": [
    {
     "name": "stdout",
     "output_type": "stream",
     "text": [
      "+--------+----------+-----------------+------------+\n",
      "|order_id|order_date|order_customer_id|order_status|\n",
      "+--------+----------+-----------------+------------+\n",
      "+--------+----------+-----------------+------------+\n",
      "\n"
     ]
    }
   ],
   "source": [
    "spark.sql(\"\"\"\n",
    "SELECT split(s, ',')[0] AS order_id,\n",
    "    split(s, ',')[1] AS order_date,\n",
    "    split(s, ',')[2] AS order_customer_id,\n",
    "    split(s, ',')[3] AS order_status\n",
    "FROM orders_single_column LIMIT 10\n",
    "\"\"\").show(truncate = False)"
   ]
  },
  {
   "cell_type": "code",
   "execution_count": null,
   "id": "3e9c0c44-1594-4105-a9c4-a18cc841f483",
   "metadata": {},
   "outputs": [],
   "source": [
    "spark.sql(\"\"\"\n",
    "select count(1) from (SELECT explode(split('2013-07-25', '-')) AS result) q\n",
    "    \"\"\").show(truncate = False)"
   ]
  },
  {
   "cell_type": "code",
   "execution_count": 31,
   "id": "50aeac5a-6ba9-4c52-a7ce-0c62da705819",
   "metadata": {},
   "outputs": [
    {
     "name": "stdout",
     "output_type": "stream",
     "text": [
      "+----------+\n",
      "|order_date|\n",
      "+----------+\n",
      "|2013-07-25|\n",
      "+----------+\n",
      "\n"
     ]
    }
   ],
   "source": [
    "spark.sql(\"\"\"\n",
    "SELECT concat_ws('-', year, lpad(month, 2, 0),\n",
    "              lpad(myDate, 2, 0)) AS order_date\n",
    "FROM\n",
    "    (SELECT 2013 AS year, 7 AS month, 25 AS myDate) q\n",
    "    \"\"\").show(truncate = False)"
   ]
  },
  {
   "cell_type": "code",
   "execution_count": null,
   "id": "cf3d7177-b338-4f69-811c-3f8db0b73dfc",
   "metadata": {},
   "outputs": [],
   "source": [
    "spark.sql('show tables').show()"
   ]
  },
  {
   "cell_type": "code",
   "execution_count": null,
   "id": "676b03dd-7316-49ee-b5f1-39fbfae5d2ae",
   "metadata": {},
   "outputs": [],
   "source": [
    "spark.sql('DROP TABLE orders').show()"
   ]
  },
  {
   "cell_type": "code",
   "execution_count": null,
   "id": "c022cbec-c19d-49a4-b1d0-cb574a7b0e1b",
   "metadata": {},
   "outputs": [],
   "source": [
    "spark.sql('SELECT current_database()').show()"
   ]
  },
  {
   "cell_type": "code",
   "execution_count": null,
   "id": "bd7f016e-67df-4b84-af0f-357a3bc398cd",
   "metadata": {},
   "outputs": [],
   "source": [
    "spark.sql(\"\"\"\n",
    "CREATE TABLE IF NOT EXISTS retail_db.orders (\n",
    "  order_id INT,\n",
    "  order_date STRING,\n",
    "  order_customer_id INT,\n",
    "  order_status STRING\n",
    ") \n",
    "ROW FORMAT \n",
    "     DELIMITED FIELDS TERMINATED BY ','\n",
    "\"\"\"\n",
    "         )"
   ]
  },
  {
   "cell_type": "code",
   "execution_count": null,
   "id": "247f8c3d-163f-4792-b498-62f2cea9e527",
   "metadata": {},
   "outputs": [],
   "source": [
    "spark.sql(\"\"\"\n",
    "LOAD DATA LOCAL INPATH '/home/forgcpmak/retail_db/orders'\n",
    "    OVERWRITE INTO TABLE orders\n",
    "    \"\"\")"
   ]
  },
  {
   "cell_type": "code",
   "execution_count": null,
   "id": "56224af6-4cf3-4bfc-b62d-931bfc92c78a",
   "metadata": {},
   "outputs": [],
   "source": [
    "spark.sql('SELECT count(1) FROM retail_db.orders').show()"
   ]
  },
  {
   "cell_type": "code",
   "execution_count": null,
   "id": "c01ce9fd-3ee2-4841-afcd-6ec44a34a665",
   "metadata": {},
   "outputs": [],
   "source": [
    "spark.sql('DROP TABLE IF EXISTS order_items').show()"
   ]
  },
  {
   "cell_type": "code",
   "execution_count": null,
   "id": "c0043043-b922-499a-9cf1-aea7376f44dc",
   "metadata": {},
   "outputs": [],
   "source": [
    "spark.sql(\"\"\"\n",
    "CREATE TABLE order_items (\n",
    "  order_item_id INT,\n",
    "  order_item_order_id INT,\n",
    "  order_item_product_id INT,\n",
    "  order_item_quantity INT,\n",
    "  order_item_subtotal FLOAT,\n",
    "  order_item_product_price FLOAT\n",
    ") STORED AS parquet\n",
    "          \n",
    "          \"\"\").show()"
   ]
  },
  {
   "cell_type": "code",
   "execution_count": null,
   "id": "07ddf788-acab-4a11-9edf-834b2dbd32d6",
   "metadata": {},
   "outputs": [],
   "source": [
    "spark.sql(\"DESCRIBE FORMATTED order_items\").show(truncate = False)"
   ]
  },
  {
   "cell_type": "code",
   "execution_count": null,
   "id": "2d7eefba-b016-4cab-b0a7-8be25e26898e",
   "metadata": {},
   "outputs": [],
   "source": [
    "spark.sql(\"\"\"\n",
    "CREATE TABLE If NOT EXISTS retail_db.order_items_stage (\n",
    "  order_item_id INT,\n",
    "  order_item_order_id INT,\n",
    "  order_item_product_id INT,\n",
    "  order_item_quantity INT,\n",
    "  order_item_subtotal FLOAT,\n",
    "  order_item_product_price FLOAT\n",
    ") ROW FORMAT \n",
    "   DELIMITED FIELDS TERMINATED BY ','\n",
    "   \"\"\")\n"
   ]
  },
  {
   "cell_type": "code",
   "execution_count": null,
   "id": "e419697c-31e1-42b4-a965-f15f514c1b93",
   "metadata": {},
   "outputs": [],
   "source": [
    "spark.sql(\"select * from retail_db.order_items_stage\").show()"
   ]
  },
  {
   "cell_type": "code",
   "execution_count": null,
   "id": "9b280501-25ab-4576-a4b9-330263a92dfe",
   "metadata": {},
   "outputs": [],
   "source": [
    "spark.sql(\"LOAD DATA LOCAL INPATH '/home/forgcpmak/retail_db/order_items' INTO TABLE retail_db.order_items_stage\")"
   ]
  },
  {
   "cell_type": "code",
   "execution_count": null,
   "id": "3bbbd3b6-1ce9-420c-97af-edc6194faf46",
   "metadata": {},
   "outputs": [],
   "source": [
    "spark.sql(\"SELECT count(1) FROM retail_db.order_items_stage\").show()"
   ]
  },
  {
   "cell_type": "code",
   "execution_count": null,
   "id": "978713b2-66d6-4619-8765-24ef76e7407d",
   "metadata": {},
   "outputs": [],
   "source": [
    "spark.sql(\"\"\"\n",
    "INSERT INTO TABLE order_items\n",
    "SELECT * FROM order_items_stage\n",
    "\"\"\"\n",
    "         ).show()\n"
   ]
  },
  {
   "cell_type": "code",
   "execution_count": null,
   "id": "68f6810f-152b-4f03-8e02-d79d6436887e",
   "metadata": {},
   "outputs": [],
   "source": [
    "spark.sql(\"SELECT count(1) FROM order_items\").show()"
   ]
  },
  {
   "cell_type": "code",
   "execution_count": null,
   "id": "51ecf405-b3df-4a9b-813f-dc34ac24f109",
   "metadata": {},
   "outputs": [],
   "source": [
    "spark.sql(\"\"\"\n",
    "INSERT INTO TABLE order_items\n",
    "SELECT * FROM order_items_stage\n",
    "\"\"\"\n",
    "         ).show()"
   ]
  },
  {
   "cell_type": "code",
   "execution_count": null,
   "id": "4342cb51-4871-4322-a756-6fbcd861b3f3",
   "metadata": {},
   "outputs": [],
   "source": [
    "spark.sql(\"SELECT count(1) FROM retail_db.order_items\").show()"
   ]
  },
  {
   "cell_type": "code",
   "execution_count": null,
   "id": "5ee3eee2-ee18-4755-aafe-ece3dc6f4525",
   "metadata": {},
   "outputs": [],
   "source": [
    "spark.sql(\"\"\"\n",
    "INSERT OVERWRITE TABLE order_items\n",
    "SELECT * FROM order_items_stage\n",
    "\"\"\"\n",
    "         ).show()"
   ]
  },
  {
   "cell_type": "code",
   "execution_count": null,
   "id": "1354b1b6-16d6-4bd5-8398-bdf3e4c892df",
   "metadata": {},
   "outputs": [],
   "source": [
    "spark.sql(\"SELECT count(1) FROM retail_db.order_items\").show()"
   ]
  },
  {
   "cell_type": "code",
   "execution_count": null,
   "id": "c2f635d1-cab3-4b21-8d99-745948d45ba8",
   "metadata": {},
   "outputs": [],
   "source": [
    "--- this completes the loading data from staging to parquet table ----"
   ]
  },
  {
   "cell_type": "code",
   "execution_count": null,
   "id": "a0604f15-76e9-4561-ad03-581a407bfcfc",
   "metadata": {},
   "outputs": [],
   "source": [
    "---- start for partition table creation. ----\n"
   ]
  },
  {
   "cell_type": "code",
   "execution_count": null,
   "id": "83f0c9f3-9f70-4e31-b353-bb5416b08591",
   "metadata": {},
   "outputs": [],
   "source": [
    "spark.sql(\"\"\"DROP TABLE IF EXISTS orders_part\"\"\")"
   ]
  },
  {
   "cell_type": "code",
   "execution_count": null,
   "id": "1082ccfd-556b-41dc-b61c-be416f3a1f18",
   "metadata": {},
   "outputs": [],
   "source": [
    "spark.sql(\"\"\"\n",
    "CREATE TABLE orders_part (\n",
    "  order_id INT,\n",
    "  order_date STRING,\n",
    "  order_customer_id INT,\n",
    "  order_status STRING\n",
    ") PARTITIONED BY (order_month INT)\n",
    "ROW FORMAT DELIMITED FIELDS TERMINATED BY ','\n",
    "\"\"\"\n",
    "         )"
   ]
  },
  {
   "cell_type": "code",
   "execution_count": null,
   "id": "26e73969-738b-41b3-bb3c-c8020e573ec9",
   "metadata": {},
   "outputs": [],
   "source": [
    "spark.sql(\"SELECT * FROM orders_part\").show(truncate = False)"
   ]
  },
  {
   "cell_type": "code",
   "execution_count": null,
   "id": "80a161da-3ec1-421f-b8ce-3019fb30c992",
   "metadata": {},
   "outputs": [],
   "source": [
    "spark.sql(\"DESCRIBE FORMATTED orders_part\").show(200, False)"
   ]
  },
  {
   "cell_type": "code",
   "execution_count": null,
   "id": "9902ef49-c287-4b96-b91d-26abe61eb9c5",
   "metadata": {},
   "outputs": [],
   "source": [
    "spark.sql(\"\"\"\n",
    "ALTER TABLE orders_part ADD\n",
    "    PARTITION (order_month=201308)\n",
    "    PARTITION (order_month=201309)\n",
    "    PARTITION (order_month=201310)\n",
    "    \"\"\")"
   ]
  },
  {
   "cell_type": "code",
   "execution_count": null,
   "id": "dd86d0f8-f326-4d3d-8c56-1a36b71c8a4d",
   "metadata": {},
   "outputs": [],
   "source": [
    "spark.sql(\"\"\"\n",
    "CREATE TABLE orders_part_string (\n",
    "  order_id INT,\n",
    "  order_date STRING,\n",
    "  order_customer_id INT,\n",
    "  order_status STRING\n",
    ") PARTITIONED BY (order_month STRING)\n",
    "ROW FORMAT DELIMITED FIELDS TERMINATED BY ','\n",
    "\"\"\")"
   ]
  },
  {
   "cell_type": "code",
   "execution_count": null,
   "id": "557db35c-7f18-4c3c-a929-0ddfe72e8a66",
   "metadata": {},
   "outputs": [],
   "source": [
    "spark.sql(\"\"\"\n",
    "ALTER TABLE orders_part_string ADD PARTITION (order_month='2013-07')\n",
    "\"\"\")"
   ]
  },
  {
   "cell_type": "code",
   "execution_count": null,
   "id": "90cab62e-6ac9-404a-a841-8a642c765482",
   "metadata": {},
   "outputs": [],
   "source": [
    "spark.sql(\"\"\"\n",
    "ALTER TABLE orders_part_string ADD\n",
    "    PARTITION (order_month='201308')\n",
    "    PARTITION (order_month='201309')\n",
    "    PARTITION (order_month='201310')\n",
    "    \"\"\")"
   ]
  },
  {
   "cell_type": "code",
   "execution_count": null,
   "id": "faac6120-38ff-4a27-ba00-3bdf08b8c379",
   "metadata": {},
   "outputs": [],
   "source": [
    "spark.sql(\"\"\"SET hive.exec.dynamic.partition=true\"\"\")"
   ]
  },
  {
   "cell_type": "code",
   "execution_count": null,
   "id": "2f7318b9-dce4-4691-adc1-d6aa0adf5abe",
   "metadata": {},
   "outputs": [],
   "source": [
    "spark.sql(\"\"\"SET hive.exec.dynamic.partition.mode=nonstrict\"\"\")"
   ]
  },
  {
   "cell_type": "code",
   "execution_count": null,
   "id": "5c1cbc1f-35ce-42b2-a16c-cdbfd6be94b1",
   "metadata": {},
   "outputs": [],
   "source": [
    "spark.sql(\"\"\"\n",
    "INSERT INTO TABLE orders_part_string PARTITION (order_month)\n",
    "SELECT o.*, date_format(order_date, 'yyyyMM') order_month\n",
    "FROM orders o\n",
    "WHERE order_date >= '2013-12-01 00:00:00.0'\n",
    "\"\"\"\n",
    "         )"
   ]
  },
  {
   "cell_type": "code",
   "execution_count": null,
   "id": "56af2b02-a247-4c06-aa0c-e6142ecf7c88",
   "metadata": {},
   "outputs": [],
   "source": [
    "spark.sql(\"\"\"\n",
    "select count(1) from orders_part_string\n",
    "\"\"\").show()"
   ]
  },
  {
   "cell_type": "code",
   "execution_count": null,
   "id": "65e6b24b-6a67-4c99-b20d-0da5e3e8a007",
   "metadata": {},
   "outputs": [],
   "source": [
    "--- start from here for spark sql functions -----"
   ]
  },
  {
   "cell_type": "code",
   "execution_count": null,
   "id": "b9d05084-9fe6-45d2-a3f7-1c934db76cb3",
   "metadata": {},
   "outputs": [],
   "source": [
    "spark.sql(\"\"\"\n",
    "CREATE EXTERNAL TABLE orders (\n",
    "  order_id INT COMMENT 'Unique order id',\n",
    "  order_date STRING COMMENT 'Date on which order is placed',\n",
    "  order_customer_id INT COMMENT 'Customer id who placed the order',\n",
    "  order_status STRING COMMENT 'Current status of the order'\n",
    ") COMMENT 'Table to save order level details'\n",
    "ROW FORMAT DELIMITED FIELDS TERMINATED BY ','\n",
    "LOCATION '/user/forgcpmak/external/retail_db/orders'\n",
    "\"\"\"\n",
    "         ).show()"
   ]
  },
  {
   "cell_type": "code",
   "execution_count": null,
   "id": "c0e10c45-21ea-4334-b971-47bc26b5cd7d",
   "metadata": {},
   "outputs": [],
   "source": []
  },
  {
   "cell_type": "code",
   "execution_count": null,
   "id": "289b251b-c0f5-4332-90ba-b5bb15b91371",
   "metadata": {},
   "outputs": [],
   "source": []
  },
  {
   "cell_type": "code",
   "execution_count": null,
   "id": "91f5b586-7abd-41fa-b440-6d6573980b98",
   "metadata": {},
   "outputs": [],
   "source": [
    "spark.sql(\"\"\"\n",
    "CREATE EXTERNAL TABLE orders_in_parquet (\n",
    "  order_id INT COMMENT 'Unique order id',\n",
    "  order_date STRING COMMENT 'Date on which order is placed',\n",
    "  order_customer_id INT COMMENT 'Customer id who placed the order',\n",
    "  order_status STRING COMMENT 'Current status of the order'\n",
    ") COMMENT 'Table to save order level details'\n",
    "STORED AS parquet\n",
    "LOCATION '/user/forgcpmak/external/retail_db/orders_in_parquet'\n",
    "\"\"\"\n",
    "         ).show()"
   ]
  },
  {
   "cell_type": "code",
   "execution_count": null,
   "id": "36841ed9-6fa8-4f87-b0c3-68bd394a21e0",
   "metadata": {},
   "outputs": [],
   "source": [
    "e=spark.read.text(\"/user/forgcpmak/retail_db/orders\")\n",
    "\n",
    "df = spark.read.csv('/user/forgcpmak/retail_db/orders', header = False)\n",
    "df.repartition(1).write.mode('overwrite').parquet('/user/forgcpmak/retail_db/orders_parquet')"
   ]
  },
  {
   "cell_type": "code",
   "execution_count": null,
   "id": "badb3401-346c-4d48-a33f-d60cf6caef55",
   "metadata": {},
   "outputs": [],
   "source": [
    "e.show(truncate = False)"
   ]
  },
  {
   "cell_type": "code",
   "execution_count": null,
   "id": "9e0b0d61-83ad-4cfb-9fd3-abc271a2577d",
   "metadata": {},
   "outputs": [],
   "source": [
    "df.show()"
   ]
  },
  {
   "cell_type": "code",
   "execution_count": null,
   "id": "d4faf137-b095-49f2-a947-55e75eb76d35",
   "metadata": {},
   "outputs": [],
   "source": [
    "df.write.format(\"parquet\").insertInto(\"orders_in_parquet\") "
   ]
  },
  {
   "cell_type": "code",
   "execution_count": null,
   "id": "20780ce8-81f4-4966-9980-46ec42f160a1",
   "metadata": {},
   "outputs": [],
   "source": []
  },
  {
   "cell_type": "code",
   "execution_count": null,
   "id": "12704f23-79bc-4293-80e1-d3e13273d1f0",
   "metadata": {},
   "outputs": [],
   "source": [
    "from pyspark.sql.functions import split,col\n",
    "\n",
    "spark.sql(\"SET hive.mapred.supports.subdirectories=TRUE\")\n",
    "spark.sql(\"SET mapred.input.dir.recursive=TRUE\")"
   ]
  },
  {
   "cell_type": "code",
   "execution_count": null,
   "id": "580b4e05-bd34-4540-b6cb-d1a390e36c3c",
   "metadata": {},
   "outputs": [],
   "source": [
    "spark.sql('SET hive.support.quoted.identifiers=none')"
   ]
  },
  {
   "cell_type": "code",
   "execution_count": null,
   "id": "5b891112-bc81-4f19-9e72-5e1906490173",
   "metadata": {},
   "outputs": [],
   "source": [
    "spark.sql(\"LOAD DATA  INPATH '/user/forgcpmak/retail_db/orders_parquet/part-00000-37a022b9-4666-4a31-b27b-9628ed5cee90-c000.snappy.parquet' INTO TABLE orders_in_parquet\")"
   ]
  },
  {
   "cell_type": "code",
   "execution_count": null,
   "id": "1f7cc494-c01c-42d6-b47f-c7b6946e0aab",
   "metadata": {},
   "outputs": [],
   "source": [
    "spark.sql(\"DESCRIBE extended orders_in_parquet\").show(truncate = False)"
   ]
  },
  {
   "cell_type": "code",
   "execution_count": null,
   "id": "dedb922a-5bd3-4816-b9ea-2baad2137c03",
   "metadata": {},
   "outputs": [],
   "source": [
    "spark.sql(\"select * from orders_in_parquet\").show(truncate = False)"
   ]
  },
  {
   "cell_type": "code",
   "execution_count": null,
   "id": "f14151d5-91ab-4919-87ad-b60fd7345197",
   "metadata": {},
   "outputs": [],
   "source": [
    "spark.sql(\"\"\"\n",
    "SELECT order_customer_id, \n",
    "    date_format(order_date, 'yyyy-MM'), \n",
    "    order_status \n",
    "FROM orders\"\"\").show()"
   ]
  },
  {
   "cell_type": "code",
   "execution_count": null,
   "id": "4069d972-8853-4727-9399-57b986d62b35",
   "metadata": {},
   "outputs": [],
   "source": [
    "spark.sql(\"\"\"SELECT * FROM orders WHERE order_status = 'COMPLETE' LIMIT 10\"\"\").show(truncate = False)"
   ]
  },
  {
   "cell_type": "code",
   "execution_count": null,
   "id": "47d65180-f221-4904-94fb-c42c339b06d7",
   "metadata": {},
   "outputs": [],
   "source": [
    "spark.sql(\"SELECT * FROM orders WHERE order_status IN ('COMPLETE', 'CLOSED')\").show(truncate = False)"
   ]
  },
  {
   "cell_type": "code",
   "execution_count": null,
   "id": "7c4efb0b-8100-494a-bd2d-d59bd10fb6ff",
   "metadata": {},
   "outputs": [],
   "source": [
    "spark.sql(\"\"\"\n",
    "SELECT count(1) FROM orders\n",
    "WHERE order_status = 'COMPLETE' OR order_status = 'CLOSED'\n",
    "\"\"\").show(truncate = False)"
   ]
  },
  {
   "cell_type": "code",
   "execution_count": null,
   "id": "920fe98f-4483-42c0-88ab-ef8e7f447fa8",
   "metadata": {},
   "outputs": [],
   "source": [
    "spark.sql(\"\"\"\n",
    "SELECT * FROM orders \n",
    "WHERE order_status IN ('COMPLETE', 'CLOSED')\n",
    "    AND date_format(order_date, 'yyyy-MM') = '2014-01'\n",
    "\"\"\").show(truncate = False)"
   ]
  },
  {
   "cell_type": "code",
   "execution_count": null,
   "id": "0586c7f0-04ec-4282-9efa-46d760212b01",
   "metadata": {},
   "outputs": [],
   "source": [
    "spark.sql(\"\"\"\n",
    "SELECT * FROM orders \n",
    "WHERE order_status IN ('COMPLETE', 'CLOSED')\n",
    "    AND order_date LIKE '2014-01%'\n",
    "\"\"\").show(truncate = False)"
   ]
  },
  {
   "cell_type": "code",
   "execution_count": null,
   "id": "6bdc10c4-3290-4dd2-97f6-ff3652f0c8ed",
   "metadata": {},
   "outputs": [],
   "source": [
    "spark.sql(\"DROP DATABASE IF EXISTS forgcpmak_sms CASCADE\")"
   ]
  },
  {
   "cell_type": "code",
   "execution_count": null,
   "id": "eb2ce472-3ca4-43d4-ac0e-0151bf930aa3",
   "metadata": {},
   "outputs": [],
   "source": [
    "spark.sql(\"CREATE DATABASE IF NOT EXISTS  forgcpmak_sms\")"
   ]
  },
  {
   "cell_type": "code",
   "execution_count": null,
   "id": "0c4378c8-0349-4ef9-8383-6c13f5b00402",
   "metadata": {},
   "outputs": [],
   "source": [
    "spark.sql(\"\"\"\n",
    "CREATE TABLE students (\n",
    "    student_id INT,\n",
    "    student_first_name STRING,\n",
    "    student_last_name STRING,\n",
    "    student_phone_number STRING,\n",
    "    student_address STRING\n",
    ") STORED AS avro\n",
    "\"\"\")"
   ]
  },
  {
   "cell_type": "code",
   "execution_count": null,
   "id": "7538b9a8-bd19-480d-baec-a01b83ec4a95",
   "metadata": {},
   "outputs": [],
   "source": [
    "spark.sql(\"\"\"\n",
    "INSERT INTO students VALUES (1, 'Scott', 'Tiger', NULL, NULL)\n",
    "\"\"\").show()"
   ]
  },
  {
   "cell_type": "code",
   "execution_count": null,
   "id": "0a2df0b9-2026-4216-907d-7c6d443d161e",
   "metadata": {},
   "outputs": [],
   "source": [
    "spark.sql(\"\"\"\n",
    "INSERT INTO students VALUES\n",
    "   (2, 'Donald', 'Duck', '1234567890', NULL),\n",
    "    (3, 'Mickey', 'Mouse', '2345678901', 'A Street, One City, Some State, 12345'),\n",
    "    (4, 'Bubble', 'Guppy', '6789012345', 'Bubbly Street, Guppy, La la land, 45678')\n",
    "   \"\"\").show()\n"
   ]
  },
  {
   "cell_type": "code",
   "execution_count": null,
   "id": "73f4716d-3ec2-4105-bb7f-a85300cea526",
   "metadata": {},
   "outputs": [],
   "source": [
    " spark.sql(\"SELECT * FROM students\").show()"
   ]
  },
  {
   "cell_type": "code",
   "execution_count": null,
   "id": "ad5bac86-6207-4190-946f-364f6f97b12d",
   "metadata": {},
   "outputs": [],
   "source": [
    "spark.sql(\"\"\"\n",
    "SELECT * FROM students \n",
    "WHERE student_phone_number = NULL\n",
    "\"\"\").show()"
   ]
  },
  {
   "cell_type": "code",
   "execution_count": null,
   "id": "ede044ad-35d8-41dd-8fd2-3bd6591fc454",
   "metadata": {},
   "outputs": [],
   "source": [
    "spark.sql(\"\"\"\n",
    "SELECT * FROM students\n",
    "WHERE student_phone_number IS NULL\n",
    "\"\"\").show()"
   ]
  },
  {
   "cell_type": "code",
   "execution_count": null,
   "id": "1308ef11-a1c4-45fb-9ae1-0f9cb933c03a",
   "metadata": {},
   "outputs": [],
   "source": [
    "spark.sql(\"\"\"\n",
    "SELECT o.order_id,\n",
    "    o.order_date,\n",
    "    o.order_status,\n",
    "    oi.order_item_subtotal\n",
    "FROM orders o JOIN order_items oi\n",
    "    ON o.order_id = oi.order_item_order_id\n",
    "LIMIT 10\n",
    "\"\"\").show(truncate = False)"
   ]
  },
  {
   "cell_type": "code",
   "execution_count": null,
   "id": "025c49ea-8c70-45e4-ab52-f6ce35e3a322",
   "metadata": {},
   "outputs": [],
   "source": [
    "spark.sql(\"\"\"\n",
    "SELECT o.order_id,\n",
    "    o.order_date,\n",
    "    o.order_status,\n",
    "    oi.order_item_subtotal\n",
    "FROM orders o JOIN order_items oi\n",
    "    ON o.order_id = oi.order_item_order_id\n",
    "WHERE o.order_status != 'PENDING_PAYMENT'\n",
    "LIMIT 10\n",
    "\"\"\").show(truncate = False)"
   ]
  },
  {
   "cell_type": "code",
   "execution_count": null,
   "id": "27a39ecb-0f34-47d5-b0aa-6be9db8e8672",
   "metadata": {},
   "outputs": [],
   "source": [
    "spark.sql(\"\"\"\n",
    "SELECT o.order_id,\n",
    "    o.order_date,\n",
    "    o.order_status,\n",
    "    oi.order_item_subtotal\n",
    "FROM orders o JOIN order_items oi\n",
    "    ON o.order_id = oi.order_item_order_id\n",
    "WHERE o.order_status != 'PENDING_PAYMENT'\n",
    "LIMIT 10\n",
    "\"\"\").show(truncate = False)"
   ]
  },
  {
   "cell_type": "code",
   "execution_count": null,
   "id": "a6abc14c-3180-4091-a133-36fabbb6fded",
   "metadata": {},
   "outputs": [],
   "source": [
    "spark.sql(\"SELECT count(DISTINCT order_date) FROM orders\").show()"
   ]
  },
  {
   "cell_type": "code",
   "execution_count": null,
   "id": "387b8334-43e7-416c-9c7f-9d7cdee84e95",
   "metadata": {},
   "outputs": [],
   "source": [
    "spark.sql(\"\"\"\n",
    "SELECT round(sum(order_item_subtotal), 2) AS order_revenue\n",
    "FROM order_items \n",
    "WHERE order_item_order_id = 2\n",
    "\"\"\").show(truncate = False)"
   ]
  },
  {
   "cell_type": "code",
   "execution_count": null,
   "id": "f3c28965-659c-4707-9076-6e80df6e11ad",
   "metadata": {},
   "outputs": [],
   "source": [
    "spark.sql(\"\"\"\n",
    "SELECT order_date,\n",
    "    count(1)\n",
    "FROM orders\n",
    "GROUP BY order_date\n",
    "having count(1) > 50\n",
    "order by 2\n",
    "\"\"\").show(truncate = False)"
   ]
  },
  {
   "cell_type": "code",
   "execution_count": null,
   "id": "a61b5289-100f-48ea-a2e8-0f4e94e777aa",
   "metadata": {},
   "outputs": [],
   "source": [
    "spark.sql(\"\"\"\n",
    "SELECT o.order_date,\n",
    "       oi.order_item_product_id,\n",
    "       round(sum(oi.order_item_subtotal), 2) AS revenue\n",
    "FROM   orders o \n",
    "\n",
    "JOIN order_items oi\n",
    "ON o.order_id = oi.order_item_order_id\n",
    "\n",
    "WHERE o.order_status IN ('COMPLETE', 'CLOSED')\n",
    "\n",
    "GROUP BY \n",
    "        o.order_date,\n",
    "       oi.order_item_product_id\n",
    "\"\"\").show(truncate = False)"
   ]
  },
  {
   "cell_type": "code",
   "execution_count": null,
   "id": "c33d6de9-09d3-4f6a-9c3f-582499fe9cd0",
   "metadata": {},
   "outputs": [],
   "source": [
    "spark.sql(\"\"\"\n",
    "SELECT o.order_date,\n",
    "    oi.order_item_product_id,\n",
    "    round(sum(oi.order_item_subtotal), 2) AS revenue\n",
    "FROM orders o JOIN order_items oi\n",
    "    ON o.order_id = oi.order_item_order_id\n",
    "WHERE o.order_status IN ('COMPLETE', 'CLOSED')\n",
    "GROUP BY o.order_date,\n",
    "    oi.order_item_product_id\n",
    "ORDER BY o.order_date,\n",
    "    revenue DESC\n",
    "\"\"\").show()"
   ]
  },
  {
   "cell_type": "code",
   "execution_count": null,
   "id": "8e452e83-33bb-4d23-9dcf-987205fbaa62",
   "metadata": {},
   "outputs": [],
   "source": [
    "spark.sql(\"describe extended orders\").show(truncate = False);"
   ]
  },
  {
   "cell_type": "code",
   "execution_count": null,
   "id": "0b496a9d-a297-4919-a145-5f1f4e0a674a",
   "metadata": {},
   "outputs": [],
   "source": [
    "spark.sql(\"\"\"\n",
    "SELECT * FROM orders\n",
    "ORDER BY order_customer_id,\n",
    "    order_date DESC\n",
    "\"\"\").show(truncate = False)"
   ]
  },
  {
   "cell_type": "code",
   "execution_count": null,
   "id": "0e8d3e84-4b7c-4d49-931c-e06166eb2d4e",
   "metadata": {},
   "outputs": [],
   "source": [
    "spark.sql(\"\"\"\n",
    "CREATE TABLE orders_in_parquet(\n",
    "  order_id INT,\n",
    "  order_date STRING,\n",
    "  order_customer_id INT,\n",
    "  order_status STRING\n",
    ") \n",
    "stored as parquet\n",
    "\"\"\")"
   ]
  },
  {
   "cell_type": "code",
   "execution_count": null,
   "id": "11eb5062-fc2c-4151-abae-56af7de37ef7",
   "metadata": {},
   "outputs": [],
   "source": [
    "spark.sql(\"LOAD DATA LOCAL INPATH '/home/forgcpmak/retail_db/orders' INTO TABLE orders_in_parquet\")\n",
    "\n",
    "/*\n",
    "does not work \n",
    "*/"
   ]
  },
  {
   "cell_type": "code",
   "execution_count": null,
   "id": "62b80cbe-ce04-4270-b72b-a6e5e5053905",
   "metadata": {},
   "outputs": [],
   "source": [
    "spark.sql(\"show databases\").show()"
   ]
  },
  {
   "cell_type": "code",
   "execution_count": null,
   "id": "6358b378-2960-4656-9b1c-aabc0f85ad5b",
   "metadata": {},
   "outputs": [],
   "source": [
    "spark.sql(\"use forgcpmak_sms\")"
   ]
  },
  {
   "cell_type": "code",
   "execution_count": null,
   "id": "8bdb6f66-e3a2-4c53-a671-4bec2a264ea9",
   "metadata": {},
   "outputs": [],
   "source": [
    "spark.sql(\"show tables\").show()"
   ]
  },
  {
   "cell_type": "code",
   "execution_count": null,
   "id": "298d732d-4b39-4364-8901-572eb3a9abe0",
   "metadata": {},
   "outputs": [],
   "source": [
    "spark.sql(\"\"\"\n",
    "CREATE TABLE students (\n",
    "    student_id INT,\n",
    "    student_first_name STRING,\n",
    "    student_last_name STRING,\n",
    "    student_phone_numbers ARRAY<STRING>,\n",
    "    student_address STRUCT<street:STRING, city:STRING, state:STRING, zip:STRING>\n",
    ") STORED AS TEXTFILE\n",
    "ROW FORMAT\n",
    "    DELIMITED FIELDS TERMINATED BY '\\t'\n",
    "    COLLECTION ITEMS TERMINATED BY ','\n",
    "    \"\"\")"
   ]
  },
  {
   "cell_type": "code",
   "execution_count": null,
   "id": "4f108355-8351-4589-a8d6-23ae5c70db64",
   "metadata": {},
   "outputs": [],
   "source": [
    "spark.sql(\"DESCRIBE fromatted students\").show(truncate = False)"
   ]
  },
  {
   "cell_type": "code",
   "execution_count": null,
   "id": "7cb3110d-29ef-448c-84b7-3d48ef044b6b",
   "metadata": {},
   "outputs": [],
   "source": [
    "spark.sql(\"\"\"\n",
    "INSERT INTO students VALUES (2, 'Donald', 'Duck', ARRAY('1234567890', '2345678901'), NULL)\n",
    "\"\"\")"
   ]
  },
  {
   "cell_type": "code",
   "execution_count": null,
   "id": "90c9154b-8ff0-4d73-ad1f-95073e3344d1",
   "metadata": {},
   "outputs": [],
   "source": [
    "spark.sql(\"select * from students\").show(truncate = False)"
   ]
  },
  {
   "cell_type": "code",
   "execution_count": null,
   "id": "9cb9a174-ddcd-49c5-bbe9-d64d42921dc1",
   "metadata": {},
   "outputs": [],
   "source": [
    "spark.sql(\"\"\"\n",
    "INSERT INTO students VALUES \n",
    "    (3, 'Mickey', 'Mouse', ARRAY('1234567890', '2345678901'), STRUCT('A Street', 'One City', 'Some State', '12345')),\n",
    "    (4, 'Bubble', 'Guppy', ARRAY('5678901234', '6789012345'), STRUCT('Bubbly Street', 'Guppy', 'La la land', '45678'))\n",
    "    \n",
    "   \"\"\")"
   ]
  },
  {
   "cell_type": "code",
   "execution_count": null,
   "id": "51c2b5ef-e13f-4204-9a7d-b70044d5c6d3",
   "metadata": {},
   "outputs": [],
   "source": [
    "spark.sql(\"describe extended students\").show(truncate = False)"
   ]
  },
  {
   "cell_type": "code",
   "execution_count": null,
   "id": "a60481bd-d089-4d8d-9ad1-200ba04ffd28",
   "metadata": {},
   "outputs": [],
   "source": [
    "spark.sql(\"drop database forgcpmak_sms cascade\")"
   ]
  },
  {
   "cell_type": "code",
   "execution_count": null,
   "id": "475a06a1-0bf5-4b81-9258-78af9941f7df",
   "metadata": {},
   "outputs": [],
   "source": [
    "spark.sql(\"describe extended orders\").show(truncate = False)"
   ]
  },
  {
   "cell_type": "code",
   "execution_count": null,
   "id": "978ab1c1-e791-4f02-9923-9d6e3c9a64e0",
   "metadata": {},
   "outputs": [],
   "source": [
    "spark.sql(\"describe formatted orders\").show(truncate = False)"
   ]
  },
  {
   "cell_type": "code",
   "execution_count": null,
   "id": "1670562d-1b73-446a-b71f-296239fbd27b",
   "metadata": {},
   "outputs": [],
   "source": []
  }
 ],
 "metadata": {
  "kernelspec": {
   "display_name": "Pyspark 2",
   "language": "python",
   "name": "pyspark2"
  },
  "language_info": {
   "codemirror_mode": {
    "name": "ipython",
    "version": 3
   },
   "file_extension": ".py",
   "mimetype": "text/x-python",
   "name": "python",
   "nbconvert_exporter": "python",
   "pygments_lexer": "ipython3",
   "version": "3.6.9"
  }
 },
 "nbformat": 4,
 "nbformat_minor": 5
}
