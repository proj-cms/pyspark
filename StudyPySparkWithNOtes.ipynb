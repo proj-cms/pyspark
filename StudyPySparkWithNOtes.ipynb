{
 "cells": [
  {
   "cell_type": "code",
   "execution_count": null,
   "id": "fd76ed02-59e9-4bb8-b1b2-0cdf8eed24cd",
   "metadata": {},
   "outputs": [],
   "source": [
    "from pyspark.sql import SparkSession\n",
    "from pyspark import SparkContext\n",
    "from pyspark.sql.functions import *\n",
    "#import pyarrow as pa"
   ]
  },
  {
   "cell_type": "code",
   "execution_count": null,
   "id": "764e80e3-d31b-47e2-985e-25b3ca05d4fa",
   "metadata": {},
   "outputs": [],
   "source": [
    "spark = SparkSession \\\n",
    "  .builder \\\n",
    "  .appName(\"studying perf optimization\") \\\n",
    "  .enableHiveSupport() \\\n",
    "  .config(\"spark.sql.warehousr.dir\",\"/user/hive/warehouse\") \\\n",
    "  .config(\"spark.sql.shuffle.partitions\",10) \\\n",
    "  .config(\"spark.sql.execution.arrow.enabled\", \"true\") \\\n",
    "  .master(\"yarn\") \\\n",
    "  .getOrCreate()"
   ]
  },
  {
   "cell_type": "code",
   "execution_count": 74,
   "id": "1a9ca42e-d022-46e1-871b-500540d95989",
   "metadata": {},
   "outputs": [
    {
     "data": {
      "text/html": [
       "\n",
       "            <div>\n",
       "                <p><b>SparkSession - hive</b></p>\n",
       "                \n",
       "        <div>\n",
       "            <p><b>SparkContext</b></p>\n",
       "\n",
       "            <p><a href=\"http://cca175udemy.asia-south1-c.c.august-key-324503.internal:4040\">Spark UI</a></p>\n",
       "\n",
       "            <dl>\n",
       "              <dt>Version</dt>\n",
       "                <dd><code>v3.0.3</code></dd>\n",
       "              <dt>Master</dt>\n",
       "                <dd><code>yarn</code></dd>\n",
       "              <dt>AppName</dt>\n",
       "                <dd><code>studying perf optimization</code></dd>\n",
       "            </dl>\n",
       "        </div>\n",
       "        \n",
       "            </div>\n",
       "        "
      ],
      "text/plain": [
       "<pyspark.sql.session.SparkSession at 0x7fb78dcc6c88>"
      ]
     },
     "execution_count": 74,
     "metadata": {},
     "output_type": "execute_result"
    }
   ],
   "source": [
    "spark"
   ]
  },
  {
   "cell_type": "code",
   "execution_count": null,
   "id": "55e9dbde-43b6-44cf-9378-220984225cf4",
   "metadata": {},
   "outputs": [],
   "source": [
    "sc = spark.sparkContext"
   ]
  },
  {
   "cell_type": "code",
   "execution_count": null,
   "id": "456b8b32-cae3-42b4-b386-87db6708283c",
   "metadata": {},
   "outputs": [],
   "source": [
    "sc.getConf().getAll()"
   ]
  },
  {
   "cell_type": "code",
   "execution_count": null,
   "id": "8fe57d7b-793e-48cd-b182-223ac6c1655f",
   "metadata": {},
   "outputs": [],
   "source": [
    "file_name = '/user/forgcpmak/data/data/hr_db/employees'\n",
    "\n",
    "\n",
    "employee_schema = spark.read \\\n",
    "    .options(sep = '\\\\t') \\\n",
    "    .csv(file_name,\n",
    "        header= False,\n",
    "        inferSchema=True\n",
    "       ).cache().checkpoint()"
   ]
  },
  {
   "cell_type": "code",
   "execution_count": null,
   "id": "19f33075-717f-4bc7-9a4d-c68aa757f614",
   "metadata": {},
   "outputs": [],
   "source": [
    "employee_schema.printSchema()"
   ]
  },
  {
   "cell_type": "code",
   "execution_count": null,
   "id": "b3ed91d6-b64d-446b-8ead-8651be494014",
   "metadata": {},
   "outputs": [],
   "source": [
    "employee_schema.cache()\n",
    "employee_schema.storageLevel"
   ]
  },
  {
   "cell_type": "code",
   "execution_count": null,
   "id": "35011e9d-bd55-452d-8b76-c96a0b216380",
   "metadata": {},
   "outputs": [],
   "source": [
    "employee_schema.unpersist()\n",
    "employee_schema.storageLevel"
   ]
  },
  {
   "cell_type": "code",
   "execution_count": null,
   "id": "a3f67d3e-88de-4895-9414-d9bffb124c66",
   "metadata": {},
   "outputs": [],
   "source": [
    ".storageLevel"
   ]
  },
  {
   "cell_type": "code",
   "execution_count": null,
   "id": "3f133155-8544-49e1-998b-cfbd76aaa01b",
   "metadata": {},
   "outputs": [],
   "source": [
    "employee_schema.rdd.getNumPartitions()"
   ]
  },
  {
   "cell_type": "code",
   "execution_count": null,
   "id": "05197d19-3be0-441e-ad37-a0399231aa5d",
   "metadata": {},
   "outputs": [],
   "source": [
    "data_distribution = employee_schema.rdd.glom().map(len).collect()"
   ]
  },
  {
   "cell_type": "code",
   "execution_count": null,
   "id": "333024c8-0490-45e9-90c5-77639c44a2aa",
   "metadata": {},
   "outputs": [],
   "source": [
    "print(data_distribution)"
   ]
  },
  {
   "cell_type": "code",
   "execution_count": null,
   "id": "18ab6e2c-6745-44fc-a920-c10bf586848c",
   "metadata": {},
   "outputs": [],
   "source": [
    "employee_schema.bucketby(8,col('_c0')).sortBy(_c0)"
   ]
  },
  {
   "cell_type": "code",
   "execution_count": null,
   "id": "a43b8ed9-6346-49c3-a7ba-ba22864738a1",
   "metadata": {},
   "outputs": [],
   "source": [
    "employee_schema.write.saveAsTable('EmpTblDF')"
   ]
  },
  {
   "cell_type": "code",
   "execution_count": 61,
   "id": "30077cbf-0b46-49e1-b15f-d9fde0086168",
   "metadata": {},
   "outputs": [],
   "source": [
    "spark.table('EmpTblDF').write.bucketBy(10,\"_c0\").saveAsTable(\"EmpTblDF_Bucketed\")"
   ]
  },
  {
   "cell_type": "code",
   "execution_count": 63,
   "id": "383c65a7-8a09-4079-ad67-4634195ea491",
   "metadata": {},
   "outputs": [
    {
     "data": {
      "text/html": [
       "<table border='1'>\n",
       "<tr><th></th></tr>\n",
       "</table>\n"
      ],
      "text/plain": [
       "++\n",
       "||\n",
       "++\n",
       "++"
      ]
     },
     "execution_count": 63,
     "metadata": {},
     "output_type": "execute_result"
    }
   ],
   "source": [
    "spark.sql(\"drop table if exists EmpTblDF\")"
   ]
  },
  {
   "cell_type": "code",
   "execution_count": 68,
   "id": "1cbafd41-9891-49e7-9db4-8ec2f59c1ef9",
   "metadata": {},
   "outputs": [],
   "source": [
    "employee_schema_salted = employee_schema.withColumn('_c1_salted', concat(employee_schema['_c1'], lit('_'), lit(floor(rand(seed=17) * 5) + 1)))"
   ]
  },
  {
   "cell_type": "code",
   "execution_count": 69,
   "id": "9462fb6f-eb55-4f56-930b-63fa160ca4ce",
   "metadata": {},
   "outputs": [
    {
     "name": "stdout",
     "output_type": "stream",
     "text": [
      "+---+-----------+----------+--------+------------+----------+----------+-------+----+----+----+-------------+\n",
      "|_c0|        _c1|       _c2|     _c3|         _c4|       _c5|       _c6|    _c7| _c8| _c9|_c10|   _c1_salted|\n",
      "+---+-----------+----------+--------+------------+----------+----------+-------+----+----+----+-------------+\n",
      "|100|     Steven|      King|   SKING|515.123.4567|1987-06-17|   AD_PRES|24000.0|null|null|  90|     Steven_5|\n",
      "|101|      Neena|   Kochhar|NKOCHHAR|515.123.4568|1989-09-21|     AD_VP|17000.0|null| 100|  90|      Neena_1|\n",
      "|102|        Lex|   De Haan| LDEHAAN|515.123.4569|1993-01-13|     AD_VP|17000.0|null| 100|  90|        Lex_1|\n",
      "|103|  Alexander|    Hunold| AHUNOLD|590.423.4567|1990-01-03|   IT_PROG| 9000.0|null| 102|  60|  Alexander_3|\n",
      "|104|      Bruce|     Ernst|  BERNST|590.423.4568|1991-05-21|   IT_PROG| 6000.0|null| 103|  60|      Bruce_2|\n",
      "|105|      David|    Austin| DAUSTIN|590.423.4569|1997-06-25|   IT_PROG| 4800.0|null| 103|  60|      David_4|\n",
      "|106|      Valli| Pataballa|VPATABAL|590.423.4560|1998-02-05|   IT_PROG| 4800.0|null| 103|  60|      Valli_5|\n",
      "|107|      Diana|   Lorentz|DLORENTZ|590.423.5567|1999-02-07|   IT_PROG| 4200.0|null| 103|  60|      Diana_4|\n",
      "|108|      Nancy| Greenberg|NGREENBE|515.124.4569|1994-08-17|    FI_MGR|12000.0|null| 101| 100|      Nancy_1|\n",
      "|109|     Daniel|    Faviet| DFAVIET|515.124.4169|1994-08-16|FI_ACCOUNT| 9000.0|null| 108| 100|     Daniel_4|\n",
      "|110|       John|      Chen|   JCHEN|515.124.4269|1997-09-28|FI_ACCOUNT| 8200.0|null| 108| 100|       John_4|\n",
      "|111|     Ismael|   Sciarra|ISCIARRA|515.124.4369|1997-09-30|FI_ACCOUNT| 7700.0|null| 108| 100|     Ismael_5|\n",
      "|112|Jose Manuel|     Urman| JMURMAN|515.124.4469|1998-03-07|FI_ACCOUNT| 7800.0|null| 108| 100|Jose Manuel_4|\n",
      "|113|       Luis|      Popp|   LPOPP|515.124.4567|1999-12-07|FI_ACCOUNT| 6900.0|null| 108| 100|       Luis_1|\n",
      "|114|        Den|  Raphaely|DRAPHEAL|515.127.4561|1994-12-07|    PU_MAN|11000.0|null| 100|  30|        Den_2|\n",
      "|115|  Alexander|      Khoo|   AKHOO|515.127.4562|1995-05-18|  PU_CLERK| 3100.0|null| 114|  30|  Alexander_4|\n",
      "|116|     Shelli|     Baida|  SBAIDA|515.127.4563|1997-12-24|  PU_CLERK| 2900.0|null| 114|  30|     Shelli_4|\n",
      "|117|      Sigal|    Tobias| STOBIAS|515.127.4564|1997-07-24|  PU_CLERK| 2800.0|null| 114|  30|      Sigal_2|\n",
      "|118|        Guy|    Himuro| GHIMURO|515.127.4565|1998-11-15|  PU_CLERK| 2600.0|null| 114|  30|        Guy_3|\n",
      "|119|      Karen|Colmenares|KCOLMENA|515.127.4566|1999-08-10|  PU_CLERK| 2500.0|null| 114|  30|      Karen_4|\n",
      "+---+-----------+----------+--------+------------+----------+----------+-------+----+----+----+-------------+\n",
      "only showing top 20 rows\n",
      "\n"
     ]
    }
   ],
   "source": [
    "employee_schema_salted.show()"
   ]
  },
  {
   "cell_type": "code",
   "execution_count": 70,
   "id": "77bca04a-fb21-46da-b70a-093db9b83709",
   "metadata": {},
   "outputs": [],
   "source": [
    "df_medium = employee_schema.withColumn('_c1_exploded', explode(array([lit(i) for i in range(1,6)])))\n"
   ]
  },
  {
   "cell_type": "code",
   "execution_count": 71,
   "id": "61a7a0b8-05ee-4ec7-9659-59a0bb2bead9",
   "metadata": {},
   "outputs": [
    {
     "name": "stdout",
     "output_type": "stream",
     "text": [
      "+---+---------+-------+--------+------------+----------+-------+-------+----+----+----+------------+\n",
      "|_c0|      _c1|    _c2|     _c3|         _c4|       _c5|    _c6|    _c7| _c8| _c9|_c10|_c1_exploded|\n",
      "+---+---------+-------+--------+------------+----------+-------+-------+----+----+----+------------+\n",
      "|100|   Steven|   King|   SKING|515.123.4567|1987-06-17|AD_PRES|24000.0|null|null|  90|           1|\n",
      "|100|   Steven|   King|   SKING|515.123.4567|1987-06-17|AD_PRES|24000.0|null|null|  90|           2|\n",
      "|100|   Steven|   King|   SKING|515.123.4567|1987-06-17|AD_PRES|24000.0|null|null|  90|           3|\n",
      "|100|   Steven|   King|   SKING|515.123.4567|1987-06-17|AD_PRES|24000.0|null|null|  90|           4|\n",
      "|100|   Steven|   King|   SKING|515.123.4567|1987-06-17|AD_PRES|24000.0|null|null|  90|           5|\n",
      "|101|    Neena|Kochhar|NKOCHHAR|515.123.4568|1989-09-21|  AD_VP|17000.0|null| 100|  90|           1|\n",
      "|101|    Neena|Kochhar|NKOCHHAR|515.123.4568|1989-09-21|  AD_VP|17000.0|null| 100|  90|           2|\n",
      "|101|    Neena|Kochhar|NKOCHHAR|515.123.4568|1989-09-21|  AD_VP|17000.0|null| 100|  90|           3|\n",
      "|101|    Neena|Kochhar|NKOCHHAR|515.123.4568|1989-09-21|  AD_VP|17000.0|null| 100|  90|           4|\n",
      "|101|    Neena|Kochhar|NKOCHHAR|515.123.4568|1989-09-21|  AD_VP|17000.0|null| 100|  90|           5|\n",
      "|102|      Lex|De Haan| LDEHAAN|515.123.4569|1993-01-13|  AD_VP|17000.0|null| 100|  90|           1|\n",
      "|102|      Lex|De Haan| LDEHAAN|515.123.4569|1993-01-13|  AD_VP|17000.0|null| 100|  90|           2|\n",
      "|102|      Lex|De Haan| LDEHAAN|515.123.4569|1993-01-13|  AD_VP|17000.0|null| 100|  90|           3|\n",
      "|102|      Lex|De Haan| LDEHAAN|515.123.4569|1993-01-13|  AD_VP|17000.0|null| 100|  90|           4|\n",
      "|102|      Lex|De Haan| LDEHAAN|515.123.4569|1993-01-13|  AD_VP|17000.0|null| 100|  90|           5|\n",
      "|103|Alexander| Hunold| AHUNOLD|590.423.4567|1990-01-03|IT_PROG| 9000.0|null| 102|  60|           1|\n",
      "|103|Alexander| Hunold| AHUNOLD|590.423.4567|1990-01-03|IT_PROG| 9000.0|null| 102|  60|           2|\n",
      "|103|Alexander| Hunold| AHUNOLD|590.423.4567|1990-01-03|IT_PROG| 9000.0|null| 102|  60|           3|\n",
      "|103|Alexander| Hunold| AHUNOLD|590.423.4567|1990-01-03|IT_PROG| 9000.0|null| 102|  60|           4|\n",
      "|103|Alexander| Hunold| AHUNOLD|590.423.4567|1990-01-03|IT_PROG| 9000.0|null| 102|  60|           5|\n",
      "+---+---------+-------+--------+------------+----------+-------+-------+----+----+----+------------+\n",
      "only showing top 20 rows\n",
      "\n"
     ]
    }
   ],
   "source": [
    "df_medium.show()"
   ]
  },
  {
   "cell_type": "code",
   "execution_count": 72,
   "id": "6c0c3a31-9b84-43f1-934f-ea4dbbdf5ee8",
   "metadata": {},
   "outputs": [],
   "source": [
    "df_medium_1 = df_medium.withColumn('_c1_exploded', concat(df_medium['_c1'], lit('_'), df_medium['_c1_exploded'])). \\\n",
    "            drop('_c1').withColumnRenamed('_c1_exploded', '_c1')"
   ]
  },
  {
   "cell_type": "code",
   "execution_count": 73,
   "id": "922aefcc-9782-4f91-9c84-08bf9a56f7b2",
   "metadata": {},
   "outputs": [
    {
     "name": "stdout",
     "output_type": "stream",
     "text": [
      "+---+-------+--------+------------+----------+-------+-------+----+----+----+-----------+\n",
      "|_c0|    _c2|     _c3|         _c4|       _c5|    _c6|    _c7| _c8| _c9|_c10|        _c1|\n",
      "+---+-------+--------+------------+----------+-------+-------+----+----+----+-----------+\n",
      "|100|   King|   SKING|515.123.4567|1987-06-17|AD_PRES|24000.0|null|null|  90|   Steven_1|\n",
      "|100|   King|   SKING|515.123.4567|1987-06-17|AD_PRES|24000.0|null|null|  90|   Steven_2|\n",
      "|100|   King|   SKING|515.123.4567|1987-06-17|AD_PRES|24000.0|null|null|  90|   Steven_3|\n",
      "|100|   King|   SKING|515.123.4567|1987-06-17|AD_PRES|24000.0|null|null|  90|   Steven_4|\n",
      "|100|   King|   SKING|515.123.4567|1987-06-17|AD_PRES|24000.0|null|null|  90|   Steven_5|\n",
      "|101|Kochhar|NKOCHHAR|515.123.4568|1989-09-21|  AD_VP|17000.0|null| 100|  90|    Neena_1|\n",
      "|101|Kochhar|NKOCHHAR|515.123.4568|1989-09-21|  AD_VP|17000.0|null| 100|  90|    Neena_2|\n",
      "|101|Kochhar|NKOCHHAR|515.123.4568|1989-09-21|  AD_VP|17000.0|null| 100|  90|    Neena_3|\n",
      "|101|Kochhar|NKOCHHAR|515.123.4568|1989-09-21|  AD_VP|17000.0|null| 100|  90|    Neena_4|\n",
      "|101|Kochhar|NKOCHHAR|515.123.4568|1989-09-21|  AD_VP|17000.0|null| 100|  90|    Neena_5|\n",
      "|102|De Haan| LDEHAAN|515.123.4569|1993-01-13|  AD_VP|17000.0|null| 100|  90|      Lex_1|\n",
      "|102|De Haan| LDEHAAN|515.123.4569|1993-01-13|  AD_VP|17000.0|null| 100|  90|      Lex_2|\n",
      "|102|De Haan| LDEHAAN|515.123.4569|1993-01-13|  AD_VP|17000.0|null| 100|  90|      Lex_3|\n",
      "|102|De Haan| LDEHAAN|515.123.4569|1993-01-13|  AD_VP|17000.0|null| 100|  90|      Lex_4|\n",
      "|102|De Haan| LDEHAAN|515.123.4569|1993-01-13|  AD_VP|17000.0|null| 100|  90|      Lex_5|\n",
      "|103| Hunold| AHUNOLD|590.423.4567|1990-01-03|IT_PROG| 9000.0|null| 102|  60|Alexander_1|\n",
      "|103| Hunold| AHUNOLD|590.423.4567|1990-01-03|IT_PROG| 9000.0|null| 102|  60|Alexander_2|\n",
      "|103| Hunold| AHUNOLD|590.423.4567|1990-01-03|IT_PROG| 9000.0|null| 102|  60|Alexander_3|\n",
      "|103| Hunold| AHUNOLD|590.423.4567|1990-01-03|IT_PROG| 9000.0|null| 102|  60|Alexander_4|\n",
      "|103| Hunold| AHUNOLD|590.423.4567|1990-01-03|IT_PROG| 9000.0|null| 102|  60|Alexander_5|\n",
      "+---+-------+--------+------------+----------+-------+-------+----+----+----+-----------+\n",
      "only showing top 20 rows\n",
      "\n"
     ]
    }
   ],
   "source": [
    "df_medium_1.show()"
   ]
  },
  {
   "cell_type": "code",
   "execution_count": 76,
   "id": "77ec9135-418d-4fef-bf6e-769c630d1eb8",
   "metadata": {},
   "outputs": [],
   "source": [
    "import pandas as pd\n",
    "import numpy as np\n",
    "from pyspark.sql import functions as F"
   ]
  },
  {
   "cell_type": "code",
   "execution_count": 91,
   "id": "14e76fe3-95a8-4a15-9205-89d7f727fbf9",
   "metadata": {},
   "outputs": [],
   "source": [
    "# set smaller number of partitions so they can fit the screen\n",
    "spark.conf.set('spark.sql.shuffle.partitions', 8)\n",
    "# disable broadcast join to see the shuffle\n",
    "spark.conf.set(\"spark.sql.autoBroadcastJoinThreshold\", -1)\n",
    "\n",
    "spark.conf.set(\"spark.sql.execution.arrow.pyspark.fallback.enabled\", \"false\")"
   ]
  },
  {
   "cell_type": "code",
   "execution_count": 77,
   "id": "d02880a5-0d5f-4e8e-9a16-db47a513555b",
   "metadata": {},
   "outputs": [],
   "source": [
    "length = 100\n",
    "names = np.random.choice(['Bob', 'James', 'Marek', 'Johannes', None], length)\n",
    "amounts = np.random.randint(0, 1000000, length)"
   ]
  },
  {
   "cell_type": "code",
   "execution_count": 79,
   "id": "f26b39bb-1cfe-48cd-a957-46212e0ce7e9",
   "metadata": {},
   "outputs": [
    {
     "data": {
      "text/plain": [
       "array(['Marek', 'Marek', 'Marek', 'Bob', None, 'James', 'Marek', 'Bob',\n",
       "       'Johannes', 'James', 'Johannes', 'Marek', 'James', 'Marek',\n",
       "       'Johannes', 'James', 'James', 'James', 'James', 'Johannes', None,\n",
       "       'Johannes', 'Johannes', 'James', None, None, 'Marek', 'James',\n",
       "       'Bob', 'Marek', 'Bob', None, 'Johannes', 'Marek', 'James', 'James',\n",
       "       'Marek', None, None, 'Marek', 'Johannes', 'Marek', 'Marek', 'Bob',\n",
       "       None, 'Bob', 'James', None, 'Bob', 'Bob', 'Johannes', 'James',\n",
       "       None, 'Johannes', 'Marek', 'Marek', 'Johannes', 'Marek',\n",
       "       'Johannes', 'Bob', 'Johannes', 'James', 'Bob', 'Bob', 'Bob', 'Bob',\n",
       "       None, 'Marek', None, 'Bob', 'Marek', 'Bob', 'James', 'Marek', None,\n",
       "       'James', 'Johannes', 'Bob', 'Johannes', None, 'Marek', 'Johannes',\n",
       "       None, 'James', 'Johannes', 'Bob', 'Bob', 'Marek', None, None,\n",
       "       'Marek', 'Bob', 'Johannes', None, 'Johannes', 'James', 'James',\n",
       "       'Bob', None, 'Marek'], dtype=object)"
      ]
     },
     "execution_count": 79,
     "metadata": {},
     "output_type": "execute_result"
    }
   ],
   "source": [
    "names"
   ]
  },
  {
   "cell_type": "code",
   "execution_count": 80,
   "id": "643ddfdd-5422-4009-839e-d3439a23f7f6",
   "metadata": {},
   "outputs": [
    {
     "data": {
      "text/plain": [
       "array([625428, 354905, 786862, 329732, 385746, 883413, 327843, 776204,\n",
       "       344419,  33482, 849905, 318942, 699952, 482184, 287383, 928853,\n",
       "       897561, 502373, 274584, 537028, 842104, 154472, 114269, 905650,\n",
       "       803617, 840777, 999541, 511334,  13475, 532444, 224162, 262648,\n",
       "       410714, 232624, 632641, 495081, 824554,  12672, 942438, 735861,\n",
       "       278370, 753731,  57537, 527781, 925971, 369108, 181062, 939915,\n",
       "       728786, 769452, 415113, 222877, 476512, 659694, 694243, 732471,\n",
       "       289787, 643635, 518212, 850919, 564583, 899643, 379627, 912322,\n",
       "       445168,  34704, 191905, 568279, 913129, 596860, 618421, 532874,\n",
       "       321354, 849430, 810338, 818161, 489120, 450119, 325739, 543400,\n",
       "       877071,  39297,  49298, 923425, 473428, 334309, 593521, 770562,\n",
       "       336717, 210286, 865504, 118600, 506354, 829402, 429917, 499996,\n",
       "       877848, 142872, 748436, 851767])"
      ]
     },
     "execution_count": 80,
     "metadata": {},
     "output_type": "execute_result"
    }
   ],
   "source": [
    "amounts"
   ]
  },
  {
   "cell_type": "code",
   "execution_count": 81,
   "id": "6aaede94-4e4b-47b8-9a11-020e1e983de0",
   "metadata": {},
   "outputs": [],
   "source": [
    "country = np.random.choice(\n",
    "    ['United Kingdom', 'Poland', 'USA', 'Germany', 'Russia'], \n",
    "    length,\n",
    "    p = [0.05, 0.05, 0.8, 0.05, 0.05]\n",
    ")"
   ]
  },
  {
   "cell_type": "code",
   "execution_count": 82,
   "id": "5e7b65b0-f83e-4a08-94f7-6a83e6f9ec02",
   "metadata": {},
   "outputs": [
    {
     "data": {
      "text/plain": [
       "array(['USA', 'USA', 'Russia', 'USA', 'Russia', 'USA', 'USA', 'USA',\n",
       "       'USA', 'USA', 'Germany', 'Russia', 'USA', 'USA', 'USA', 'USA',\n",
       "       'USA', 'USA', 'Germany', 'USA', 'USA', 'United Kingdom', 'USA',\n",
       "       'USA', 'USA', 'USA', 'Germany', 'USA', 'USA', 'USA', 'USA', 'USA',\n",
       "       'USA', 'USA', 'USA', 'USA', 'USA', 'USA', 'USA', 'United Kingdom',\n",
       "       'United Kingdom', 'USA', 'Germany', 'USA', 'USA', 'USA', 'USA',\n",
       "       'USA', 'USA', 'Poland', 'USA', 'USA', 'USA', 'USA', 'USA', 'USA',\n",
       "       'USA', 'Russia', 'USA', 'USA', 'USA', 'USA', 'USA', 'USA', 'USA',\n",
       "       'USA', 'Poland', 'USA', 'USA', 'USA', 'Germany', 'Russia', 'USA',\n",
       "       'Poland', 'USA', 'USA', 'USA', 'USA', 'United Kingdom', 'USA',\n",
       "       'USA', 'USA', 'USA', 'USA', 'USA', 'Germany', 'USA', 'USA',\n",
       "       'Russia', 'USA', 'USA', 'USA', 'USA', 'USA', 'USA', 'USA', 'USA',\n",
       "       'USA', 'USA', 'USA'], dtype='<U14')"
      ]
     },
     "execution_count": 82,
     "metadata": {},
     "output_type": "execute_result"
    }
   ],
   "source": [
    "country"
   ]
  },
  {
   "cell_type": "code",
   "execution_count": 83,
   "id": "4528069b-829d-4937-8a04-0ba54160e99a",
   "metadata": {},
   "outputs": [],
   "source": [
    "##this is python pada data frame\n",
    "data = pd.DataFrame({'name': names, 'amount': amounts, 'country': country})"
   ]
  },
  {
   "cell_type": "code",
   "execution_count": 88,
   "id": "48db4be4-3f27-458e-9122-f85525843f7b",
   "metadata": {},
   "outputs": [
    {
     "data": {
      "text/plain": [
       "pandas.core.frame.DataFrame"
      ]
     },
     "execution_count": 88,
     "metadata": {},
     "output_type": "execute_result"
    }
   ],
   "source": [
    "type(data)"
   ]
  },
  {
   "cell_type": "code",
   "execution_count": 89,
   "id": "a7324147-013f-4a15-9f13-f9b7c2cfca40",
   "metadata": {},
   "outputs": [
    {
     "data": {
      "text/html": [
       "<div>\n",
       "<style scoped>\n",
       "    .dataframe tbody tr th:only-of-type {\n",
       "        vertical-align: middle;\n",
       "    }\n",
       "\n",
       "    .dataframe tbody tr th {\n",
       "        vertical-align: top;\n",
       "    }\n",
       "\n",
       "    .dataframe thead th {\n",
       "        text-align: right;\n",
       "    }\n",
       "</style>\n",
       "<table border=\"1\" class=\"dataframe\">\n",
       "  <thead>\n",
       "    <tr style=\"text-align: right;\">\n",
       "      <th></th>\n",
       "      <th>name</th>\n",
       "      <th>amount</th>\n",
       "      <th>country</th>\n",
       "    </tr>\n",
       "  </thead>\n",
       "  <tbody>\n",
       "    <tr>\n",
       "      <th>0</th>\n",
       "      <td>Marek</td>\n",
       "      <td>625428</td>\n",
       "      <td>USA</td>\n",
       "    </tr>\n",
       "    <tr>\n",
       "      <th>1</th>\n",
       "      <td>Marek</td>\n",
       "      <td>354905</td>\n",
       "      <td>USA</td>\n",
       "    </tr>\n",
       "    <tr>\n",
       "      <th>2</th>\n",
       "      <td>Marek</td>\n",
       "      <td>786862</td>\n",
       "      <td>Russia</td>\n",
       "    </tr>\n",
       "    <tr>\n",
       "      <th>3</th>\n",
       "      <td>Bob</td>\n",
       "      <td>329732</td>\n",
       "      <td>USA</td>\n",
       "    </tr>\n",
       "    <tr>\n",
       "      <th>4</th>\n",
       "      <td>None</td>\n",
       "      <td>385746</td>\n",
       "      <td>Russia</td>\n",
       "    </tr>\n",
       "    <tr>\n",
       "      <th>...</th>\n",
       "      <td>...</td>\n",
       "      <td>...</td>\n",
       "      <td>...</td>\n",
       "    </tr>\n",
       "    <tr>\n",
       "      <th>95</th>\n",
       "      <td>James</td>\n",
       "      <td>499996</td>\n",
       "      <td>USA</td>\n",
       "    </tr>\n",
       "    <tr>\n",
       "      <th>96</th>\n",
       "      <td>James</td>\n",
       "      <td>877848</td>\n",
       "      <td>USA</td>\n",
       "    </tr>\n",
       "    <tr>\n",
       "      <th>97</th>\n",
       "      <td>Bob</td>\n",
       "      <td>142872</td>\n",
       "      <td>USA</td>\n",
       "    </tr>\n",
       "    <tr>\n",
       "      <th>98</th>\n",
       "      <td>None</td>\n",
       "      <td>748436</td>\n",
       "      <td>USA</td>\n",
       "    </tr>\n",
       "    <tr>\n",
       "      <th>99</th>\n",
       "      <td>Marek</td>\n",
       "      <td>851767</td>\n",
       "      <td>USA</td>\n",
       "    </tr>\n",
       "  </tbody>\n",
       "</table>\n",
       "<p>100 rows × 3 columns</p>\n",
       "</div>"
      ],
      "text/plain": [
       "     name  amount country\n",
       "0   Marek  625428     USA\n",
       "1   Marek  354905     USA\n",
       "2   Marek  786862  Russia\n",
       "3     Bob  329732     USA\n",
       "4    None  385746  Russia\n",
       "..    ...     ...     ...\n",
       "95  James  499996     USA\n",
       "96  James  877848     USA\n",
       "97    Bob  142872     USA\n",
       "98   None  748436     USA\n",
       "99  Marek  851767     USA\n",
       "\n",
       "[100 rows x 3 columns]"
      ]
     },
     "execution_count": 89,
     "metadata": {},
     "output_type": "execute_result"
    }
   ],
   "source": [
    "data"
   ]
  },
  {
   "cell_type": "code",
   "execution_count": 93,
   "id": "7a5e6eab-507f-4d2f-8363-9db8add1d765",
   "metadata": {},
   "outputs": [],
   "source": [
    "#this is spark dataframe\n",
    "transactions = spark.createDataFrame(data).repartition('country')"
   ]
  },
  {
   "cell_type": "code",
   "execution_count": 111,
   "id": "59a02f3c-25b4-426e-beaa-1d428cc5b75e",
   "metadata": {},
   "outputs": [
    {
     "data": {
      "text/plain": [
       "8"
      ]
     },
     "execution_count": 111,
     "metadata": {},
     "output_type": "execute_result"
    }
   ],
   "source": [
    "transactions.rdd.getNumPartitions()"
   ]
  },
  {
   "cell_type": "code",
   "execution_count": 94,
   "id": "7e344afa-5463-4ff7-8a14-6a0754829c26",
   "metadata": {},
   "outputs": [
    {
     "name": "stdout",
     "output_type": "stream",
     "text": [
      "+--------+------+--------------+\n",
      "|    name|amount|       country|\n",
      "+--------+------+--------------+\n",
      "|   Marek|643635|        Russia|\n",
      "|     Bob|532874|        Russia|\n",
      "|    null|336717|        Russia|\n",
      "|   Marek|786862|        Russia|\n",
      "|    null|385746|        Russia|\n",
      "|   Marek|318942|        Russia|\n",
      "|Johannes|154472|United Kingdom|\n",
      "|   Marek|735861|United Kingdom|\n",
      "|Johannes|278370|United Kingdom|\n",
      "|Johannes|325739|United Kingdom|\n",
      "|Johannes|415113|           USA|\n",
      "|   James|222877|           USA|\n",
      "|    null|476512|           USA|\n",
      "|Johannes|659694|           USA|\n",
      "|   Marek|694243|           USA|\n",
      "|   Marek|732471|           USA|\n",
      "|Johannes|289787|           USA|\n",
      "|Johannes|518212|           USA|\n",
      "|     Bob|850919|           USA|\n",
      "|Johannes|564583|           USA|\n",
      "+--------+------+--------------+\n",
      "only showing top 20 rows\n",
      "\n"
     ]
    }
   ],
   "source": [
    "transactions.show()"
   ]
  },
  {
   "cell_type": "code",
   "execution_count": 95,
   "id": "b777fdaa-0f77-43c8-a9fd-cb67e8f39870",
   "metadata": {},
   "outputs": [],
   "source": [
    "countries = spark.createDataFrame(pd.DataFrame({\n",
    "    'id': [11, 12, 13, 14, 15], \n",
    "    'country': ['United Kingdom', 'Poland', 'USA', 'Germany', 'Russia']\n",
    "}))"
   ]
  },
  {
   "cell_type": "code",
   "execution_count": 96,
   "id": "44168e3f-7261-4738-b8aa-7b2164d27a18",
   "metadata": {},
   "outputs": [
    {
     "name": "stdout",
     "output_type": "stream",
     "text": [
      "+---+--------------+\n",
      "| id|       country|\n",
      "+---+--------------+\n",
      "| 11|United Kingdom|\n",
      "| 12|        Poland|\n",
      "| 13|           USA|\n",
      "| 14|       Germany|\n",
      "| 15|        Russia|\n",
      "+---+--------------+\n",
      "\n"
     ]
    }
   ],
   "source": [
    "countries.show()"
   ]
  },
  {
   "cell_type": "code",
   "execution_count": 97,
   "id": "06247a9b-5dd5-4f56-aee9-d0d27714e9a8",
   "metadata": {},
   "outputs": [],
   "source": [
    "df = transactions.join(countries, 'country')"
   ]
  },
  {
   "cell_type": "code",
   "execution_count": 98,
   "id": "c0fb30e5-8b4d-4da3-a6b4-7979224919c9",
   "metadata": {},
   "outputs": [
    {
     "name": "stdout",
     "output_type": "stream",
     "text": [
      "+--------------+--------+------+---+\n",
      "|       country|    name|amount| id|\n",
      "+--------------+--------+------+---+\n",
      "|        Russia|   Marek|786862| 15|\n",
      "|        Russia|    null|385746| 15|\n",
      "|        Russia|   Marek|318942| 15|\n",
      "|        Russia|   Marek|643635| 15|\n",
      "|        Russia|     Bob|532874| 15|\n",
      "|        Russia|    null|336717| 15|\n",
      "|United Kingdom|Johannes|325739| 11|\n",
      "|United Kingdom|Johannes|154472| 11|\n",
      "|United Kingdom|   Marek|735861| 11|\n",
      "|United Kingdom|Johannes|278370| 11|\n",
      "|       Germany|Johannes|849905| 14|\n",
      "|       Germany|   James|274584| 14|\n",
      "|       Germany|   Marek|999541| 14|\n",
      "|       Germany|   Marek| 57537| 14|\n",
      "|       Germany|   Marek|618421| 14|\n",
      "|       Germany|     Bob|334309| 14|\n",
      "|        Poland|     Bob|769452| 12|\n",
      "|        Poland|    null|191905| 12|\n",
      "|        Poland|   Marek|849430| 12|\n",
      "|           USA|   Marek|625428| 13|\n",
      "+--------------+--------+------+---+\n",
      "only showing top 20 rows\n",
      "\n"
     ]
    }
   ],
   "source": [
    "df.show()"
   ]
  },
  {
   "cell_type": "code",
   "execution_count": 112,
   "id": "fb71b972-36f2-4982-abcd-5cfbc88f7519",
   "metadata": {},
   "outputs": [
    {
     "data": {
      "text/plain": [
       "[[],\n",
       " [],\n",
       " [Row(country='Russia', name='Marek', amount=786862, id=15),\n",
       "  Row(country='Russia', name=None, amount=385746, id=15),\n",
       "  Row(country='Russia', name='Marek', amount=318942, id=15),\n",
       "  Row(country='Russia', name='Marek', amount=643635, id=15),\n",
       "  Row(country='Russia', name='Bob', amount=532874, id=15),\n",
       "  Row(country='Russia', name=None, amount=336717, id=15)],\n",
       " [Row(country='United Kingdom', name='Johannes', amount=325739, id=11),\n",
       "  Row(country='United Kingdom', name='Johannes', amount=154472, id=11),\n",
       "  Row(country='United Kingdom', name='Marek', amount=735861, id=11),\n",
       "  Row(country='United Kingdom', name='Johannes', amount=278370, id=11)],\n",
       " [],\n",
       " [],\n",
       " [Row(country='Germany', name='Johannes', amount=849905, id=14),\n",
       "  Row(country='Germany', name='James', amount=274584, id=14),\n",
       "  Row(country='Germany', name='Marek', amount=999541, id=14),\n",
       "  Row(country='Germany', name='Marek', amount=57537, id=14),\n",
       "  Row(country='Germany', name='Marek', amount=618421, id=14),\n",
       "  Row(country='Germany', name='Bob', amount=334309, id=14),\n",
       "  Row(country='Poland', name='Bob', amount=769452, id=12),\n",
       "  Row(country='Poland', name=None, amount=191905, id=12),\n",
       "  Row(country='Poland', name='Marek', amount=849430, id=12),\n",
       "  Row(country='USA', name='Marek', amount=625428, id=13),\n",
       "  Row(country='USA', name='Marek', amount=354905, id=13),\n",
       "  Row(country='USA', name='Bob', amount=329732, id=13),\n",
       "  Row(country='USA', name='James', amount=883413, id=13),\n",
       "  Row(country='USA', name='Marek', amount=327843, id=13),\n",
       "  Row(country='USA', name='Bob', amount=776204, id=13),\n",
       "  Row(country='USA', name='Johannes', amount=344419, id=13),\n",
       "  Row(country='USA', name='James', amount=33482, id=13),\n",
       "  Row(country='USA', name='James', amount=699952, id=13),\n",
       "  Row(country='USA', name='Marek', amount=482184, id=13),\n",
       "  Row(country='USA', name='Johannes', amount=287383, id=13),\n",
       "  Row(country='USA', name='James', amount=928853, id=13),\n",
       "  Row(country='USA', name='James', amount=897561, id=13),\n",
       "  Row(country='USA', name='James', amount=502373, id=13),\n",
       "  Row(country='USA', name='Johannes', amount=537028, id=13),\n",
       "  Row(country='USA', name=None, amount=842104, id=13),\n",
       "  Row(country='USA', name='Johannes', amount=114269, id=13),\n",
       "  Row(country='USA', name='James', amount=905650, id=13),\n",
       "  Row(country='USA', name=None, amount=803617, id=13),\n",
       "  Row(country='USA', name=None, amount=840777, id=13),\n",
       "  Row(country='USA', name='James', amount=511334, id=13),\n",
       "  Row(country='USA', name='Bob', amount=13475, id=13),\n",
       "  Row(country='USA', name='Marek', amount=532444, id=13),\n",
       "  Row(country='USA', name='Bob', amount=224162, id=13),\n",
       "  Row(country='USA', name=None, amount=262648, id=13),\n",
       "  Row(country='USA', name='Johannes', amount=410714, id=13),\n",
       "  Row(country='USA', name='Marek', amount=232624, id=13),\n",
       "  Row(country='USA', name='James', amount=632641, id=13),\n",
       "  Row(country='USA', name='James', amount=495081, id=13),\n",
       "  Row(country='USA', name='Marek', amount=824554, id=13),\n",
       "  Row(country='USA', name=None, amount=12672, id=13),\n",
       "  Row(country='USA', name=None, amount=942438, id=13),\n",
       "  Row(country='USA', name='Marek', amount=753731, id=13),\n",
       "  Row(country='USA', name='Bob', amount=527781, id=13),\n",
       "  Row(country='USA', name=None, amount=925971, id=13),\n",
       "  Row(country='USA', name='Bob', amount=369108, id=13),\n",
       "  Row(country='USA', name='James', amount=181062, id=13),\n",
       "  Row(country='USA', name=None, amount=939915, id=13),\n",
       "  Row(country='USA', name='Bob', amount=728786, id=13),\n",
       "  Row(country='USA', name='Johannes', amount=415113, id=13),\n",
       "  Row(country='USA', name='James', amount=222877, id=13),\n",
       "  Row(country='USA', name=None, amount=476512, id=13),\n",
       "  Row(country='USA', name='Johannes', amount=659694, id=13),\n",
       "  Row(country='USA', name='Marek', amount=694243, id=13),\n",
       "  Row(country='USA', name='Marek', amount=732471, id=13),\n",
       "  Row(country='USA', name='Johannes', amount=289787, id=13),\n",
       "  Row(country='USA', name='Johannes', amount=518212, id=13),\n",
       "  Row(country='USA', name='Bob', amount=850919, id=13),\n",
       "  Row(country='USA', name='Johannes', amount=564583, id=13),\n",
       "  Row(country='USA', name='James', amount=899643, id=13),\n",
       "  Row(country='USA', name='Bob', amount=379627, id=13),\n",
       "  Row(country='USA', name='Bob', amount=912322, id=13),\n",
       "  Row(country='USA', name='Bob', amount=445168, id=13),\n",
       "  Row(country='USA', name='Bob', amount=34704, id=13),\n",
       "  Row(country='USA', name='Marek', amount=568279, id=13),\n",
       "  Row(country='USA', name=None, amount=913129, id=13),\n",
       "  Row(country='USA', name='Bob', amount=596860, id=13),\n",
       "  Row(country='USA', name='James', amount=321354, id=13),\n",
       "  Row(country='USA', name=None, amount=810338, id=13),\n",
       "  Row(country='USA', name='James', amount=818161, id=13),\n",
       "  Row(country='USA', name='Johannes', amount=489120, id=13),\n",
       "  Row(country='USA', name='Bob', amount=450119, id=13),\n",
       "  Row(country='USA', name=None, amount=543400, id=13),\n",
       "  Row(country='USA', name='Marek', amount=877071, id=13),\n",
       "  Row(country='USA', name='Johannes', amount=39297, id=13),\n",
       "  Row(country='USA', name=None, amount=49298, id=13),\n",
       "  Row(country='USA', name='James', amount=923425, id=13),\n",
       "  Row(country='USA', name='Johannes', amount=473428, id=13),\n",
       "  Row(country='USA', name='Bob', amount=593521, id=13),\n",
       "  Row(country='USA', name='Marek', amount=770562, id=13),\n",
       "  Row(country='USA', name=None, amount=210286, id=13),\n",
       "  Row(country='USA', name='Marek', amount=865504, id=13),\n",
       "  Row(country='USA', name='Bob', amount=118600, id=13),\n",
       "  Row(country='USA', name='Johannes', amount=506354, id=13),\n",
       "  Row(country='USA', name=None, amount=829402, id=13),\n",
       "  Row(country='USA', name='Johannes', amount=429917, id=13),\n",
       "  Row(country='USA', name='James', amount=499996, id=13),\n",
       "  Row(country='USA', name='James', amount=877848, id=13),\n",
       "  Row(country='USA', name='Bob', amount=142872, id=13),\n",
       "  Row(country='USA', name=None, amount=748436, id=13),\n",
       "  Row(country='USA', name='Marek', amount=851767, id=13)],\n",
       " []]"
      ]
     },
     "execution_count": 112,
     "metadata": {},
     "output_type": "execute_result"
    }
   ],
   "source": [
    "df.rdd.glom().collect()"
   ]
  },
  {
   "cell_type": "code",
   "execution_count": 99,
   "id": "12d43a02-4384-4b31-8ae1-2eae47f7dc31",
   "metadata": {},
   "outputs": [
    {
     "name": "stdout",
     "output_type": "stream",
     "text": [
      "{0: []}\n",
      "{1: []}\n",
      "{2: [Row(country='Russia', name='Marek', amount=643635, id=15), Row(country='Russia', name='Bob', amount=532874, id=15), Row(country='Russia', name=None, amount=336717, id=15), Row(country='Russia', name='Marek', amount=786862, id=15), Row(country='Russia', name=None, amount=385746, id=15), Row(country='Russia', name='Marek', amount=318942, id=15)]}\n",
      "{3: [Row(country='United Kingdom', name='Johannes', amount=154472, id=11), Row(country='United Kingdom', name='Marek', amount=735861, id=11), Row(country='United Kingdom', name='Johannes', amount=278370, id=11), Row(country='United Kingdom', name='Johannes', amount=325739, id=11)]}\n",
      "{4: []}\n",
      "{5: []}\n",
      "{6: [Row(country='Germany', name='Marek', amount=618421, id=14), Row(country='Germany', name='Bob', amount=334309, id=14), Row(country='Germany', name='Johannes', amount=849905, id=14), Row(country='Germany', name='James', amount=274584, id=14), Row(country='Germany', name='Marek', amount=999541, id=14), Row(country='Germany', name='Marek', amount=57537, id=14), Row(country='Poland', name=None, amount=191905, id=12), Row(country='Poland', name='Marek', amount=849430, id=12), Row(country='Poland', name='Bob', amount=769452, id=12), Row(country='USA', name='Johannes', amount=415113, id=13), Row(country='USA', name='James', amount=222877, id=13), Row(country='USA', name=None, amount=476512, id=13), Row(country='USA', name='Johannes', amount=659694, id=13), Row(country='USA', name='Marek', amount=694243, id=13), Row(country='USA', name='Marek', amount=732471, id=13), Row(country='USA', name='Johannes', amount=289787, id=13), Row(country='USA', name='Johannes', amount=518212, id=13), Row(country='USA', name='Bob', amount=850919, id=13), Row(country='USA', name='Johannes', amount=564583, id=13), Row(country='USA', name='James', amount=899643, id=13), Row(country='USA', name='Bob', amount=379627, id=13), Row(country='USA', name='Bob', amount=912322, id=13), Row(country='USA', name='Bob', amount=445168, id=13), Row(country='USA', name='Bob', amount=34704, id=13), Row(country='USA', name='Marek', amount=568279, id=13), Row(country='USA', name=None, amount=913129, id=13), Row(country='USA', name='Bob', amount=596860, id=13), Row(country='USA', name='James', amount=321354, id=13), Row(country='USA', name=None, amount=810338, id=13), Row(country='USA', name='James', amount=818161, id=13), Row(country='USA', name='Johannes', amount=489120, id=13), Row(country='USA', name='Bob', amount=450119, id=13), Row(country='USA', name=None, amount=543400, id=13), Row(country='USA', name='Marek', amount=877071, id=13), Row(country='USA', name='Johannes', amount=39297, id=13), Row(country='USA', name=None, amount=49298, id=13), Row(country='USA', name='James', amount=923425, id=13), Row(country='USA', name='Johannes', amount=473428, id=13), Row(country='USA', name='Bob', amount=593521, id=13), Row(country='USA', name='Marek', amount=770562, id=13), Row(country='USA', name=None, amount=210286, id=13), Row(country='USA', name='Marek', amount=865504, id=13), Row(country='USA', name='Bob', amount=118600, id=13), Row(country='USA', name='Johannes', amount=506354, id=13), Row(country='USA', name=None, amount=829402, id=13), Row(country='USA', name='Johannes', amount=429917, id=13), Row(country='USA', name='James', amount=499996, id=13), Row(country='USA', name='James', amount=877848, id=13), Row(country='USA', name='Bob', amount=142872, id=13), Row(country='USA', name=None, amount=748436, id=13), Row(country='USA', name='Marek', amount=851767, id=13), Row(country='USA', name='Marek', amount=625428, id=13), Row(country='USA', name='Marek', amount=354905, id=13), Row(country='USA', name='Bob', amount=329732, id=13), Row(country='USA', name='James', amount=883413, id=13), Row(country='USA', name='Marek', amount=327843, id=13), Row(country='USA', name='Bob', amount=776204, id=13), Row(country='USA', name='Johannes', amount=344419, id=13), Row(country='USA', name='James', amount=33482, id=13), Row(country='USA', name='James', amount=699952, id=13), Row(country='USA', name='Marek', amount=482184, id=13), Row(country='USA', name='Johannes', amount=287383, id=13), Row(country='USA', name='James', amount=928853, id=13), Row(country='USA', name='James', amount=897561, id=13), Row(country='USA', name='James', amount=502373, id=13), Row(country='USA', name='Johannes', amount=537028, id=13), Row(country='USA', name=None, amount=842104, id=13), Row(country='USA', name='Johannes', amount=114269, id=13), Row(country='USA', name='James', amount=905650, id=13), Row(country='USA', name=None, amount=803617, id=13), Row(country='USA', name=None, amount=840777, id=13), Row(country='USA', name='James', amount=511334, id=13), Row(country='USA', name='Bob', amount=13475, id=13), Row(country='USA', name='Marek', amount=532444, id=13), Row(country='USA', name='Bob', amount=224162, id=13), Row(country='USA', name=None, amount=262648, id=13), Row(country='USA', name='Johannes', amount=410714, id=13), Row(country='USA', name='Marek', amount=232624, id=13), Row(country='USA', name='James', amount=632641, id=13), Row(country='USA', name='James', amount=495081, id=13), Row(country='USA', name='Marek', amount=824554, id=13), Row(country='USA', name=None, amount=12672, id=13), Row(country='USA', name=None, amount=942438, id=13), Row(country='USA', name='Marek', amount=753731, id=13), Row(country='USA', name='Bob', amount=527781, id=13), Row(country='USA', name=None, amount=925971, id=13), Row(country='USA', name='Bob', amount=369108, id=13), Row(country='USA', name='James', amount=181062, id=13), Row(country='USA', name=None, amount=939915, id=13), Row(country='USA', name='Bob', amount=728786, id=13)]}\n",
      "{7: []}\n"
     ]
    }
   ],
   "source": [
    "for i, part in enumerate(df.rdd.glom().collect()):\n",
    "    print({i: part})"
   ]
  },
  {
   "cell_type": "code",
   "execution_count": 100,
   "id": "d184935e-a2c1-4130-bc0a-06f28eef3c2a",
   "metadata": {},
   "outputs": [
    {
     "data": {
      "text/plain": [
       "8"
      ]
     },
     "execution_count": 100,
     "metadata": {},
     "output_type": "execute_result"
    }
   ],
   "source": [
    "df.rdd.getNumPartitions()"
   ]
  },
  {
   "cell_type": "code",
   "execution_count": 104,
   "id": "06819583-3a0f-44da-b4cc-e2620b456b47",
   "metadata": {},
   "outputs": [],
   "source": [
    "replication_high = 7\n",
    "high = broadcast(spark.range(replication_high).withColumnRenamed('id', 'replica_id'))\n",
    "replication_low = 2\n",
    "low = F.broadcast(spark.range(replication_low).withColumnRenamed('id', 'replica_id'))"
   ]
  },
  {
   "cell_type": "code",
   "execution_count": 107,
   "id": "5a2157d3-1744-48fe-a342-0f7a8f164eec",
   "metadata": {},
   "outputs": [
    {
     "data": {
      "text/plain": [
       "pyspark.sql.dataframe.DataFrame"
      ]
     },
     "execution_count": 107,
     "metadata": {},
     "output_type": "execute_result"
    }
   ],
   "source": [
    "type(high)\n",
    "type(low)"
   ]
  },
  {
   "cell_type": "code",
   "execution_count": 106,
   "id": "6a7539d5-21ef-4015-932e-2616bf694048",
   "metadata": {},
   "outputs": [
    {
     "name": "stdout",
     "output_type": "stream",
     "text": [
      "+----------+\n",
      "|replica_id|\n",
      "+----------+\n",
      "|         0|\n",
      "|         1|\n",
      "|         2|\n",
      "|         3|\n",
      "|         4|\n",
      "|         5|\n",
      "|         6|\n",
      "+----------+\n",
      "\n"
     ]
    }
   ],
   "source": [
    "high.show()"
   ]
  },
  {
   "cell_type": "code",
   "execution_count": 121,
   "id": "eb49a6ed-7e83-41d4-8137-065a51429d00",
   "metadata": {},
   "outputs": [],
   "source": [
    "# determine which keys are highly over-represented, broadcast them\n",
    "skewed_keys = broadcast(\n",
    "\ttransactions.freqItems(['country'], 0.6)\n",
    ")"
   ]
  },
  {
   "cell_type": "code",
   "execution_count": 122,
   "id": "1ca18fb6-a007-439e-a768-46601ad31c0c",
   "metadata": {},
   "outputs": [
    {
     "data": {
      "text/plain": [
       "pyspark.sql.dataframe.DataFrame"
      ]
     },
     "execution_count": 122,
     "metadata": {},
     "output_type": "execute_result"
    }
   ],
   "source": [
    "type(skewed_keys)"
   ]
  },
  {
   "cell_type": "code",
   "execution_count": 123,
   "id": "f88521dd-4495-4404-a3c7-591777f15685",
   "metadata": {},
   "outputs": [
    {
     "name": "stdout",
     "output_type": "stream",
     "text": [
      "+-----------------+\n",
      "|country_freqItems|\n",
      "+-----------------+\n",
      "|            [USA]|\n",
      "+-----------------+\n",
      "\n"
     ]
    }
   ],
   "source": [
    "skewed_keys.show()"
   ]
  },
  {
   "cell_type": "code",
   "execution_count": 124,
   "id": "f3b80fa4-6cea-4d2a-9683-2d5185ccb31e",
   "metadata": {},
   "outputs": [],
   "source": [
    "# determine which keys are highly over-represented, broadcast them\n",
    "skewed_keys = F.broadcast(\n",
    "\ttransactions.freqItems(['country'], 0.6)\n",
    "\t.select(F.explode('country_freqItems').alias('country_freqItems'))\n",
    ")"
   ]
  },
  {
   "cell_type": "code",
   "execution_count": 117,
   "id": "0fa011f6-7850-4be8-8efd-ccc78bc28929",
   "metadata": {},
   "outputs": [
    {
     "name": "stdout",
     "output_type": "stream",
     "text": [
      "+-----------------+\n",
      "|country_freqItems|\n",
      "+-----------------+\n",
      "|              USA|\n",
      "+-----------------+\n",
      "\n"
     ]
    }
   ],
   "source": [
    "skewed_keys.show()"
   ]
  },
  {
   "cell_type": "code",
   "execution_count": 125,
   "id": "222be459-4b97-43e9-b9de-cbb852e4dd36",
   "metadata": {},
   "outputs": [],
   "source": [
    "# there is data frame named high above \n",
    "\n",
    "countries_skewed_keys = (\n",
    "    countries\n",
    "    .join(\n",
    "        skewed_keys, \n",
    "        countries.country == skewed_keys.country_freqItems, \n",
    "        how='inner'\n",
    "    )\n",
    "    .crossJoin(high)\n",
    "    .withColumn('composite_key', F.concat('country', F.lit('@'), 'replica_id'))\n",
    ")"
   ]
  },
  {
   "cell_type": "code",
   "execution_count": 126,
   "id": "4c9ccf73-480b-49e8-8ff3-5188ca3fde09",
   "metadata": {},
   "outputs": [
    {
     "name": "stdout",
     "output_type": "stream",
     "text": [
      "+---+-------+-----------------+----------+-------------+\n",
      "| id|country|country_freqItems|replica_id|composite_key|\n",
      "+---+-------+-----------------+----------+-------------+\n",
      "| 13|    USA|              USA|         0|        USA@0|\n",
      "| 13|    USA|              USA|         1|        USA@1|\n",
      "| 13|    USA|              USA|         2|        USA@2|\n",
      "| 13|    USA|              USA|         3|        USA@3|\n",
      "| 13|    USA|              USA|         4|        USA@4|\n",
      "| 13|    USA|              USA|         5|        USA@5|\n",
      "| 13|    USA|              USA|         6|        USA@6|\n",
      "+---+-------+-----------------+----------+-------------+\n",
      "\n"
     ]
    }
   ],
   "source": [
    "countries_skewed_keys.show()"
   ]
  },
  {
   "cell_type": "code",
   "execution_count": 127,
   "id": "a00507d1-524e-46b8-93e7-b4f967f63a56",
   "metadata": {},
   "outputs": [],
   "source": [
    "countries_rest = (\n",
    "    countries\n",
    "    .join(\n",
    "        skewed_keys, \n",
    "        countries.country == skewed_keys.country_freqItems, \n",
    "        how='leftanti'\n",
    "    )\n",
    "    .crossJoin(low)\n",
    "    .withColumn('composite_key', F.concat('country', F.lit('@'), 'replica_id'))\n",
    "    .withColumn('country_freqItems', F.lit(None))\n",
    ")"
   ]
  },
  {
   "cell_type": "code",
   "execution_count": 128,
   "id": "8cf6ed65-e1d0-4f70-9f9a-46d187a4d1d2",
   "metadata": {},
   "outputs": [
    {
     "name": "stdout",
     "output_type": "stream",
     "text": [
      "+---+--------------+----------+----------------+-----------------+\n",
      "| id|       country|replica_id|   composite_key|country_freqItems|\n",
      "+---+--------------+----------+----------------+-----------------+\n",
      "| 11|United Kingdom|         0|United Kingdom@0|             null|\n",
      "| 11|United Kingdom|         1|United Kingdom@1|             null|\n",
      "| 12|        Poland|         0|        Poland@0|             null|\n",
      "| 12|        Poland|         1|        Poland@1|             null|\n",
      "| 14|       Germany|         0|       Germany@0|             null|\n",
      "| 14|       Germany|         1|       Germany@1|             null|\n",
      "| 15|        Russia|         0|        Russia@0|             null|\n",
      "| 15|        Russia|         1|        Russia@1|             null|\n",
      "+---+--------------+----------+----------------+-----------------+\n",
      "\n"
     ]
    }
   ],
   "source": [
    "countries_rest.show()"
   ]
  },
  {
   "cell_type": "code",
   "execution_count": 129,
   "id": "a159f53f-8eaf-4f2d-8948-a9924f015244",
   "metadata": {},
   "outputs": [],
   "source": [
    "# this is now the entire uniform dataset replicated differently\n",
    "countries_replicated = countries_skewed_keys.union(countries_rest)"
   ]
  },
  {
   "cell_type": "code",
   "execution_count": 130,
   "id": "01b33f5f-7e94-49f3-8e00-a0877dafd8cd",
   "metadata": {},
   "outputs": [
    {
     "name": "stdout",
     "output_type": "stream",
     "text": [
      "+---+--------------+-----------------+----------------+-------------+\n",
      "| id|       country|country_freqItems|      replica_id|composite_key|\n",
      "+---+--------------+-----------------+----------------+-------------+\n",
      "| 13|           USA|              USA|               0|        USA@0|\n",
      "| 13|           USA|              USA|               1|        USA@1|\n",
      "| 13|           USA|              USA|               2|        USA@2|\n",
      "| 13|           USA|              USA|               3|        USA@3|\n",
      "| 13|           USA|              USA|               4|        USA@4|\n",
      "| 13|           USA|              USA|               5|        USA@5|\n",
      "| 13|           USA|              USA|               6|        USA@6|\n",
      "| 11|United Kingdom|                0|United Kingdom@0|         null|\n",
      "| 11|United Kingdom|                1|United Kingdom@1|         null|\n",
      "| 12|        Poland|                0|        Poland@0|         null|\n",
      "| 12|        Poland|                1|        Poland@1|         null|\n",
      "| 14|       Germany|                0|       Germany@0|         null|\n",
      "| 14|       Germany|                1|       Germany@1|         null|\n",
      "| 15|        Russia|                0|        Russia@0|         null|\n",
      "| 15|        Russia|                1|        Russia@1|         null|\n",
      "+---+--------------+-----------------+----------------+-------------+\n",
      "\n"
     ]
    }
   ],
   "source": [
    "countries_replicated.show()"
   ]
  },
  {
   "cell_type": "code",
   "execution_count": 131,
   "id": "5d13b38f-645f-453b-9df5-8e6734987f80",
   "metadata": {},
   "outputs": [],
   "source": [
    "transactions_tagged = (\n",
    "    transactions\n",
    "    .join(\n",
    "        skewed_keys, \n",
    "        transactions.country == skewed_keys.country_freqItems, \n",
    "        how='left'\n",
    "    )\n",
    "    .withColumn('replica_id',\n",
    "        F.when(\n",
    "            F.isnull(F.col('country_freqItems')), \n",
    "            (F.rand() * replication_low).cast('int'),\n",
    "        )\n",
    "        .otherwise((F.rand() * replication_high).cast('int'))\n",
    "    )\n",
    "    .withColumn('composite_key', F.concat('country', F.lit('@'), 'replica_id'))\n",
    ")"
   ]
  },
  {
   "cell_type": "code",
   "execution_count": 132,
   "id": "53e48357-6444-4865-8ba5-0e41e8af402c",
   "metadata": {},
   "outputs": [
    {
     "name": "stdout",
     "output_type": "stream",
     "text": [
      "{0: []}\n",
      "{1: [Row(composite_key='USA@0', name='Marek', amount=625428, country='USA', country_freqItems='USA', replica_id=0, id=13, country='USA', country_freqItems='USA', replica_id='0'), Row(composite_key='USA@0', name='Bob', amount=776204, country='USA', country_freqItems='USA', replica_id=0, id=13, country='USA', country_freqItems='USA', replica_id='0'), Row(composite_key='USA@0', name='Marek', amount=482184, country='USA', country_freqItems='USA', replica_id=0, id=13, country='USA', country_freqItems='USA', replica_id='0'), Row(composite_key='USA@0', name='James', amount=905650, country='USA', country_freqItems='USA', replica_id=0, id=13, country='USA', country_freqItems='USA', replica_id='0'), Row(composite_key='USA@0', name='Marek', amount=824554, country='USA', country_freqItems='USA', replica_id=0, id=13, country='USA', country_freqItems='USA', replica_id='0'), Row(composite_key='USA@0', name='James', amount=181062, country='USA', country_freqItems='USA', replica_id=0, id=13, country='USA', country_freqItems='USA', replica_id='0'), Row(composite_key='USA@0', name='Bob', amount=379627, country='USA', country_freqItems='USA', replica_id=0, id=13, country='USA', country_freqItems='USA', replica_id='0'), Row(composite_key='USA@0', name='Bob', amount=445168, country='USA', country_freqItems='USA', replica_id=0, id=13, country='USA', country_freqItems='USA', replica_id='0'), Row(composite_key='USA@0', name='Bob', amount=34704, country='USA', country_freqItems='USA', replica_id=0, id=13, country='USA', country_freqItems='USA', replica_id='0'), Row(composite_key='USA@0', name='James', amount=321354, country='USA', country_freqItems='USA', replica_id=0, id=13, country='USA', country_freqItems='USA', replica_id='0'), Row(composite_key='USA@0', name=None, amount=543400, country='USA', country_freqItems='USA', replica_id=0, id=13, country='USA', country_freqItems='USA', replica_id='0'), Row(composite_key='USA@0', name='Johannes', amount=473428, country='USA', country_freqItems='USA', replica_id=0, id=13, country='USA', country_freqItems='USA', replica_id='0'), Row(composite_key='USA@0', name='Bob', amount=593521, country='USA', country_freqItems='USA', replica_id=0, id=13, country='USA', country_freqItems='USA', replica_id='0'), Row(composite_key='USA@0', name='Bob', amount=142872, country='USA', country_freqItems='USA', replica_id=0, id=13, country='USA', country_freqItems='USA', replica_id='0'), Row(composite_key='USA@5', name='Marek', amount=327843, country='USA', country_freqItems='USA', replica_id=5, id=13, country='USA', country_freqItems='USA', replica_id='5'), Row(composite_key='USA@5', name='James', amount=928853, country='USA', country_freqItems='USA', replica_id=5, id=13, country='USA', country_freqItems='USA', replica_id='5'), Row(composite_key='USA@5', name=None, amount=840777, country='USA', country_freqItems='USA', replica_id=5, id=13, country='USA', country_freqItems='USA', replica_id='5'), Row(composite_key='USA@5', name='Bob', amount=224162, country='USA', country_freqItems='USA', replica_id=5, id=13, country='USA', country_freqItems='USA', replica_id='5'), Row(composite_key='USA@5', name='Marek', amount=232624, country='USA', country_freqItems='USA', replica_id=5, id=13, country='USA', country_freqItems='USA', replica_id='5'), Row(composite_key='USA@5', name='James', amount=495081, country='USA', country_freqItems='USA', replica_id=5, id=13, country='USA', country_freqItems='USA', replica_id='5'), Row(composite_key='USA@5', name=None, amount=942438, country='USA', country_freqItems='USA', replica_id=5, id=13, country='USA', country_freqItems='USA', replica_id='5'), Row(composite_key='USA@5', name='Marek', amount=753731, country='USA', country_freqItems='USA', replica_id=5, id=13, country='USA', country_freqItems='USA', replica_id='5'), Row(composite_key='USA@5', name='Bob', amount=527781, country='USA', country_freqItems='USA', replica_id=5, id=13, country='USA', country_freqItems='USA', replica_id='5'), Row(composite_key='USA@5', name=None, amount=925971, country='USA', country_freqItems='USA', replica_id=5, id=13, country='USA', country_freqItems='USA', replica_id='5'), Row(composite_key='USA@5', name='Marek', amount=770562, country='USA', country_freqItems='USA', replica_id=5, id=13, country='USA', country_freqItems='USA', replica_id='5'), Row(composite_key='USA@5', name='Johannes', amount=506354, country='USA', country_freqItems='USA', replica_id=5, id=13, country='USA', country_freqItems='USA', replica_id='5')]}\n",
      "{2: [Row(composite_key='USA@2', name='James', amount=897561, country='USA', country_freqItems='USA', replica_id=2, id=13, country='USA', country_freqItems='USA', replica_id='2'), Row(composite_key='USA@2', name=None, amount=842104, country='USA', country_freqItems='USA', replica_id=2, id=13, country='USA', country_freqItems='USA', replica_id='2'), Row(composite_key='USA@2', name='James', amount=511334, country='USA', country_freqItems='USA', replica_id=2, id=13, country='USA', country_freqItems='USA', replica_id='2'), Row(composite_key='USA@2', name='Bob', amount=13475, country='USA', country_freqItems='USA', replica_id=2, id=13, country='USA', country_freqItems='USA', replica_id='2'), Row(composite_key='USA@2', name='Johannes', amount=659694, country='USA', country_freqItems='USA', replica_id=2, id=13, country='USA', country_freqItems='USA', replica_id='2'), Row(composite_key='USA@2', name='Marek', amount=732471, country='USA', country_freqItems='USA', replica_id=2, id=13, country='USA', country_freqItems='USA', replica_id='2'), Row(composite_key='USA@2', name='Johannes', amount=489120, country='USA', country_freqItems='USA', replica_id=2, id=13, country='USA', country_freqItems='USA', replica_id='2'), Row(composite_key='USA@2', name='Marek', amount=877071, country='USA', country_freqItems='USA', replica_id=2, id=13, country='USA', country_freqItems='USA', replica_id='2'), Row(composite_key='USA@2', name='Johannes', amount=39297, country='USA', country_freqItems='USA', replica_id=2, id=13, country='USA', country_freqItems='USA', replica_id='2'), Row(composite_key='USA@2', name='Marek', amount=865504, country='USA', country_freqItems='USA', replica_id=2, id=13, country='USA', country_freqItems='USA', replica_id='2'), Row(composite_key='USA@2', name=None, amount=829402, country='USA', country_freqItems='USA', replica_id=2, id=13, country='USA', country_freqItems='USA', replica_id='2'), Row(composite_key='USA@2', name='Marek', amount=851767, country='USA', country_freqItems='USA', replica_id=2, id=13, country='USA', country_freqItems='USA', replica_id='2')]}\n",
      "{3: []}\n",
      "{4: [Row(composite_key='USA@1', name='Bob', amount=329732, country='USA', country_freqItems='USA', replica_id=1, id=13, country='USA', country_freqItems='USA', replica_id='1'), Row(composite_key='USA@1', name=None, amount=803617, country='USA', country_freqItems='USA', replica_id=1, id=13, country='USA', country_freqItems='USA', replica_id='1'), Row(composite_key='USA@1', name='Bob', amount=728786, country='USA', country_freqItems='USA', replica_id=1, id=13, country='USA', country_freqItems='USA', replica_id='1'), Row(composite_key='USA@1', name='Johannes', amount=289787, country='USA', country_freqItems='USA', replica_id=1, id=13, country='USA', country_freqItems='USA', replica_id='1'), Row(composite_key='USA@1', name='Bob', amount=850919, country='USA', country_freqItems='USA', replica_id=1, id=13, country='USA', country_freqItems='USA', replica_id='1'), Row(composite_key='USA@1', name=None, amount=913129, country='USA', country_freqItems='USA', replica_id=1, id=13, country='USA', country_freqItems='USA', replica_id='1'), Row(composite_key='USA@1', name='Bob', amount=450119, country='USA', country_freqItems='USA', replica_id=1, id=13, country='USA', country_freqItems='USA', replica_id='1'), Row(composite_key='USA@1', name='James', amount=499996, country='USA', country_freqItems='USA', replica_id=1, id=13, country='USA', country_freqItems='USA', replica_id='1')]}\n",
      "{5: []}\n",
      "{6: [Row(composite_key='USA@3', name='Marek', amount=354905, country='USA', country_freqItems='USA', replica_id=3, id=13, country='USA', country_freqItems='USA', replica_id='3'), Row(composite_key='USA@3', name='James', amount=33482, country='USA', country_freqItems='USA', replica_id=3, id=13, country='USA', country_freqItems='USA', replica_id='3'), Row(composite_key='USA@3', name='Johannes', amount=287383, country='USA', country_freqItems='USA', replica_id=3, id=13, country='USA', country_freqItems='USA', replica_id='3'), Row(composite_key='USA@3', name='James', amount=502373, country='USA', country_freqItems='USA', replica_id=3, id=13, country='USA', country_freqItems='USA', replica_id='3'), Row(composite_key='USA@3', name=None, amount=262648, country='USA', country_freqItems='USA', replica_id=3, id=13, country='USA', country_freqItems='USA', replica_id='3'), Row(composite_key='USA@3', name='Johannes', amount=410714, country='USA', country_freqItems='USA', replica_id=3, id=13, country='USA', country_freqItems='USA', replica_id='3'), Row(composite_key='USA@3', name=None, amount=12672, country='USA', country_freqItems='USA', replica_id=3, id=13, country='USA', country_freqItems='USA', replica_id='3'), Row(composite_key='USA@3', name='Bob', amount=369108, country='USA', country_freqItems='USA', replica_id=3, id=13, country='USA', country_freqItems='USA', replica_id='3'), Row(composite_key='USA@3', name='James', amount=222877, country='USA', country_freqItems='USA', replica_id=3, id=13, country='USA', country_freqItems='USA', replica_id='3'), Row(composite_key='USA@3', name='Johannes', amount=518212, country='USA', country_freqItems='USA', replica_id=3, id=13, country='USA', country_freqItems='USA', replica_id='3'), Row(composite_key='USA@3', name='Bob', amount=118600, country='USA', country_freqItems='USA', replica_id=3, id=13, country='USA', country_freqItems='USA', replica_id='3')]}\n",
      "{7: [Row(composite_key='USA@4', name='James', amount=883413, country='USA', country_freqItems='USA', replica_id=4, id=13, country='USA', country_freqItems='USA', replica_id='4'), Row(composite_key='USA@4', name='James', amount=699952, country='USA', country_freqItems='USA', replica_id=4, id=13, country='USA', country_freqItems='USA', replica_id='4'), Row(composite_key='USA@4', name='Johannes', amount=537028, country='USA', country_freqItems='USA', replica_id=4, id=13, country='USA', country_freqItems='USA', replica_id='4'), Row(composite_key='USA@4', name='Johannes', amount=114269, country='USA', country_freqItems='USA', replica_id=4, id=13, country='USA', country_freqItems='USA', replica_id='4'), Row(composite_key='USA@4', name='Marek', amount=532444, country='USA', country_freqItems='USA', replica_id=4, id=13, country='USA', country_freqItems='USA', replica_id='4'), Row(composite_key='USA@4', name='Johannes', amount=415113, country='USA', country_freqItems='USA', replica_id=4, id=13, country='USA', country_freqItems='USA', replica_id='4'), Row(composite_key='USA@4', name='Marek', amount=694243, country='USA', country_freqItems='USA', replica_id=4, id=13, country='USA', country_freqItems='USA', replica_id='4'), Row(composite_key='USA@4', name='Johannes', amount=564583, country='USA', country_freqItems='USA', replica_id=4, id=13, country='USA', country_freqItems='USA', replica_id='4'), Row(composite_key='USA@4', name='Bob', amount=596860, country='USA', country_freqItems='USA', replica_id=4, id=13, country='USA', country_freqItems='USA', replica_id='4'), Row(composite_key='USA@4', name=None, amount=810338, country='USA', country_freqItems='USA', replica_id=4, id=13, country='USA', country_freqItems='USA', replica_id='4'), Row(composite_key='USA@4', name='Johannes', amount=429917, country='USA', country_freqItems='USA', replica_id=4, id=13, country='USA', country_freqItems='USA', replica_id='4'), Row(composite_key='USA@4', name='James', amount=877848, country='USA', country_freqItems='USA', replica_id=4, id=13, country='USA', country_freqItems='USA', replica_id='4'), Row(composite_key='USA@4', name=None, amount=748436, country='USA', country_freqItems='USA', replica_id=4, id=13, country='USA', country_freqItems='USA', replica_id='4'), Row(composite_key='USA@6', name='Johannes', amount=344419, country='USA', country_freqItems='USA', replica_id=6, id=13, country='USA', country_freqItems='USA', replica_id='6'), Row(composite_key='USA@6', name='James', amount=632641, country='USA', country_freqItems='USA', replica_id=6, id=13, country='USA', country_freqItems='USA', replica_id='6'), Row(composite_key='USA@6', name=None, amount=939915, country='USA', country_freqItems='USA', replica_id=6, id=13, country='USA', country_freqItems='USA', replica_id='6'), Row(composite_key='USA@6', name=None, amount=476512, country='USA', country_freqItems='USA', replica_id=6, id=13, country='USA', country_freqItems='USA', replica_id='6'), Row(composite_key='USA@6', name='James', amount=899643, country='USA', country_freqItems='USA', replica_id=6, id=13, country='USA', country_freqItems='USA', replica_id='6'), Row(composite_key='USA@6', name='Bob', amount=912322, country='USA', country_freqItems='USA', replica_id=6, id=13, country='USA', country_freqItems='USA', replica_id='6'), Row(composite_key='USA@6', name='Marek', amount=568279, country='USA', country_freqItems='USA', replica_id=6, id=13, country='USA', country_freqItems='USA', replica_id='6'), Row(composite_key='USA@6', name='James', amount=818161, country='USA', country_freqItems='USA', replica_id=6, id=13, country='USA', country_freqItems='USA', replica_id='6'), Row(composite_key='USA@6', name=None, amount=49298, country='USA', country_freqItems='USA', replica_id=6, id=13, country='USA', country_freqItems='USA', replica_id='6'), Row(composite_key='USA@6', name='James', amount=923425, country='USA', country_freqItems='USA', replica_id=6, id=13, country='USA', country_freqItems='USA', replica_id='6'), Row(composite_key='USA@6', name=None, amount=210286, country='USA', country_freqItems='USA', replica_id=6, id=13, country='USA', country_freqItems='USA', replica_id='6')]}\n"
     ]
    }
   ],
   "source": [
    "# now we can join on the composite key\n",
    "df = transactions_tagged.join(countries_replicated, 'composite_key')\n",
    "\n",
    "for i, part in enumerate(df.rdd.glom().collect()):\n",
    "    print({i: part})"
   ]
  },
  {
   "cell_type": "code",
   "execution_count": null,
   "id": "159e9a82-9083-4485-8d93-f774d1b38cd1",
   "metadata": {},
   "outputs": [],
   "source": []
  }
 ],
 "metadata": {
  "kernelspec": {
   "display_name": "Pyspark 2",
   "language": "python",
   "name": "pyspark2"
  },
  "language_info": {
   "codemirror_mode": {
    "name": "ipython",
    "version": 3
   },
   "file_extension": ".py",
   "mimetype": "text/x-python",
   "name": "python",
   "nbconvert_exporter": "python",
   "pygments_lexer": "ipython3",
   "version": "3.6.9"
  }
 },
 "nbformat": 4,
 "nbformat_minor": 5
}
