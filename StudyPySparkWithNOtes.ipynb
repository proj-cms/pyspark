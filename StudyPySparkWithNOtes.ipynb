{
 "cells": [
  {
   "cell_type": "code",
   "execution_count": 1,
   "id": "fd76ed02-59e9-4bb8-b1b2-0cdf8eed24cd",
   "metadata": {},
   "outputs": [],
   "source": [
    "from pyspark.sql import SparkSession\n",
    "from pyspark import SparkContext\n",
    "from pyspark.sql.functions import *\n",
    "import pyarrow as pa"
   ]
  },
  {
   "cell_type": "code",
   "execution_count": 2,
   "id": "764e80e3-d31b-47e2-985e-25b3ca05d4fa",
   "metadata": {},
   "outputs": [],
   "source": [
    "spark = SparkSession \\\n",
    "  .builder \\\n",
    "  .appName(\"studying perf optimization\") \\\n",
    "  .enableHiveSupport() \\\n",
    "  .config(\"spark.sql.warehousr.dir\",\"/user/hive/warehouse\") \\\n",
    "  .config(\"spark.sql.shuffle.partitions\",10) \\\n",
    "  .config(\"spark.sql.execution.arrow.enabled\", \"true\") \\\n",
    "  .config(\"spark.jars.packages\", \"org.apache.spark:spark-sql-kafka-0-10_2.12:3.0.3,org.apache.spark:spark-avro_2.12:3.0.3\") \\\n",
    "  .master(\"yarn\") \\\n",
    "  .getOrCreate()"
   ]
  },
  {
   "cell_type": "code",
   "execution_count": 3,
   "id": "1a9ca42e-d022-46e1-871b-500540d95989",
   "metadata": {},
   "outputs": [
    {
     "data": {
      "text/html": [
       "\n",
       "            <div>\n",
       "                <p><b>SparkSession - hive</b></p>\n",
       "                \n",
       "        <div>\n",
       "            <p><b>SparkContext</b></p>\n",
       "\n",
       "            <p><a href=\"http://cca175udemy.asia-south1-c.c.august-key-324503.internal:4040\">Spark UI</a></p>\n",
       "\n",
       "            <dl>\n",
       "              <dt>Version</dt>\n",
       "                <dd><code>v3.0.3</code></dd>\n",
       "              <dt>Master</dt>\n",
       "                <dd><code>yarn</code></dd>\n",
       "              <dt>AppName</dt>\n",
       "                <dd><code>studying perf optimization</code></dd>\n",
       "            </dl>\n",
       "        </div>\n",
       "        \n",
       "            </div>\n",
       "        "
      ],
      "text/plain": [
       "<pyspark.sql.session.SparkSession at 0x7fecad78e470>"
      ]
     },
     "execution_count": 3,
     "metadata": {},
     "output_type": "execute_result"
    }
   ],
   "source": [
    "spark"
   ]
  },
  {
   "cell_type": "code",
   "execution_count": 4,
   "id": "55e9dbde-43b6-44cf-9378-220984225cf4",
   "metadata": {},
   "outputs": [],
   "source": [
    "sc = spark.sparkContext"
   ]
  },
  {
   "cell_type": "code",
   "execution_count": 8,
   "id": "6344dc18-513f-4a40-9d15-69e57bbc4723",
   "metadata": {},
   "outputs": [
    {
     "name": "stdout",
     "output_type": "stream",
     "text": [
      "/home/forgcpmak/git_code_base/pyspark\n"
     ]
    }
   ],
   "source": [
    "!pwd"
   ]
  },
  {
   "cell_type": "code",
   "execution_count": 9,
   "id": "68f9d453-a214-4abd-bb12-2b840b82c807",
   "metadata": {},
   "outputs": [],
   "source": [
    "sc.setCheckpointDir(\"/user/forgcpmak/checkpoint\")"
   ]
  },
  {
   "cell_type": "code",
   "execution_count": 5,
   "id": "456b8b32-cae3-42b4-b386-87db6708283c",
   "metadata": {},
   "outputs": [
    {
     "data": {
      "text/plain": [
       "[('spark.eventLog.enabled', 'true'),\n",
       " ('spark.sql.repl.eagerEval.enabled', 'true'),\n",
       " ('spark.sql.execution.arrow.enabled', 'true'),\n",
       " ('spark.yarn.secondary.jars',\n",
       "  'org.apache.spark_spark-sql-kafka-0-10_2.12-3.0.3.jar,org.apache.spark_spark-avro_2.12-3.0.3.jar,org.apache.spark_spark-token-provider-kafka-0-10_2.12-3.0.3.jar,org.apache.kafka_kafka-clients-2.4.1.jar,org.apache.commons_commons-pool2-2.6.2.jar,org.spark-project.spark_unused-1.0.0.jar,com.github.luben_zstd-jni-1.4.4-3.jar,org.lz4_lz4-java-1.7.1.jar,org.xerial.snappy_snappy-java-1.1.8.2.jar,org.slf4j_slf4j-api-1.7.30.jar'),\n",
       " ('spark.yarn.dist.pyFiles',\n",
       "  'file:///home/forgcpmak/.ivy2/jars/org.apache.spark_spark-sql-kafka-0-10_2.12-3.0.3.jar,file:///home/forgcpmak/.ivy2/jars/org.apache.spark_spark-avro_2.12-3.0.3.jar,file:///home/forgcpmak/.ivy2/jars/org.apache.spark_spark-token-provider-kafka-0-10_2.12-3.0.3.jar,file:///home/forgcpmak/.ivy2/jars/org.apache.kafka_kafka-clients-2.4.1.jar,file:///home/forgcpmak/.ivy2/jars/org.apache.commons_commons-pool2-2.6.2.jar,file:///home/forgcpmak/.ivy2/jars/org.spark-project.spark_unused-1.0.0.jar,file:///home/forgcpmak/.ivy2/jars/com.github.luben_zstd-jni-1.4.4-3.jar,file:///home/forgcpmak/.ivy2/jars/org.lz4_lz4-java-1.7.1.jar,file:///home/forgcpmak/.ivy2/jars/org.xerial.snappy_snappy-java-1.1.8.2.jar,file:///home/forgcpmak/.ivy2/jars/org.slf4j_slf4j-api-1.7.30.jar'),\n",
       " ('spark.yarn.historyServer.address', 'localhost:18081'),\n",
       " ('spark.ui.proxyBase', '/proxy/application_1634558894756_0001'),\n",
       " ('spark.org.apache.hadoop.yarn.server.webproxy.amfilter.AmIpFilter.param.PROXY_URI_BASES',\n",
       "  'http://cca175udemy:8088/proxy/application_1634558894756_0001'),\n",
       " ('spark.history.ui.port', '18081'),\n",
       " ('spark.app.name', 'studying perf optimization'),\n",
       " ('spark.submit.pyFiles',\n",
       "  '/home/forgcpmak/.ivy2/jars/org.apache.spark_spark-sql-kafka-0-10_2.12-3.0.3.jar,/home/forgcpmak/.ivy2/jars/org.apache.spark_spark-avro_2.12-3.0.3.jar,/home/forgcpmak/.ivy2/jars/org.apache.spark_spark-token-provider-kafka-0-10_2.12-3.0.3.jar,/home/forgcpmak/.ivy2/jars/org.apache.kafka_kafka-clients-2.4.1.jar,/home/forgcpmak/.ivy2/jars/org.apache.commons_commons-pool2-2.6.2.jar,/home/forgcpmak/.ivy2/jars/org.spark-project.spark_unused-1.0.0.jar,/home/forgcpmak/.ivy2/jars/com.github.luben_zstd-jni-1.4.4-3.jar,/home/forgcpmak/.ivy2/jars/org.lz4_lz4-java-1.7.1.jar,/home/forgcpmak/.ivy2/jars/org.xerial.snappy_snappy-java-1.1.8.2.jar,/home/forgcpmak/.ivy2/jars/org.slf4j_slf4j-api-1.7.30.jar'),\n",
       " ('spark.org.apache.hadoop.yarn.server.webproxy.amfilter.AmIpFilter.param.PROXY_HOSTS',\n",
       "  'cca175udemy'),\n",
       " ('spark.jars.packages',\n",
       "  'org.apache.spark:spark-sql-kafka-0-10_2.12:3.0.3,org.apache.spark:spark-avro_2.12:3.0.3'),\n",
       " ('spark.yarn.jars', ''),\n",
       " ('spark.history.provider',\n",
       "  'org.apache.spark.deploy.history.FsHistoryProvider'),\n",
       " ('spark.serializer.objectStreamReset', '100'),\n",
       " ('spark.history.fs.update.interval', '10s'),\n",
       " ('spark.submit.deployMode', 'client'),\n",
       " ('spark.driver.extraJavaOptions', '-Dderby.system.home=/tmp/derby/'),\n",
       " ('spark.ui.filters',\n",
       "  'org.apache.hadoop.yarn.server.webproxy.amfilter.AmIpFilter'),\n",
       " ('spark.app.id', 'application_1634558894756_0001'),\n",
       " ('spark.driver.host',\n",
       "  'cca175udemy.asia-south1-c.c.august-key-324503.internal'),\n",
       " ('spark.history.fs.logDirectory', 'hdfs:///spark2-logs'),\n",
       " ('spark.executorEnv.PYTHONPATH',\n",
       "  '/opt/spark2/python/lib/py4j-0.10.9-src.zip:/opt/spark2/python/<CPS>{{PWD}}/pyspark.zip<CPS>{{PWD}}/py4j-0.10.9-src.zip<CPS>{{PWD}}/org.apache.spark_spark-sql-kafka-0-10_2.12-3.0.3.jar<CPS>{{PWD}}/org.apache.spark_spark-avro_2.12-3.0.3.jar<CPS>{{PWD}}/org.apache.spark_spark-token-provider-kafka-0-10_2.12-3.0.3.jar<CPS>{{PWD}}/org.apache.kafka_kafka-clients-2.4.1.jar<CPS>{{PWD}}/org.apache.commons_commons-pool2-2.6.2.jar<CPS>{{PWD}}/org.spark-project.spark_unused-1.0.0.jar<CPS>{{PWD}}/com.github.luben_zstd-jni-1.4.4-3.jar<CPS>{{PWD}}/org.lz4_lz4-java-1.7.1.jar<CPS>{{PWD}}/org.xerial.snappy_snappy-java-1.1.8.2.jar<CPS>{{PWD}}/org.slf4j_slf4j-api-1.7.30.jar'),\n",
       " ('spark.eventLog.dir', 'hdfs:///spark2-logs'),\n",
       " ('spark.repl.local.jars',\n",
       "  'file:///home/forgcpmak/.ivy2/jars/org.apache.spark_spark-sql-kafka-0-10_2.12-3.0.3.jar,file:///home/forgcpmak/.ivy2/jars/org.apache.spark_spark-avro_2.12-3.0.3.jar,file:///home/forgcpmak/.ivy2/jars/org.apache.spark_spark-token-provider-kafka-0-10_2.12-3.0.3.jar,file:///home/forgcpmak/.ivy2/jars/org.apache.kafka_kafka-clients-2.4.1.jar,file:///home/forgcpmak/.ivy2/jars/org.apache.commons_commons-pool2-2.6.2.jar,file:///home/forgcpmak/.ivy2/jars/org.spark-project.spark_unused-1.0.0.jar,file:///home/forgcpmak/.ivy2/jars/com.github.luben_zstd-jni-1.4.4-3.jar,file:///home/forgcpmak/.ivy2/jars/org.lz4_lz4-java-1.7.1.jar,file:///home/forgcpmak/.ivy2/jars/org.xerial.snappy_snappy-java-1.1.8.2.jar,file:///home/forgcpmak/.ivy2/jars/org.slf4j_slf4j-api-1.7.30.jar'),\n",
       " ('spark.driver.appUIAddress',\n",
       "  'http://cca175udemy.asia-south1-c.c.august-key-324503.internal:4040'),\n",
       " ('spark.executor.id', 'driver'),\n",
       " ('spark.sql.shuffle.partitions', '10'),\n",
       " ('spark.yarn.dist.jars',\n",
       "  'file:///home/forgcpmak/.ivy2/jars/org.apache.spark_spark-sql-kafka-0-10_2.12-3.0.3.jar,file:///home/forgcpmak/.ivy2/jars/org.apache.spark_spark-avro_2.12-3.0.3.jar,file:///home/forgcpmak/.ivy2/jars/org.apache.spark_spark-token-provider-kafka-0-10_2.12-3.0.3.jar,file:///home/forgcpmak/.ivy2/jars/org.apache.kafka_kafka-clients-2.4.1.jar,file:///home/forgcpmak/.ivy2/jars/org.apache.commons_commons-pool2-2.6.2.jar,file:///home/forgcpmak/.ivy2/jars/org.spark-project.spark_unused-1.0.0.jar,file:///home/forgcpmak/.ivy2/jars/com.github.luben_zstd-jni-1.4.4-3.jar,file:///home/forgcpmak/.ivy2/jars/org.lz4_lz4-java-1.7.1.jar,file:///home/forgcpmak/.ivy2/jars/org.xerial.snappy_snappy-java-1.1.8.2.jar,file:///home/forgcpmak/.ivy2/jars/org.slf4j_slf4j-api-1.7.30.jar'),\n",
       " ('spark.master', 'yarn'),\n",
       " ('spark.driver.port', '42543'),\n",
       " ('spark.app.startTime', '1634559064531'),\n",
       " ('spark.sql.catalogImplementation', 'hive'),\n",
       " ('spark.rdd.compress', 'True'),\n",
       " ('spark.sql.warehousr.dir', '/user/hive/warehouse'),\n",
       " ('spark.yarn.isPython', 'true'),\n",
       " ('spark.ui.showConsoleProgress', 'true')]"
      ]
     },
     "execution_count": 5,
     "metadata": {},
     "output_type": "execute_result"
    }
   ],
   "source": [
    "sc.getConf().getAll()"
   ]
  },
  {
   "cell_type": "code",
   "execution_count": 10,
   "id": "8fe57d7b-793e-48cd-b182-223ac6c1655f",
   "metadata": {},
   "outputs": [],
   "source": [
    "file_name = '/user/forgcpmak/data/data/hr_db/employees'\n",
    "\n",
    "\n",
    "employee_schema = spark.read \\\n",
    "    .options(sep = '\\\\t') \\\n",
    "    .csv(file_name,\n",
    "        header= False,\n",
    "        inferSchema=True\n",
    "       ).cache().checkpoint()"
   ]
  },
  {
   "cell_type": "code",
   "execution_count": 12,
   "id": "19f33075-717f-4bc7-9a4d-c68aa757f614",
   "metadata": {},
   "outputs": [
    {
     "name": "stdout",
     "output_type": "stream",
     "text": [
      "root\n",
      " |-- _c0: integer (nullable = true)\n",
      " |-- _c1: string (nullable = true)\n",
      " |-- _c2: string (nullable = true)\n",
      " |-- _c3: string (nullable = true)\n",
      " |-- _c4: string (nullable = true)\n",
      " |-- _c5: string (nullable = true)\n",
      " |-- _c6: string (nullable = true)\n",
      " |-- _c7: double (nullable = true)\n",
      " |-- _c8: string (nullable = true)\n",
      " |-- _c9: string (nullable = true)\n",
      " |-- _c10: string (nullable = true)\n",
      "\n"
     ]
    }
   ],
   "source": [
    "employee_schema.printSchema()"
   ]
  },
  {
   "cell_type": "code",
   "execution_count": 11,
   "id": "b3ed91d6-b64d-446b-8ead-8651be494014",
   "metadata": {},
   "outputs": [
    {
     "data": {
      "text/plain": [
       "StorageLevel(True, True, False, True, 1)"
      ]
     },
     "execution_count": 11,
     "metadata": {},
     "output_type": "execute_result"
    }
   ],
   "source": [
    "employee_schema.cache()\n",
    "employee_schema.storageLevel"
   ]
  },
  {
   "cell_type": "code",
   "execution_count": 16,
   "id": "35011e9d-bd55-452d-8b76-c96a0b216380",
   "metadata": {},
   "outputs": [
    {
     "data": {
      "text/plain": [
       "StorageLevel(False, False, False, False, 1)"
      ]
     },
     "execution_count": 16,
     "metadata": {},
     "output_type": "execute_result"
    }
   ],
   "source": [
    "employee_schema.unpersist()\n",
    "employee_schema.storageLevel"
   ]
  },
  {
   "cell_type": "code",
   "execution_count": null,
   "id": "a3f67d3e-88de-4895-9414-d9bffb124c66",
   "metadata": {},
   "outputs": [],
   "source": []
  },
  {
   "cell_type": "code",
   "execution_count": 13,
   "id": "3f133155-8544-49e1-998b-cfbd76aaa01b",
   "metadata": {},
   "outputs": [
    {
     "data": {
      "text/plain": [
       "1"
      ]
     },
     "execution_count": 13,
     "metadata": {},
     "output_type": "execute_result"
    }
   ],
   "source": [
    "employee_schema.rdd.getNumPartitions()"
   ]
  },
  {
   "cell_type": "code",
   "execution_count": null,
   "id": "05197d19-3be0-441e-ad37-a0399231aa5d",
   "metadata": {},
   "outputs": [],
   "source": [
    "data_distribution = employee_schema.rdd.glom().map(len).collect()"
   ]
  },
  {
   "cell_type": "code",
   "execution_count": null,
   "id": "333024c8-0490-45e9-90c5-77639c44a2aa",
   "metadata": {},
   "outputs": [],
   "source": [
    "print(data_distribution)"
   ]
  },
  {
   "cell_type": "code",
   "execution_count": null,
   "id": "18ab6e2c-6745-44fc-a920-c10bf586848c",
   "metadata": {},
   "outputs": [],
   "source": [
    "employee_schema.bucketBy(8,col('_c0')).sortBy(_c0)"
   ]
  },
  {
   "cell_type": "code",
   "execution_count": 27,
   "id": "a43b8ed9-6346-49c3-a7ba-ba22864738a1",
   "metadata": {},
   "outputs": [],
   "source": [
    "employee_schema.write.saveAsTable('EmpTblDF1')"
   ]
  },
  {
   "cell_type": "code",
   "execution_count": 28,
   "id": "30077cbf-0b46-49e1-b15f-d9fde0086168",
   "metadata": {},
   "outputs": [],
   "source": [
    "spark.table('EmpTblDF1').write.bucketBy(10,\"_c0\").saveAsTable(\"EmpTblDF_Bucketed1\")"
   ]
  },
  {
   "cell_type": "code",
   "execution_count": 29,
   "id": "383c65a7-8a09-4079-ad67-4634195ea491",
   "metadata": {},
   "outputs": [
    {
     "data": {
      "text/html": [
       "<table border='1'>\n",
       "<tr><th></th></tr>\n",
       "</table>\n"
      ],
      "text/plain": [
       "++\n",
       "||\n",
       "++\n",
       "++"
      ]
     },
     "execution_count": 29,
     "metadata": {},
     "output_type": "execute_result"
    }
   ],
   "source": [
    "spark.sql(\"drop table if exists EmpTblDF\")"
   ]
  },
  {
   "cell_type": "code",
   "execution_count": 24,
   "id": "1cbafd41-9891-49e7-9db4-8ec2f59c1ef9",
   "metadata": {},
   "outputs": [],
   "source": [
    "employee_schema_salted = employee_schema.withColumn('_c1_salted', concat(employee_schema['_c1'], lit('_'), lit(floor(rand(seed=17) * 5) + 1)))"
   ]
  },
  {
   "cell_type": "code",
   "execution_count": 69,
   "id": "9462fb6f-eb55-4f56-930b-63fa160ca4ce",
   "metadata": {},
   "outputs": [
    {
     "name": "stdout",
     "output_type": "stream",
     "text": [
      "+---+-----------+----------+--------+------------+----------+----------+-------+----+----+----+-------------+\n",
      "|_c0|        _c1|       _c2|     _c3|         _c4|       _c5|       _c6|    _c7| _c8| _c9|_c10|   _c1_salted|\n",
      "+---+-----------+----------+--------+------------+----------+----------+-------+----+----+----+-------------+\n",
      "|100|     Steven|      King|   SKING|515.123.4567|1987-06-17|   AD_PRES|24000.0|null|null|  90|     Steven_5|\n",
      "|101|      Neena|   Kochhar|NKOCHHAR|515.123.4568|1989-09-21|     AD_VP|17000.0|null| 100|  90|      Neena_1|\n",
      "|102|        Lex|   De Haan| LDEHAAN|515.123.4569|1993-01-13|     AD_VP|17000.0|null| 100|  90|        Lex_1|\n",
      "|103|  Alexander|    Hunold| AHUNOLD|590.423.4567|1990-01-03|   IT_PROG| 9000.0|null| 102|  60|  Alexander_3|\n",
      "|104|      Bruce|     Ernst|  BERNST|590.423.4568|1991-05-21|   IT_PROG| 6000.0|null| 103|  60|      Bruce_2|\n",
      "|105|      David|    Austin| DAUSTIN|590.423.4569|1997-06-25|   IT_PROG| 4800.0|null| 103|  60|      David_4|\n",
      "|106|      Valli| Pataballa|VPATABAL|590.423.4560|1998-02-05|   IT_PROG| 4800.0|null| 103|  60|      Valli_5|\n",
      "|107|      Diana|   Lorentz|DLORENTZ|590.423.5567|1999-02-07|   IT_PROG| 4200.0|null| 103|  60|      Diana_4|\n",
      "|108|      Nancy| Greenberg|NGREENBE|515.124.4569|1994-08-17|    FI_MGR|12000.0|null| 101| 100|      Nancy_1|\n",
      "|109|     Daniel|    Faviet| DFAVIET|515.124.4169|1994-08-16|FI_ACCOUNT| 9000.0|null| 108| 100|     Daniel_4|\n",
      "|110|       John|      Chen|   JCHEN|515.124.4269|1997-09-28|FI_ACCOUNT| 8200.0|null| 108| 100|       John_4|\n",
      "|111|     Ismael|   Sciarra|ISCIARRA|515.124.4369|1997-09-30|FI_ACCOUNT| 7700.0|null| 108| 100|     Ismael_5|\n",
      "|112|Jose Manuel|     Urman| JMURMAN|515.124.4469|1998-03-07|FI_ACCOUNT| 7800.0|null| 108| 100|Jose Manuel_4|\n",
      "|113|       Luis|      Popp|   LPOPP|515.124.4567|1999-12-07|FI_ACCOUNT| 6900.0|null| 108| 100|       Luis_1|\n",
      "|114|        Den|  Raphaely|DRAPHEAL|515.127.4561|1994-12-07|    PU_MAN|11000.0|null| 100|  30|        Den_2|\n",
      "|115|  Alexander|      Khoo|   AKHOO|515.127.4562|1995-05-18|  PU_CLERK| 3100.0|null| 114|  30|  Alexander_4|\n",
      "|116|     Shelli|     Baida|  SBAIDA|515.127.4563|1997-12-24|  PU_CLERK| 2900.0|null| 114|  30|     Shelli_4|\n",
      "|117|      Sigal|    Tobias| STOBIAS|515.127.4564|1997-07-24|  PU_CLERK| 2800.0|null| 114|  30|      Sigal_2|\n",
      "|118|        Guy|    Himuro| GHIMURO|515.127.4565|1998-11-15|  PU_CLERK| 2600.0|null| 114|  30|        Guy_3|\n",
      "|119|      Karen|Colmenares|KCOLMENA|515.127.4566|1999-08-10|  PU_CLERK| 2500.0|null| 114|  30|      Karen_4|\n",
      "+---+-----------+----------+--------+------------+----------+----------+-------+----+----+----+-------------+\n",
      "only showing top 20 rows\n",
      "\n"
     ]
    }
   ],
   "source": [
    "employee_schema_salted.show()"
   ]
  },
  {
   "cell_type": "code",
   "execution_count": 70,
   "id": "77bca04a-fb21-46da-b70a-093db9b83709",
   "metadata": {},
   "outputs": [],
   "source": [
    "df_medium = employee_schema.withColumn('_c1_exploded', explode(array([lit(i) for i in range(1,6)])))\n"
   ]
  },
  {
   "cell_type": "code",
   "execution_count": 71,
   "id": "61a7a0b8-05ee-4ec7-9659-59a0bb2bead9",
   "metadata": {},
   "outputs": [
    {
     "name": "stdout",
     "output_type": "stream",
     "text": [
      "+---+---------+-------+--------+------------+----------+-------+-------+----+----+----+------------+\n",
      "|_c0|      _c1|    _c2|     _c3|         _c4|       _c5|    _c6|    _c7| _c8| _c9|_c10|_c1_exploded|\n",
      "+---+---------+-------+--------+------------+----------+-------+-------+----+----+----+------------+\n",
      "|100|   Steven|   King|   SKING|515.123.4567|1987-06-17|AD_PRES|24000.0|null|null|  90|           1|\n",
      "|100|   Steven|   King|   SKING|515.123.4567|1987-06-17|AD_PRES|24000.0|null|null|  90|           2|\n",
      "|100|   Steven|   King|   SKING|515.123.4567|1987-06-17|AD_PRES|24000.0|null|null|  90|           3|\n",
      "|100|   Steven|   King|   SKING|515.123.4567|1987-06-17|AD_PRES|24000.0|null|null|  90|           4|\n",
      "|100|   Steven|   King|   SKING|515.123.4567|1987-06-17|AD_PRES|24000.0|null|null|  90|           5|\n",
      "|101|    Neena|Kochhar|NKOCHHAR|515.123.4568|1989-09-21|  AD_VP|17000.0|null| 100|  90|           1|\n",
      "|101|    Neena|Kochhar|NKOCHHAR|515.123.4568|1989-09-21|  AD_VP|17000.0|null| 100|  90|           2|\n",
      "|101|    Neena|Kochhar|NKOCHHAR|515.123.4568|1989-09-21|  AD_VP|17000.0|null| 100|  90|           3|\n",
      "|101|    Neena|Kochhar|NKOCHHAR|515.123.4568|1989-09-21|  AD_VP|17000.0|null| 100|  90|           4|\n",
      "|101|    Neena|Kochhar|NKOCHHAR|515.123.4568|1989-09-21|  AD_VP|17000.0|null| 100|  90|           5|\n",
      "|102|      Lex|De Haan| LDEHAAN|515.123.4569|1993-01-13|  AD_VP|17000.0|null| 100|  90|           1|\n",
      "|102|      Lex|De Haan| LDEHAAN|515.123.4569|1993-01-13|  AD_VP|17000.0|null| 100|  90|           2|\n",
      "|102|      Lex|De Haan| LDEHAAN|515.123.4569|1993-01-13|  AD_VP|17000.0|null| 100|  90|           3|\n",
      "|102|      Lex|De Haan| LDEHAAN|515.123.4569|1993-01-13|  AD_VP|17000.0|null| 100|  90|           4|\n",
      "|102|      Lex|De Haan| LDEHAAN|515.123.4569|1993-01-13|  AD_VP|17000.0|null| 100|  90|           5|\n",
      "|103|Alexander| Hunold| AHUNOLD|590.423.4567|1990-01-03|IT_PROG| 9000.0|null| 102|  60|           1|\n",
      "|103|Alexander| Hunold| AHUNOLD|590.423.4567|1990-01-03|IT_PROG| 9000.0|null| 102|  60|           2|\n",
      "|103|Alexander| Hunold| AHUNOLD|590.423.4567|1990-01-03|IT_PROG| 9000.0|null| 102|  60|           3|\n",
      "|103|Alexander| Hunold| AHUNOLD|590.423.4567|1990-01-03|IT_PROG| 9000.0|null| 102|  60|           4|\n",
      "|103|Alexander| Hunold| AHUNOLD|590.423.4567|1990-01-03|IT_PROG| 9000.0|null| 102|  60|           5|\n",
      "+---+---------+-------+--------+------------+----------+-------+-------+----+----+----+------------+\n",
      "only showing top 20 rows\n",
      "\n"
     ]
    }
   ],
   "source": [
    "df_medium.show()"
   ]
  },
  {
   "cell_type": "code",
   "execution_count": 72,
   "id": "6c0c3a31-9b84-43f1-934f-ea4dbbdf5ee8",
   "metadata": {},
   "outputs": [],
   "source": [
    "df_medium_1 = df_medium.withColumn('_c1_exploded', concat(df_medium['_c1'], lit('_'), df_medium['_c1_exploded'])). \\\n",
    "            drop('_c1').withColumnRenamed('_c1_exploded', '_c1')"
   ]
  },
  {
   "cell_type": "code",
   "execution_count": 73,
   "id": "922aefcc-9782-4f91-9c84-08bf9a56f7b2",
   "metadata": {},
   "outputs": [
    {
     "name": "stdout",
     "output_type": "stream",
     "text": [
      "+---+-------+--------+------------+----------+-------+-------+----+----+----+-----------+\n",
      "|_c0|    _c2|     _c3|         _c4|       _c5|    _c6|    _c7| _c8| _c9|_c10|        _c1|\n",
      "+---+-------+--------+------------+----------+-------+-------+----+----+----+-----------+\n",
      "|100|   King|   SKING|515.123.4567|1987-06-17|AD_PRES|24000.0|null|null|  90|   Steven_1|\n",
      "|100|   King|   SKING|515.123.4567|1987-06-17|AD_PRES|24000.0|null|null|  90|   Steven_2|\n",
      "|100|   King|   SKING|515.123.4567|1987-06-17|AD_PRES|24000.0|null|null|  90|   Steven_3|\n",
      "|100|   King|   SKING|515.123.4567|1987-06-17|AD_PRES|24000.0|null|null|  90|   Steven_4|\n",
      "|100|   King|   SKING|515.123.4567|1987-06-17|AD_PRES|24000.0|null|null|  90|   Steven_5|\n",
      "|101|Kochhar|NKOCHHAR|515.123.4568|1989-09-21|  AD_VP|17000.0|null| 100|  90|    Neena_1|\n",
      "|101|Kochhar|NKOCHHAR|515.123.4568|1989-09-21|  AD_VP|17000.0|null| 100|  90|    Neena_2|\n",
      "|101|Kochhar|NKOCHHAR|515.123.4568|1989-09-21|  AD_VP|17000.0|null| 100|  90|    Neena_3|\n",
      "|101|Kochhar|NKOCHHAR|515.123.4568|1989-09-21|  AD_VP|17000.0|null| 100|  90|    Neena_4|\n",
      "|101|Kochhar|NKOCHHAR|515.123.4568|1989-09-21|  AD_VP|17000.0|null| 100|  90|    Neena_5|\n",
      "|102|De Haan| LDEHAAN|515.123.4569|1993-01-13|  AD_VP|17000.0|null| 100|  90|      Lex_1|\n",
      "|102|De Haan| LDEHAAN|515.123.4569|1993-01-13|  AD_VP|17000.0|null| 100|  90|      Lex_2|\n",
      "|102|De Haan| LDEHAAN|515.123.4569|1993-01-13|  AD_VP|17000.0|null| 100|  90|      Lex_3|\n",
      "|102|De Haan| LDEHAAN|515.123.4569|1993-01-13|  AD_VP|17000.0|null| 100|  90|      Lex_4|\n",
      "|102|De Haan| LDEHAAN|515.123.4569|1993-01-13|  AD_VP|17000.0|null| 100|  90|      Lex_5|\n",
      "|103| Hunold| AHUNOLD|590.423.4567|1990-01-03|IT_PROG| 9000.0|null| 102|  60|Alexander_1|\n",
      "|103| Hunold| AHUNOLD|590.423.4567|1990-01-03|IT_PROG| 9000.0|null| 102|  60|Alexander_2|\n",
      "|103| Hunold| AHUNOLD|590.423.4567|1990-01-03|IT_PROG| 9000.0|null| 102|  60|Alexander_3|\n",
      "|103| Hunold| AHUNOLD|590.423.4567|1990-01-03|IT_PROG| 9000.0|null| 102|  60|Alexander_4|\n",
      "|103| Hunold| AHUNOLD|590.423.4567|1990-01-03|IT_PROG| 9000.0|null| 102|  60|Alexander_5|\n",
      "+---+-------+--------+------------+----------+-------+-------+----+----+----+-----------+\n",
      "only showing top 20 rows\n",
      "\n"
     ]
    }
   ],
   "source": [
    "df_medium_1.show()"
   ]
  },
  {
   "cell_type": "code",
   "execution_count": 76,
   "id": "77ec9135-418d-4fef-bf6e-769c630d1eb8",
   "metadata": {},
   "outputs": [],
   "source": [
    "import pandas as pd\n",
    "import numpy as np\n",
    "from pyspark.sql import functions as F"
   ]
  },
  {
   "cell_type": "code",
   "execution_count": 91,
   "id": "14e76fe3-95a8-4a15-9205-89d7f727fbf9",
   "metadata": {},
   "outputs": [],
   "source": [
    "# set smaller number of partitions so they can fit the screen\n",
    "spark.conf.set('spark.sql.shuffle.partitions', 8)\n",
    "# disable broadcast join to see the shuffle\n",
    "spark.conf.set(\"spark.sql.autoBroadcastJoinThreshold\", -1)\n",
    "\n",
    "spark.conf.set(\"spark.sql.execution.arrow.pyspark.fallback.enabled\", \"false\")"
   ]
  },
  {
   "cell_type": "code",
   "execution_count": 77,
   "id": "d02880a5-0d5f-4e8e-9a16-db47a513555b",
   "metadata": {},
   "outputs": [],
   "source": [
    "length = 100\n",
    "names = np.random.choice(['Bob', 'James', 'Marek', 'Johannes', None], length)\n",
    "amounts = np.random.randint(0, 1000000, length)"
   ]
  },
  {
   "cell_type": "code",
   "execution_count": 79,
   "id": "f26b39bb-1cfe-48cd-a957-46212e0ce7e9",
   "metadata": {},
   "outputs": [
    {
     "data": {
      "text/plain": [
       "array(['Marek', 'Marek', 'Marek', 'Bob', None, 'James', 'Marek', 'Bob',\n",
       "       'Johannes', 'James', 'Johannes', 'Marek', 'James', 'Marek',\n",
       "       'Johannes', 'James', 'James', 'James', 'James', 'Johannes', None,\n",
       "       'Johannes', 'Johannes', 'James', None, None, 'Marek', 'James',\n",
       "       'Bob', 'Marek', 'Bob', None, 'Johannes', 'Marek', 'James', 'James',\n",
       "       'Marek', None, None, 'Marek', 'Johannes', 'Marek', 'Marek', 'Bob',\n",
       "       None, 'Bob', 'James', None, 'Bob', 'Bob', 'Johannes', 'James',\n",
       "       None, 'Johannes', 'Marek', 'Marek', 'Johannes', 'Marek',\n",
       "       'Johannes', 'Bob', 'Johannes', 'James', 'Bob', 'Bob', 'Bob', 'Bob',\n",
       "       None, 'Marek', None, 'Bob', 'Marek', 'Bob', 'James', 'Marek', None,\n",
       "       'James', 'Johannes', 'Bob', 'Johannes', None, 'Marek', 'Johannes',\n",
       "       None, 'James', 'Johannes', 'Bob', 'Bob', 'Marek', None, None,\n",
       "       'Marek', 'Bob', 'Johannes', None, 'Johannes', 'James', 'James',\n",
       "       'Bob', None, 'Marek'], dtype=object)"
      ]
     },
     "execution_count": 79,
     "metadata": {},
     "output_type": "execute_result"
    }
   ],
   "source": [
    "names"
   ]
  },
  {
   "cell_type": "code",
   "execution_count": 80,
   "id": "643ddfdd-5422-4009-839e-d3439a23f7f6",
   "metadata": {},
   "outputs": [
    {
     "data": {
      "text/plain": [
       "array([625428, 354905, 786862, 329732, 385746, 883413, 327843, 776204,\n",
       "       344419,  33482, 849905, 318942, 699952, 482184, 287383, 928853,\n",
       "       897561, 502373, 274584, 537028, 842104, 154472, 114269, 905650,\n",
       "       803617, 840777, 999541, 511334,  13475, 532444, 224162, 262648,\n",
       "       410714, 232624, 632641, 495081, 824554,  12672, 942438, 735861,\n",
       "       278370, 753731,  57537, 527781, 925971, 369108, 181062, 939915,\n",
       "       728786, 769452, 415113, 222877, 476512, 659694, 694243, 732471,\n",
       "       289787, 643635, 518212, 850919, 564583, 899643, 379627, 912322,\n",
       "       445168,  34704, 191905, 568279, 913129, 596860, 618421, 532874,\n",
       "       321354, 849430, 810338, 818161, 489120, 450119, 325739, 543400,\n",
       "       877071,  39297,  49298, 923425, 473428, 334309, 593521, 770562,\n",
       "       336717, 210286, 865504, 118600, 506354, 829402, 429917, 499996,\n",
       "       877848, 142872, 748436, 851767])"
      ]
     },
     "execution_count": 80,
     "metadata": {},
     "output_type": "execute_result"
    }
   ],
   "source": [
    "amounts"
   ]
  },
  {
   "cell_type": "code",
   "execution_count": 81,
   "id": "6aaede94-4e4b-47b8-9a11-020e1e983de0",
   "metadata": {},
   "outputs": [],
   "source": [
    "country = np.random.choice(\n",
    "    ['United Kingdom', 'Poland', 'USA', 'Germany', 'Russia'], \n",
    "    length,\n",
    "    p = [0.05, 0.05, 0.8, 0.05, 0.05]\n",
    ")"
   ]
  },
  {
   "cell_type": "code",
   "execution_count": 82,
   "id": "5e7b65b0-f83e-4a08-94f7-6a83e6f9ec02",
   "metadata": {},
   "outputs": [
    {
     "data": {
      "text/plain": [
       "array(['USA', 'USA', 'Russia', 'USA', 'Russia', 'USA', 'USA', 'USA',\n",
       "       'USA', 'USA', 'Germany', 'Russia', 'USA', 'USA', 'USA', 'USA',\n",
       "       'USA', 'USA', 'Germany', 'USA', 'USA', 'United Kingdom', 'USA',\n",
       "       'USA', 'USA', 'USA', 'Germany', 'USA', 'USA', 'USA', 'USA', 'USA',\n",
       "       'USA', 'USA', 'USA', 'USA', 'USA', 'USA', 'USA', 'United Kingdom',\n",
       "       'United Kingdom', 'USA', 'Germany', 'USA', 'USA', 'USA', 'USA',\n",
       "       'USA', 'USA', 'Poland', 'USA', 'USA', 'USA', 'USA', 'USA', 'USA',\n",
       "       'USA', 'Russia', 'USA', 'USA', 'USA', 'USA', 'USA', 'USA', 'USA',\n",
       "       'USA', 'Poland', 'USA', 'USA', 'USA', 'Germany', 'Russia', 'USA',\n",
       "       'Poland', 'USA', 'USA', 'USA', 'USA', 'United Kingdom', 'USA',\n",
       "       'USA', 'USA', 'USA', 'USA', 'USA', 'Germany', 'USA', 'USA',\n",
       "       'Russia', 'USA', 'USA', 'USA', 'USA', 'USA', 'USA', 'USA', 'USA',\n",
       "       'USA', 'USA', 'USA'], dtype='<U14')"
      ]
     },
     "execution_count": 82,
     "metadata": {},
     "output_type": "execute_result"
    }
   ],
   "source": [
    "country"
   ]
  },
  {
   "cell_type": "code",
   "execution_count": 83,
   "id": "4528069b-829d-4937-8a04-0ba54160e99a",
   "metadata": {},
   "outputs": [],
   "source": [
    "##this is python pada data frame\n",
    "data = pd.DataFrame({'name': names, 'amount': amounts, 'country': country})"
   ]
  },
  {
   "cell_type": "code",
   "execution_count": 88,
   "id": "48db4be4-3f27-458e-9122-f85525843f7b",
   "metadata": {},
   "outputs": [
    {
     "data": {
      "text/plain": [
       "pandas.core.frame.DataFrame"
      ]
     },
     "execution_count": 88,
     "metadata": {},
     "output_type": "execute_result"
    }
   ],
   "source": [
    "type(data)"
   ]
  },
  {
   "cell_type": "code",
   "execution_count": 89,
   "id": "a7324147-013f-4a15-9f13-f9b7c2cfca40",
   "metadata": {},
   "outputs": [
    {
     "data": {
      "text/html": [
       "<div>\n",
       "<style scoped>\n",
       "    .dataframe tbody tr th:only-of-type {\n",
       "        vertical-align: middle;\n",
       "    }\n",
       "\n",
       "    .dataframe tbody tr th {\n",
       "        vertical-align: top;\n",
       "    }\n",
       "\n",
       "    .dataframe thead th {\n",
       "        text-align: right;\n",
       "    }\n",
       "</style>\n",
       "<table border=\"1\" class=\"dataframe\">\n",
       "  <thead>\n",
       "    <tr style=\"text-align: right;\">\n",
       "      <th></th>\n",
       "      <th>name</th>\n",
       "      <th>amount</th>\n",
       "      <th>country</th>\n",
       "    </tr>\n",
       "  </thead>\n",
       "  <tbody>\n",
       "    <tr>\n",
       "      <th>0</th>\n",
       "      <td>Marek</td>\n",
       "      <td>625428</td>\n",
       "      <td>USA</td>\n",
       "    </tr>\n",
       "    <tr>\n",
       "      <th>1</th>\n",
       "      <td>Marek</td>\n",
       "      <td>354905</td>\n",
       "      <td>USA</td>\n",
       "    </tr>\n",
       "    <tr>\n",
       "      <th>2</th>\n",
       "      <td>Marek</td>\n",
       "      <td>786862</td>\n",
       "      <td>Russia</td>\n",
       "    </tr>\n",
       "    <tr>\n",
       "      <th>3</th>\n",
       "      <td>Bob</td>\n",
       "      <td>329732</td>\n",
       "      <td>USA</td>\n",
       "    </tr>\n",
       "    <tr>\n",
       "      <th>4</th>\n",
       "      <td>None</td>\n",
       "      <td>385746</td>\n",
       "      <td>Russia</td>\n",
       "    </tr>\n",
       "    <tr>\n",
       "      <th>...</th>\n",
       "      <td>...</td>\n",
       "      <td>...</td>\n",
       "      <td>...</td>\n",
       "    </tr>\n",
       "    <tr>\n",
       "      <th>95</th>\n",
       "      <td>James</td>\n",
       "      <td>499996</td>\n",
       "      <td>USA</td>\n",
       "    </tr>\n",
       "    <tr>\n",
       "      <th>96</th>\n",
       "      <td>James</td>\n",
       "      <td>877848</td>\n",
       "      <td>USA</td>\n",
       "    </tr>\n",
       "    <tr>\n",
       "      <th>97</th>\n",
       "      <td>Bob</td>\n",
       "      <td>142872</td>\n",
       "      <td>USA</td>\n",
       "    </tr>\n",
       "    <tr>\n",
       "      <th>98</th>\n",
       "      <td>None</td>\n",
       "      <td>748436</td>\n",
       "      <td>USA</td>\n",
       "    </tr>\n",
       "    <tr>\n",
       "      <th>99</th>\n",
       "      <td>Marek</td>\n",
       "      <td>851767</td>\n",
       "      <td>USA</td>\n",
       "    </tr>\n",
       "  </tbody>\n",
       "</table>\n",
       "<p>100 rows × 3 columns</p>\n",
       "</div>"
      ],
      "text/plain": [
       "     name  amount country\n",
       "0   Marek  625428     USA\n",
       "1   Marek  354905     USA\n",
       "2   Marek  786862  Russia\n",
       "3     Bob  329732     USA\n",
       "4    None  385746  Russia\n",
       "..    ...     ...     ...\n",
       "95  James  499996     USA\n",
       "96  James  877848     USA\n",
       "97    Bob  142872     USA\n",
       "98   None  748436     USA\n",
       "99  Marek  851767     USA\n",
       "\n",
       "[100 rows x 3 columns]"
      ]
     },
     "execution_count": 89,
     "metadata": {},
     "output_type": "execute_result"
    }
   ],
   "source": [
    "data"
   ]
  },
  {
   "cell_type": "code",
   "execution_count": 93,
   "id": "7a5e6eab-507f-4d2f-8363-9db8add1d765",
   "metadata": {},
   "outputs": [],
   "source": [
    "#this is spark dataframe\n",
    "transactions = spark.createDataFrame(data).repartition('country')"
   ]
  },
  {
   "cell_type": "code",
   "execution_count": 111,
   "id": "59a02f3c-25b4-426e-beaa-1d428cc5b75e",
   "metadata": {},
   "outputs": [
    {
     "data": {
      "text/plain": [
       "8"
      ]
     },
     "execution_count": 111,
     "metadata": {},
     "output_type": "execute_result"
    }
   ],
   "source": [
    "transactions.rdd.getNumPartitions()"
   ]
  },
  {
   "cell_type": "code",
   "execution_count": 94,
   "id": "7e344afa-5463-4ff7-8a14-6a0754829c26",
   "metadata": {},
   "outputs": [
    {
     "name": "stdout",
     "output_type": "stream",
     "text": [
      "+--------+------+--------------+\n",
      "|    name|amount|       country|\n",
      "+--------+------+--------------+\n",
      "|   Marek|643635|        Russia|\n",
      "|     Bob|532874|        Russia|\n",
      "|    null|336717|        Russia|\n",
      "|   Marek|786862|        Russia|\n",
      "|    null|385746|        Russia|\n",
      "|   Marek|318942|        Russia|\n",
      "|Johannes|154472|United Kingdom|\n",
      "|   Marek|735861|United Kingdom|\n",
      "|Johannes|278370|United Kingdom|\n",
      "|Johannes|325739|United Kingdom|\n",
      "|Johannes|415113|           USA|\n",
      "|   James|222877|           USA|\n",
      "|    null|476512|           USA|\n",
      "|Johannes|659694|           USA|\n",
      "|   Marek|694243|           USA|\n",
      "|   Marek|732471|           USA|\n",
      "|Johannes|289787|           USA|\n",
      "|Johannes|518212|           USA|\n",
      "|     Bob|850919|           USA|\n",
      "|Johannes|564583|           USA|\n",
      "+--------+------+--------------+\n",
      "only showing top 20 rows\n",
      "\n"
     ]
    }
   ],
   "source": [
    "transactions.show()"
   ]
  },
  {
   "cell_type": "code",
   "execution_count": 95,
   "id": "b777fdaa-0f77-43c8-a9fd-cb67e8f39870",
   "metadata": {},
   "outputs": [],
   "source": [
    "countries = spark.createDataFrame(pd.DataFrame({\n",
    "    'id': [11, 12, 13, 14, 15], \n",
    "    'country': ['United Kingdom', 'Poland', 'USA', 'Germany', 'Russia']\n",
    "}))"
   ]
  },
  {
   "cell_type": "code",
   "execution_count": 96,
   "id": "44168e3f-7261-4738-b8aa-7b2164d27a18",
   "metadata": {},
   "outputs": [
    {
     "name": "stdout",
     "output_type": "stream",
     "text": [
      "+---+--------------+\n",
      "| id|       country|\n",
      "+---+--------------+\n",
      "| 11|United Kingdom|\n",
      "| 12|        Poland|\n",
      "| 13|           USA|\n",
      "| 14|       Germany|\n",
      "| 15|        Russia|\n",
      "+---+--------------+\n",
      "\n"
     ]
    }
   ],
   "source": [
    "countries.show()"
   ]
  },
  {
   "cell_type": "code",
   "execution_count": 97,
   "id": "06247a9b-5dd5-4f56-aee9-d0d27714e9a8",
   "metadata": {},
   "outputs": [],
   "source": [
    "df = transactions.join(countries, 'country')"
   ]
  },
  {
   "cell_type": "code",
   "execution_count": 98,
   "id": "c0fb30e5-8b4d-4da3-a6b4-7979224919c9",
   "metadata": {},
   "outputs": [
    {
     "name": "stdout",
     "output_type": "stream",
     "text": [
      "+--------------+--------+------+---+\n",
      "|       country|    name|amount| id|\n",
      "+--------------+--------+------+---+\n",
      "|        Russia|   Marek|786862| 15|\n",
      "|        Russia|    null|385746| 15|\n",
      "|        Russia|   Marek|318942| 15|\n",
      "|        Russia|   Marek|643635| 15|\n",
      "|        Russia|     Bob|532874| 15|\n",
      "|        Russia|    null|336717| 15|\n",
      "|United Kingdom|Johannes|325739| 11|\n",
      "|United Kingdom|Johannes|154472| 11|\n",
      "|United Kingdom|   Marek|735861| 11|\n",
      "|United Kingdom|Johannes|278370| 11|\n",
      "|       Germany|Johannes|849905| 14|\n",
      "|       Germany|   James|274584| 14|\n",
      "|       Germany|   Marek|999541| 14|\n",
      "|       Germany|   Marek| 57537| 14|\n",
      "|       Germany|   Marek|618421| 14|\n",
      "|       Germany|     Bob|334309| 14|\n",
      "|        Poland|     Bob|769452| 12|\n",
      "|        Poland|    null|191905| 12|\n",
      "|        Poland|   Marek|849430| 12|\n",
      "|           USA|   Marek|625428| 13|\n",
      "+--------------+--------+------+---+\n",
      "only showing top 20 rows\n",
      "\n"
     ]
    }
   ],
   "source": [
    "df.show()"
   ]
  },
  {
   "cell_type": "code",
   "execution_count": 112,
   "id": "fb71b972-36f2-4982-abcd-5cfbc88f7519",
   "metadata": {},
   "outputs": [
    {
     "data": {
      "text/plain": [
       "[[],\n",
       " [],\n",
       " [Row(country='Russia', name='Marek', amount=786862, id=15),\n",
       "  Row(country='Russia', name=None, amount=385746, id=15),\n",
       "  Row(country='Russia', name='Marek', amount=318942, id=15),\n",
       "  Row(country='Russia', name='Marek', amount=643635, id=15),\n",
       "  Row(country='Russia', name='Bob', amount=532874, id=15),\n",
       "  Row(country='Russia', name=None, amount=336717, id=15)],\n",
       " [Row(country='United Kingdom', name='Johannes', amount=325739, id=11),\n",
       "  Row(country='United Kingdom', name='Johannes', amount=154472, id=11),\n",
       "  Row(country='United Kingdom', name='Marek', amount=735861, id=11),\n",
       "  Row(country='United Kingdom', name='Johannes', amount=278370, id=11)],\n",
       " [],\n",
       " [],\n",
       " [Row(country='Germany', name='Johannes', amount=849905, id=14),\n",
       "  Row(country='Germany', name='James', amount=274584, id=14),\n",
       "  Row(country='Germany', name='Marek', amount=999541, id=14),\n",
       "  Row(country='Germany', name='Marek', amount=57537, id=14),\n",
       "  Row(country='Germany', name='Marek', amount=618421, id=14),\n",
       "  Row(country='Germany', name='Bob', amount=334309, id=14),\n",
       "  Row(country='Poland', name='Bob', amount=769452, id=12),\n",
       "  Row(country='Poland', name=None, amount=191905, id=12),\n",
       "  Row(country='Poland', name='Marek', amount=849430, id=12),\n",
       "  Row(country='USA', name='Marek', amount=625428, id=13),\n",
       "  Row(country='USA', name='Marek', amount=354905, id=13),\n",
       "  Row(country='USA', name='Bob', amount=329732, id=13),\n",
       "  Row(country='USA', name='James', amount=883413, id=13),\n",
       "  Row(country='USA', name='Marek', amount=327843, id=13),\n",
       "  Row(country='USA', name='Bob', amount=776204, id=13),\n",
       "  Row(country='USA', name='Johannes', amount=344419, id=13),\n",
       "  Row(country='USA', name='James', amount=33482, id=13),\n",
       "  Row(country='USA', name='James', amount=699952, id=13),\n",
       "  Row(country='USA', name='Marek', amount=482184, id=13),\n",
       "  Row(country='USA', name='Johannes', amount=287383, id=13),\n",
       "  Row(country='USA', name='James', amount=928853, id=13),\n",
       "  Row(country='USA', name='James', amount=897561, id=13),\n",
       "  Row(country='USA', name='James', amount=502373, id=13),\n",
       "  Row(country='USA', name='Johannes', amount=537028, id=13),\n",
       "  Row(country='USA', name=None, amount=842104, id=13),\n",
       "  Row(country='USA', name='Johannes', amount=114269, id=13),\n",
       "  Row(country='USA', name='James', amount=905650, id=13),\n",
       "  Row(country='USA', name=None, amount=803617, id=13),\n",
       "  Row(country='USA', name=None, amount=840777, id=13),\n",
       "  Row(country='USA', name='James', amount=511334, id=13),\n",
       "  Row(country='USA', name='Bob', amount=13475, id=13),\n",
       "  Row(country='USA', name='Marek', amount=532444, id=13),\n",
       "  Row(country='USA', name='Bob', amount=224162, id=13),\n",
       "  Row(country='USA', name=None, amount=262648, id=13),\n",
       "  Row(country='USA', name='Johannes', amount=410714, id=13),\n",
       "  Row(country='USA', name='Marek', amount=232624, id=13),\n",
       "  Row(country='USA', name='James', amount=632641, id=13),\n",
       "  Row(country='USA', name='James', amount=495081, id=13),\n",
       "  Row(country='USA', name='Marek', amount=824554, id=13),\n",
       "  Row(country='USA', name=None, amount=12672, id=13),\n",
       "  Row(country='USA', name=None, amount=942438, id=13),\n",
       "  Row(country='USA', name='Marek', amount=753731, id=13),\n",
       "  Row(country='USA', name='Bob', amount=527781, id=13),\n",
       "  Row(country='USA', name=None, amount=925971, id=13),\n",
       "  Row(country='USA', name='Bob', amount=369108, id=13),\n",
       "  Row(country='USA', name='James', amount=181062, id=13),\n",
       "  Row(country='USA', name=None, amount=939915, id=13),\n",
       "  Row(country='USA', name='Bob', amount=728786, id=13),\n",
       "  Row(country='USA', name='Johannes', amount=415113, id=13),\n",
       "  Row(country='USA', name='James', amount=222877, id=13),\n",
       "  Row(country='USA', name=None, amount=476512, id=13),\n",
       "  Row(country='USA', name='Johannes', amount=659694, id=13),\n",
       "  Row(country='USA', name='Marek', amount=694243, id=13),\n",
       "  Row(country='USA', name='Marek', amount=732471, id=13),\n",
       "  Row(country='USA', name='Johannes', amount=289787, id=13),\n",
       "  Row(country='USA', name='Johannes', amount=518212, id=13),\n",
       "  Row(country='USA', name='Bob', amount=850919, id=13),\n",
       "  Row(country='USA', name='Johannes', amount=564583, id=13),\n",
       "  Row(country='USA', name='James', amount=899643, id=13),\n",
       "  Row(country='USA', name='Bob', amount=379627, id=13),\n",
       "  Row(country='USA', name='Bob', amount=912322, id=13),\n",
       "  Row(country='USA', name='Bob', amount=445168, id=13),\n",
       "  Row(country='USA', name='Bob', amount=34704, id=13),\n",
       "  Row(country='USA', name='Marek', amount=568279, id=13),\n",
       "  Row(country='USA', name=None, amount=913129, id=13),\n",
       "  Row(country='USA', name='Bob', amount=596860, id=13),\n",
       "  Row(country='USA', name='James', amount=321354, id=13),\n",
       "  Row(country='USA', name=None, amount=810338, id=13),\n",
       "  Row(country='USA', name='James', amount=818161, id=13),\n",
       "  Row(country='USA', name='Johannes', amount=489120, id=13),\n",
       "  Row(country='USA', name='Bob', amount=450119, id=13),\n",
       "  Row(country='USA', name=None, amount=543400, id=13),\n",
       "  Row(country='USA', name='Marek', amount=877071, id=13),\n",
       "  Row(country='USA', name='Johannes', amount=39297, id=13),\n",
       "  Row(country='USA', name=None, amount=49298, id=13),\n",
       "  Row(country='USA', name='James', amount=923425, id=13),\n",
       "  Row(country='USA', name='Johannes', amount=473428, id=13),\n",
       "  Row(country='USA', name='Bob', amount=593521, id=13),\n",
       "  Row(country='USA', name='Marek', amount=770562, id=13),\n",
       "  Row(country='USA', name=None, amount=210286, id=13),\n",
       "  Row(country='USA', name='Marek', amount=865504, id=13),\n",
       "  Row(country='USA', name='Bob', amount=118600, id=13),\n",
       "  Row(country='USA', name='Johannes', amount=506354, id=13),\n",
       "  Row(country='USA', name=None, amount=829402, id=13),\n",
       "  Row(country='USA', name='Johannes', amount=429917, id=13),\n",
       "  Row(country='USA', name='James', amount=499996, id=13),\n",
       "  Row(country='USA', name='James', amount=877848, id=13),\n",
       "  Row(country='USA', name='Bob', amount=142872, id=13),\n",
       "  Row(country='USA', name=None, amount=748436, id=13),\n",
       "  Row(country='USA', name='Marek', amount=851767, id=13)],\n",
       " []]"
      ]
     },
     "execution_count": 112,
     "metadata": {},
     "output_type": "execute_result"
    }
   ],
   "source": [
    "df.rdd.glom().collect()"
   ]
  },
  {
   "cell_type": "code",
   "execution_count": 99,
   "id": "12d43a02-4384-4b31-8ae1-2eae47f7dc31",
   "metadata": {},
   "outputs": [
    {
     "name": "stdout",
     "output_type": "stream",
     "text": [
      "{0: []}\n",
      "{1: []}\n",
      "{2: [Row(country='Russia', name='Marek', amount=643635, id=15), Row(country='Russia', name='Bob', amount=532874, id=15), Row(country='Russia', name=None, amount=336717, id=15), Row(country='Russia', name='Marek', amount=786862, id=15), Row(country='Russia', name=None, amount=385746, id=15), Row(country='Russia', name='Marek', amount=318942, id=15)]}\n",
      "{3: [Row(country='United Kingdom', name='Johannes', amount=154472, id=11), Row(country='United Kingdom', name='Marek', amount=735861, id=11), Row(country='United Kingdom', name='Johannes', amount=278370, id=11), Row(country='United Kingdom', name='Johannes', amount=325739, id=11)]}\n",
      "{4: []}\n",
      "{5: []}\n",
      "{6: [Row(country='Germany', name='Marek', amount=618421, id=14), Row(country='Germany', name='Bob', amount=334309, id=14), Row(country='Germany', name='Johannes', amount=849905, id=14), Row(country='Germany', name='James', amount=274584, id=14), Row(country='Germany', name='Marek', amount=999541, id=14), Row(country='Germany', name='Marek', amount=57537, id=14), Row(country='Poland', name=None, amount=191905, id=12), Row(country='Poland', name='Marek', amount=849430, id=12), Row(country='Poland', name='Bob', amount=769452, id=12), Row(country='USA', name='Johannes', amount=415113, id=13), Row(country='USA', name='James', amount=222877, id=13), Row(country='USA', name=None, amount=476512, id=13), Row(country='USA', name='Johannes', amount=659694, id=13), Row(country='USA', name='Marek', amount=694243, id=13), Row(country='USA', name='Marek', amount=732471, id=13), Row(country='USA', name='Johannes', amount=289787, id=13), Row(country='USA', name='Johannes', amount=518212, id=13), Row(country='USA', name='Bob', amount=850919, id=13), Row(country='USA', name='Johannes', amount=564583, id=13), Row(country='USA', name='James', amount=899643, id=13), Row(country='USA', name='Bob', amount=379627, id=13), Row(country='USA', name='Bob', amount=912322, id=13), Row(country='USA', name='Bob', amount=445168, id=13), Row(country='USA', name='Bob', amount=34704, id=13), Row(country='USA', name='Marek', amount=568279, id=13), Row(country='USA', name=None, amount=913129, id=13), Row(country='USA', name='Bob', amount=596860, id=13), Row(country='USA', name='James', amount=321354, id=13), Row(country='USA', name=None, amount=810338, id=13), Row(country='USA', name='James', amount=818161, id=13), Row(country='USA', name='Johannes', amount=489120, id=13), Row(country='USA', name='Bob', amount=450119, id=13), Row(country='USA', name=None, amount=543400, id=13), Row(country='USA', name='Marek', amount=877071, id=13), Row(country='USA', name='Johannes', amount=39297, id=13), Row(country='USA', name=None, amount=49298, id=13), Row(country='USA', name='James', amount=923425, id=13), Row(country='USA', name='Johannes', amount=473428, id=13), Row(country='USA', name='Bob', amount=593521, id=13), Row(country='USA', name='Marek', amount=770562, id=13), Row(country='USA', name=None, amount=210286, id=13), Row(country='USA', name='Marek', amount=865504, id=13), Row(country='USA', name='Bob', amount=118600, id=13), Row(country='USA', name='Johannes', amount=506354, id=13), Row(country='USA', name=None, amount=829402, id=13), Row(country='USA', name='Johannes', amount=429917, id=13), Row(country='USA', name='James', amount=499996, id=13), Row(country='USA', name='James', amount=877848, id=13), Row(country='USA', name='Bob', amount=142872, id=13), Row(country='USA', name=None, amount=748436, id=13), Row(country='USA', name='Marek', amount=851767, id=13), Row(country='USA', name='Marek', amount=625428, id=13), Row(country='USA', name='Marek', amount=354905, id=13), Row(country='USA', name='Bob', amount=329732, id=13), Row(country='USA', name='James', amount=883413, id=13), Row(country='USA', name='Marek', amount=327843, id=13), Row(country='USA', name='Bob', amount=776204, id=13), Row(country='USA', name='Johannes', amount=344419, id=13), Row(country='USA', name='James', amount=33482, id=13), Row(country='USA', name='James', amount=699952, id=13), Row(country='USA', name='Marek', amount=482184, id=13), Row(country='USA', name='Johannes', amount=287383, id=13), Row(country='USA', name='James', amount=928853, id=13), Row(country='USA', name='James', amount=897561, id=13), Row(country='USA', name='James', amount=502373, id=13), Row(country='USA', name='Johannes', amount=537028, id=13), Row(country='USA', name=None, amount=842104, id=13), Row(country='USA', name='Johannes', amount=114269, id=13), Row(country='USA', name='James', amount=905650, id=13), Row(country='USA', name=None, amount=803617, id=13), Row(country='USA', name=None, amount=840777, id=13), Row(country='USA', name='James', amount=511334, id=13), Row(country='USA', name='Bob', amount=13475, id=13), Row(country='USA', name='Marek', amount=532444, id=13), Row(country='USA', name='Bob', amount=224162, id=13), Row(country='USA', name=None, amount=262648, id=13), Row(country='USA', name='Johannes', amount=410714, id=13), Row(country='USA', name='Marek', amount=232624, id=13), Row(country='USA', name='James', amount=632641, id=13), Row(country='USA', name='James', amount=495081, id=13), Row(country='USA', name='Marek', amount=824554, id=13), Row(country='USA', name=None, amount=12672, id=13), Row(country='USA', name=None, amount=942438, id=13), Row(country='USA', name='Marek', amount=753731, id=13), Row(country='USA', name='Bob', amount=527781, id=13), Row(country='USA', name=None, amount=925971, id=13), Row(country='USA', name='Bob', amount=369108, id=13), Row(country='USA', name='James', amount=181062, id=13), Row(country='USA', name=None, amount=939915, id=13), Row(country='USA', name='Bob', amount=728786, id=13)]}\n",
      "{7: []}\n"
     ]
    }
   ],
   "source": [
    "for i, part in enumerate(df.rdd.glom().collect()):\n",
    "    print({i: part})"
   ]
  },
  {
   "cell_type": "code",
   "execution_count": 100,
   "id": "d184935e-a2c1-4130-bc0a-06f28eef3c2a",
   "metadata": {},
   "outputs": [
    {
     "data": {
      "text/plain": [
       "8"
      ]
     },
     "execution_count": 100,
     "metadata": {},
     "output_type": "execute_result"
    }
   ],
   "source": [
    "df.rdd.getNumPartitions()"
   ]
  },
  {
   "cell_type": "code",
   "execution_count": 104,
   "id": "06819583-3a0f-44da-b4cc-e2620b456b47",
   "metadata": {},
   "outputs": [],
   "source": [
    "replication_high = 7\n",
    "high = broadcast(spark.range(replication_high).withColumnRenamed('id', 'replica_id'))\n",
    "replication_low = 2\n",
    "low = F.broadcast(spark.range(replication_low).withColumnRenamed('id', 'replica_id'))"
   ]
  },
  {
   "cell_type": "code",
   "execution_count": 107,
   "id": "5a2157d3-1744-48fe-a342-0f7a8f164eec",
   "metadata": {},
   "outputs": [
    {
     "data": {
      "text/plain": [
       "pyspark.sql.dataframe.DataFrame"
      ]
     },
     "execution_count": 107,
     "metadata": {},
     "output_type": "execute_result"
    }
   ],
   "source": [
    "type(high)\n",
    "type(low)"
   ]
  },
  {
   "cell_type": "code",
   "execution_count": 106,
   "id": "6a7539d5-21ef-4015-932e-2616bf694048",
   "metadata": {},
   "outputs": [
    {
     "name": "stdout",
     "output_type": "stream",
     "text": [
      "+----------+\n",
      "|replica_id|\n",
      "+----------+\n",
      "|         0|\n",
      "|         1|\n",
      "|         2|\n",
      "|         3|\n",
      "|         4|\n",
      "|         5|\n",
      "|         6|\n",
      "+----------+\n",
      "\n"
     ]
    }
   ],
   "source": [
    "high.show()"
   ]
  },
  {
   "cell_type": "code",
   "execution_count": 121,
   "id": "eb49a6ed-7e83-41d4-8137-065a51429d00",
   "metadata": {},
   "outputs": [],
   "source": [
    "# determine which keys are highly over-represented, broadcast them\n",
    "skewed_keys = broadcast(\n",
    "\ttransactions.freqItems(['country'], 0.6)\n",
    ")"
   ]
  },
  {
   "cell_type": "code",
   "execution_count": 122,
   "id": "1ca18fb6-a007-439e-a768-46601ad31c0c",
   "metadata": {},
   "outputs": [
    {
     "data": {
      "text/plain": [
       "pyspark.sql.dataframe.DataFrame"
      ]
     },
     "execution_count": 122,
     "metadata": {},
     "output_type": "execute_result"
    }
   ],
   "source": [
    "type(skewed_keys)"
   ]
  },
  {
   "cell_type": "code",
   "execution_count": 123,
   "id": "f88521dd-4495-4404-a3c7-591777f15685",
   "metadata": {},
   "outputs": [
    {
     "name": "stdout",
     "output_type": "stream",
     "text": [
      "+-----------------+\n",
      "|country_freqItems|\n",
      "+-----------------+\n",
      "|            [USA]|\n",
      "+-----------------+\n",
      "\n"
     ]
    }
   ],
   "source": [
    "skewed_keys.show()"
   ]
  },
  {
   "cell_type": "code",
   "execution_count": 124,
   "id": "f3b80fa4-6cea-4d2a-9683-2d5185ccb31e",
   "metadata": {},
   "outputs": [],
   "source": [
    "# determine which keys are highly over-represented, broadcast them\n",
    "skewed_keys = F.broadcast(\n",
    "\ttransactions.freqItems(['country'], 0.6)\n",
    "\t.select(F.explode('country_freqItems').alias('country_freqItems'))\n",
    ")"
   ]
  },
  {
   "cell_type": "code",
   "execution_count": 117,
   "id": "0fa011f6-7850-4be8-8efd-ccc78bc28929",
   "metadata": {},
   "outputs": [
    {
     "name": "stdout",
     "output_type": "stream",
     "text": [
      "+-----------------+\n",
      "|country_freqItems|\n",
      "+-----------------+\n",
      "|              USA|\n",
      "+-----------------+\n",
      "\n"
     ]
    }
   ],
   "source": [
    "skewed_keys.show()"
   ]
  },
  {
   "cell_type": "code",
   "execution_count": 125,
   "id": "222be459-4b97-43e9-b9de-cbb852e4dd36",
   "metadata": {},
   "outputs": [],
   "source": [
    "# there is data frame named high above \n",
    "\n",
    "countries_skewed_keys = (\n",
    "    countries\n",
    "    .join(\n",
    "        skewed_keys, \n",
    "        countries.country == skewed_keys.country_freqItems, \n",
    "        how='inner'\n",
    "    )\n",
    "    .crossJoin(high)\n",
    "    .withColumn('composite_key', F.concat('country', F.lit('@'), 'replica_id'))\n",
    ")"
   ]
  },
  {
   "cell_type": "code",
   "execution_count": 126,
   "id": "4c9ccf73-480b-49e8-8ff3-5188ca3fde09",
   "metadata": {},
   "outputs": [
    {
     "name": "stdout",
     "output_type": "stream",
     "text": [
      "+---+-------+-----------------+----------+-------------+\n",
      "| id|country|country_freqItems|replica_id|composite_key|\n",
      "+---+-------+-----------------+----------+-------------+\n",
      "| 13|    USA|              USA|         0|        USA@0|\n",
      "| 13|    USA|              USA|         1|        USA@1|\n",
      "| 13|    USA|              USA|         2|        USA@2|\n",
      "| 13|    USA|              USA|         3|        USA@3|\n",
      "| 13|    USA|              USA|         4|        USA@4|\n",
      "| 13|    USA|              USA|         5|        USA@5|\n",
      "| 13|    USA|              USA|         6|        USA@6|\n",
      "+---+-------+-----------------+----------+-------------+\n",
      "\n"
     ]
    }
   ],
   "source": [
    "countries_skewed_keys.show()"
   ]
  },
  {
   "cell_type": "code",
   "execution_count": 127,
   "id": "a00507d1-524e-46b8-93e7-b4f967f63a56",
   "metadata": {},
   "outputs": [],
   "source": [
    "countries_rest = (\n",
    "    countries\n",
    "    .join(\n",
    "        skewed_keys, \n",
    "        countries.country == skewed_keys.country_freqItems, \n",
    "        how='leftanti'\n",
    "    )\n",
    "    .crossJoin(low)\n",
    "    .withColumn('composite_key', F.concat('country', F.lit('@'), 'replica_id'))\n",
    "    .withColumn('country_freqItems', F.lit(None))\n",
    ")"
   ]
  },
  {
   "cell_type": "code",
   "execution_count": 128,
   "id": "8cf6ed65-e1d0-4f70-9f9a-46d187a4d1d2",
   "metadata": {},
   "outputs": [
    {
     "name": "stdout",
     "output_type": "stream",
     "text": [
      "+---+--------------+----------+----------------+-----------------+\n",
      "| id|       country|replica_id|   composite_key|country_freqItems|\n",
      "+---+--------------+----------+----------------+-----------------+\n",
      "| 11|United Kingdom|         0|United Kingdom@0|             null|\n",
      "| 11|United Kingdom|         1|United Kingdom@1|             null|\n",
      "| 12|        Poland|         0|        Poland@0|             null|\n",
      "| 12|        Poland|         1|        Poland@1|             null|\n",
      "| 14|       Germany|         0|       Germany@0|             null|\n",
      "| 14|       Germany|         1|       Germany@1|             null|\n",
      "| 15|        Russia|         0|        Russia@0|             null|\n",
      "| 15|        Russia|         1|        Russia@1|             null|\n",
      "+---+--------------+----------+----------------+-----------------+\n",
      "\n"
     ]
    }
   ],
   "source": [
    "countries_rest.show()"
   ]
  },
  {
   "cell_type": "code",
   "execution_count": 129,
   "id": "a159f53f-8eaf-4f2d-8948-a9924f015244",
   "metadata": {},
   "outputs": [],
   "source": [
    "# this is now the entire uniform dataset replicated differently\n",
    "countries_replicated = countries_skewed_keys.union(countries_rest)"
   ]
  },
  {
   "cell_type": "code",
   "execution_count": 130,
   "id": "01b33f5f-7e94-49f3-8e00-a0877dafd8cd",
   "metadata": {},
   "outputs": [
    {
     "name": "stdout",
     "output_type": "stream",
     "text": [
      "+---+--------------+-----------------+----------------+-------------+\n",
      "| id|       country|country_freqItems|      replica_id|composite_key|\n",
      "+---+--------------+-----------------+----------------+-------------+\n",
      "| 13|           USA|              USA|               0|        USA@0|\n",
      "| 13|           USA|              USA|               1|        USA@1|\n",
      "| 13|           USA|              USA|               2|        USA@2|\n",
      "| 13|           USA|              USA|               3|        USA@3|\n",
      "| 13|           USA|              USA|               4|        USA@4|\n",
      "| 13|           USA|              USA|               5|        USA@5|\n",
      "| 13|           USA|              USA|               6|        USA@6|\n",
      "| 11|United Kingdom|                0|United Kingdom@0|         null|\n",
      "| 11|United Kingdom|                1|United Kingdom@1|         null|\n",
      "| 12|        Poland|                0|        Poland@0|         null|\n",
      "| 12|        Poland|                1|        Poland@1|         null|\n",
      "| 14|       Germany|                0|       Germany@0|         null|\n",
      "| 14|       Germany|                1|       Germany@1|         null|\n",
      "| 15|        Russia|                0|        Russia@0|         null|\n",
      "| 15|        Russia|                1|        Russia@1|         null|\n",
      "+---+--------------+-----------------+----------------+-------------+\n",
      "\n"
     ]
    }
   ],
   "source": [
    "countries_replicated.show()"
   ]
  },
  {
   "cell_type": "code",
   "execution_count": 131,
   "id": "5d13b38f-645f-453b-9df5-8e6734987f80",
   "metadata": {},
   "outputs": [],
   "source": [
    "transactions_tagged = (\n",
    "    transactions\n",
    "    .join(\n",
    "        skewed_keys, \n",
    "        transactions.country == skewed_keys.country_freqItems, \n",
    "        how='left'\n",
    "    )\n",
    "    .withColumn('replica_id',\n",
    "        F.when(\n",
    "            F.isnull(F.col('country_freqItems')), \n",
    "            (F.rand() * replication_low).cast('int'),\n",
    "        )\n",
    "        .otherwise((F.rand() * replication_high).cast('int'))\n",
    "    )\n",
    "    .withColumn('composite_key', F.concat('country', F.lit('@'), 'replica_id'))\n",
    ")"
   ]
  },
  {
   "cell_type": "code",
   "execution_count": 132,
   "id": "53e48357-6444-4865-8ba5-0e41e8af402c",
   "metadata": {},
   "outputs": [
    {
     "name": "stdout",
     "output_type": "stream",
     "text": [
      "{0: []}\n",
      "{1: [Row(composite_key='USA@0', name='Marek', amount=625428, country='USA', country_freqItems='USA', replica_id=0, id=13, country='USA', country_freqItems='USA', replica_id='0'), Row(composite_key='USA@0', name='Bob', amount=776204, country='USA', country_freqItems='USA', replica_id=0, id=13, country='USA', country_freqItems='USA', replica_id='0'), Row(composite_key='USA@0', name='Marek', amount=482184, country='USA', country_freqItems='USA', replica_id=0, id=13, country='USA', country_freqItems='USA', replica_id='0'), Row(composite_key='USA@0', name='James', amount=905650, country='USA', country_freqItems='USA', replica_id=0, id=13, country='USA', country_freqItems='USA', replica_id='0'), Row(composite_key='USA@0', name='Marek', amount=824554, country='USA', country_freqItems='USA', replica_id=0, id=13, country='USA', country_freqItems='USA', replica_id='0'), Row(composite_key='USA@0', name='James', amount=181062, country='USA', country_freqItems='USA', replica_id=0, id=13, country='USA', country_freqItems='USA', replica_id='0'), Row(composite_key='USA@0', name='Bob', amount=379627, country='USA', country_freqItems='USA', replica_id=0, id=13, country='USA', country_freqItems='USA', replica_id='0'), Row(composite_key='USA@0', name='Bob', amount=445168, country='USA', country_freqItems='USA', replica_id=0, id=13, country='USA', country_freqItems='USA', replica_id='0'), Row(composite_key='USA@0', name='Bob', amount=34704, country='USA', country_freqItems='USA', replica_id=0, id=13, country='USA', country_freqItems='USA', replica_id='0'), Row(composite_key='USA@0', name='James', amount=321354, country='USA', country_freqItems='USA', replica_id=0, id=13, country='USA', country_freqItems='USA', replica_id='0'), Row(composite_key='USA@0', name=None, amount=543400, country='USA', country_freqItems='USA', replica_id=0, id=13, country='USA', country_freqItems='USA', replica_id='0'), Row(composite_key='USA@0', name='Johannes', amount=473428, country='USA', country_freqItems='USA', replica_id=0, id=13, country='USA', country_freqItems='USA', replica_id='0'), Row(composite_key='USA@0', name='Bob', amount=593521, country='USA', country_freqItems='USA', replica_id=0, id=13, country='USA', country_freqItems='USA', replica_id='0'), Row(composite_key='USA@0', name='Bob', amount=142872, country='USA', country_freqItems='USA', replica_id=0, id=13, country='USA', country_freqItems='USA', replica_id='0'), Row(composite_key='USA@5', name='Marek', amount=327843, country='USA', country_freqItems='USA', replica_id=5, id=13, country='USA', country_freqItems='USA', replica_id='5'), Row(composite_key='USA@5', name='James', amount=928853, country='USA', country_freqItems='USA', replica_id=5, id=13, country='USA', country_freqItems='USA', replica_id='5'), Row(composite_key='USA@5', name=None, amount=840777, country='USA', country_freqItems='USA', replica_id=5, id=13, country='USA', country_freqItems='USA', replica_id='5'), Row(composite_key='USA@5', name='Bob', amount=224162, country='USA', country_freqItems='USA', replica_id=5, id=13, country='USA', country_freqItems='USA', replica_id='5'), Row(composite_key='USA@5', name='Marek', amount=232624, country='USA', country_freqItems='USA', replica_id=5, id=13, country='USA', country_freqItems='USA', replica_id='5'), Row(composite_key='USA@5', name='James', amount=495081, country='USA', country_freqItems='USA', replica_id=5, id=13, country='USA', country_freqItems='USA', replica_id='5'), Row(composite_key='USA@5', name=None, amount=942438, country='USA', country_freqItems='USA', replica_id=5, id=13, country='USA', country_freqItems='USA', replica_id='5'), Row(composite_key='USA@5', name='Marek', amount=753731, country='USA', country_freqItems='USA', replica_id=5, id=13, country='USA', country_freqItems='USA', replica_id='5'), Row(composite_key='USA@5', name='Bob', amount=527781, country='USA', country_freqItems='USA', replica_id=5, id=13, country='USA', country_freqItems='USA', replica_id='5'), Row(composite_key='USA@5', name=None, amount=925971, country='USA', country_freqItems='USA', replica_id=5, id=13, country='USA', country_freqItems='USA', replica_id='5'), Row(composite_key='USA@5', name='Marek', amount=770562, country='USA', country_freqItems='USA', replica_id=5, id=13, country='USA', country_freqItems='USA', replica_id='5'), Row(composite_key='USA@5', name='Johannes', amount=506354, country='USA', country_freqItems='USA', replica_id=5, id=13, country='USA', country_freqItems='USA', replica_id='5')]}\n",
      "{2: [Row(composite_key='USA@2', name='James', amount=897561, country='USA', country_freqItems='USA', replica_id=2, id=13, country='USA', country_freqItems='USA', replica_id='2'), Row(composite_key='USA@2', name=None, amount=842104, country='USA', country_freqItems='USA', replica_id=2, id=13, country='USA', country_freqItems='USA', replica_id='2'), Row(composite_key='USA@2', name='James', amount=511334, country='USA', country_freqItems='USA', replica_id=2, id=13, country='USA', country_freqItems='USA', replica_id='2'), Row(composite_key='USA@2', name='Bob', amount=13475, country='USA', country_freqItems='USA', replica_id=2, id=13, country='USA', country_freqItems='USA', replica_id='2'), Row(composite_key='USA@2', name='Johannes', amount=659694, country='USA', country_freqItems='USA', replica_id=2, id=13, country='USA', country_freqItems='USA', replica_id='2'), Row(composite_key='USA@2', name='Marek', amount=732471, country='USA', country_freqItems='USA', replica_id=2, id=13, country='USA', country_freqItems='USA', replica_id='2'), Row(composite_key='USA@2', name='Johannes', amount=489120, country='USA', country_freqItems='USA', replica_id=2, id=13, country='USA', country_freqItems='USA', replica_id='2'), Row(composite_key='USA@2', name='Marek', amount=877071, country='USA', country_freqItems='USA', replica_id=2, id=13, country='USA', country_freqItems='USA', replica_id='2'), Row(composite_key='USA@2', name='Johannes', amount=39297, country='USA', country_freqItems='USA', replica_id=2, id=13, country='USA', country_freqItems='USA', replica_id='2'), Row(composite_key='USA@2', name='Marek', amount=865504, country='USA', country_freqItems='USA', replica_id=2, id=13, country='USA', country_freqItems='USA', replica_id='2'), Row(composite_key='USA@2', name=None, amount=829402, country='USA', country_freqItems='USA', replica_id=2, id=13, country='USA', country_freqItems='USA', replica_id='2'), Row(composite_key='USA@2', name='Marek', amount=851767, country='USA', country_freqItems='USA', replica_id=2, id=13, country='USA', country_freqItems='USA', replica_id='2')]}\n",
      "{3: []}\n",
      "{4: [Row(composite_key='USA@1', name='Bob', amount=329732, country='USA', country_freqItems='USA', replica_id=1, id=13, country='USA', country_freqItems='USA', replica_id='1'), Row(composite_key='USA@1', name=None, amount=803617, country='USA', country_freqItems='USA', replica_id=1, id=13, country='USA', country_freqItems='USA', replica_id='1'), Row(composite_key='USA@1', name='Bob', amount=728786, country='USA', country_freqItems='USA', replica_id=1, id=13, country='USA', country_freqItems='USA', replica_id='1'), Row(composite_key='USA@1', name='Johannes', amount=289787, country='USA', country_freqItems='USA', replica_id=1, id=13, country='USA', country_freqItems='USA', replica_id='1'), Row(composite_key='USA@1', name='Bob', amount=850919, country='USA', country_freqItems='USA', replica_id=1, id=13, country='USA', country_freqItems='USA', replica_id='1'), Row(composite_key='USA@1', name=None, amount=913129, country='USA', country_freqItems='USA', replica_id=1, id=13, country='USA', country_freqItems='USA', replica_id='1'), Row(composite_key='USA@1', name='Bob', amount=450119, country='USA', country_freqItems='USA', replica_id=1, id=13, country='USA', country_freqItems='USA', replica_id='1'), Row(composite_key='USA@1', name='James', amount=499996, country='USA', country_freqItems='USA', replica_id=1, id=13, country='USA', country_freqItems='USA', replica_id='1')]}\n",
      "{5: []}\n",
      "{6: [Row(composite_key='USA@3', name='Marek', amount=354905, country='USA', country_freqItems='USA', replica_id=3, id=13, country='USA', country_freqItems='USA', replica_id='3'), Row(composite_key='USA@3', name='James', amount=33482, country='USA', country_freqItems='USA', replica_id=3, id=13, country='USA', country_freqItems='USA', replica_id='3'), Row(composite_key='USA@3', name='Johannes', amount=287383, country='USA', country_freqItems='USA', replica_id=3, id=13, country='USA', country_freqItems='USA', replica_id='3'), Row(composite_key='USA@3', name='James', amount=502373, country='USA', country_freqItems='USA', replica_id=3, id=13, country='USA', country_freqItems='USA', replica_id='3'), Row(composite_key='USA@3', name=None, amount=262648, country='USA', country_freqItems='USA', replica_id=3, id=13, country='USA', country_freqItems='USA', replica_id='3'), Row(composite_key='USA@3', name='Johannes', amount=410714, country='USA', country_freqItems='USA', replica_id=3, id=13, country='USA', country_freqItems='USA', replica_id='3'), Row(composite_key='USA@3', name=None, amount=12672, country='USA', country_freqItems='USA', replica_id=3, id=13, country='USA', country_freqItems='USA', replica_id='3'), Row(composite_key='USA@3', name='Bob', amount=369108, country='USA', country_freqItems='USA', replica_id=3, id=13, country='USA', country_freqItems='USA', replica_id='3'), Row(composite_key='USA@3', name='James', amount=222877, country='USA', country_freqItems='USA', replica_id=3, id=13, country='USA', country_freqItems='USA', replica_id='3'), Row(composite_key='USA@3', name='Johannes', amount=518212, country='USA', country_freqItems='USA', replica_id=3, id=13, country='USA', country_freqItems='USA', replica_id='3'), Row(composite_key='USA@3', name='Bob', amount=118600, country='USA', country_freqItems='USA', replica_id=3, id=13, country='USA', country_freqItems='USA', replica_id='3')]}\n",
      "{7: [Row(composite_key='USA@4', name='James', amount=883413, country='USA', country_freqItems='USA', replica_id=4, id=13, country='USA', country_freqItems='USA', replica_id='4'), Row(composite_key='USA@4', name='James', amount=699952, country='USA', country_freqItems='USA', replica_id=4, id=13, country='USA', country_freqItems='USA', replica_id='4'), Row(composite_key='USA@4', name='Johannes', amount=537028, country='USA', country_freqItems='USA', replica_id=4, id=13, country='USA', country_freqItems='USA', replica_id='4'), Row(composite_key='USA@4', name='Johannes', amount=114269, country='USA', country_freqItems='USA', replica_id=4, id=13, country='USA', country_freqItems='USA', replica_id='4'), Row(composite_key='USA@4', name='Marek', amount=532444, country='USA', country_freqItems='USA', replica_id=4, id=13, country='USA', country_freqItems='USA', replica_id='4'), Row(composite_key='USA@4', name='Johannes', amount=415113, country='USA', country_freqItems='USA', replica_id=4, id=13, country='USA', country_freqItems='USA', replica_id='4'), Row(composite_key='USA@4', name='Marek', amount=694243, country='USA', country_freqItems='USA', replica_id=4, id=13, country='USA', country_freqItems='USA', replica_id='4'), Row(composite_key='USA@4', name='Johannes', amount=564583, country='USA', country_freqItems='USA', replica_id=4, id=13, country='USA', country_freqItems='USA', replica_id='4'), Row(composite_key='USA@4', name='Bob', amount=596860, country='USA', country_freqItems='USA', replica_id=4, id=13, country='USA', country_freqItems='USA', replica_id='4'), Row(composite_key='USA@4', name=None, amount=810338, country='USA', country_freqItems='USA', replica_id=4, id=13, country='USA', country_freqItems='USA', replica_id='4'), Row(composite_key='USA@4', name='Johannes', amount=429917, country='USA', country_freqItems='USA', replica_id=4, id=13, country='USA', country_freqItems='USA', replica_id='4'), Row(composite_key='USA@4', name='James', amount=877848, country='USA', country_freqItems='USA', replica_id=4, id=13, country='USA', country_freqItems='USA', replica_id='4'), Row(composite_key='USA@4', name=None, amount=748436, country='USA', country_freqItems='USA', replica_id=4, id=13, country='USA', country_freqItems='USA', replica_id='4'), Row(composite_key='USA@6', name='Johannes', amount=344419, country='USA', country_freqItems='USA', replica_id=6, id=13, country='USA', country_freqItems='USA', replica_id='6'), Row(composite_key='USA@6', name='James', amount=632641, country='USA', country_freqItems='USA', replica_id=6, id=13, country='USA', country_freqItems='USA', replica_id='6'), Row(composite_key='USA@6', name=None, amount=939915, country='USA', country_freqItems='USA', replica_id=6, id=13, country='USA', country_freqItems='USA', replica_id='6'), Row(composite_key='USA@6', name=None, amount=476512, country='USA', country_freqItems='USA', replica_id=6, id=13, country='USA', country_freqItems='USA', replica_id='6'), Row(composite_key='USA@6', name='James', amount=899643, country='USA', country_freqItems='USA', replica_id=6, id=13, country='USA', country_freqItems='USA', replica_id='6'), Row(composite_key='USA@6', name='Bob', amount=912322, country='USA', country_freqItems='USA', replica_id=6, id=13, country='USA', country_freqItems='USA', replica_id='6'), Row(composite_key='USA@6', name='Marek', amount=568279, country='USA', country_freqItems='USA', replica_id=6, id=13, country='USA', country_freqItems='USA', replica_id='6'), Row(composite_key='USA@6', name='James', amount=818161, country='USA', country_freqItems='USA', replica_id=6, id=13, country='USA', country_freqItems='USA', replica_id='6'), Row(composite_key='USA@6', name=None, amount=49298, country='USA', country_freqItems='USA', replica_id=6, id=13, country='USA', country_freqItems='USA', replica_id='6'), Row(composite_key='USA@6', name='James', amount=923425, country='USA', country_freqItems='USA', replica_id=6, id=13, country='USA', country_freqItems='USA', replica_id='6'), Row(composite_key='USA@6', name=None, amount=210286, country='USA', country_freqItems='USA', replica_id=6, id=13, country='USA', country_freqItems='USA', replica_id='6')]}\n"
     ]
    }
   ],
   "source": [
    "# now we can join on the composite key\n",
    "df = transactions_tagged.join(countries_replicated, 'composite_key')\n",
    "\n",
    "for i, part in enumerate(df.rdd.glom().collect()):\n",
    "    print({i: part})"
   ]
  },
  {
   "cell_type": "code",
   "execution_count": 133,
   "id": "159e9a82-9083-4485-8d93-f774d1b38cd1",
   "metadata": {},
   "outputs": [],
   "source": [
    "##salting demo\n",
    "\n",
    "salt = np.random.randint(1, int(spark.conf.get('spark.sql.shuffle.partitions')) - 1)\n"
   ]
  },
  {
   "cell_type": "code",
   "execution_count": 134,
   "id": "3b2f057a-9024-4d58-919c-2e9a2a7e2197",
   "metadata": {},
   "outputs": [
    {
     "data": {
      "text/plain": [
       "int"
      ]
     },
     "execution_count": 134,
     "metadata": {},
     "output_type": "execute_result"
    }
   ],
   "source": [
    "type(salt)"
   ]
  },
  {
   "cell_type": "code",
   "execution_count": 135,
   "id": "78090df9-6bf8-4b06-b0cc-3fd0b8c041f4",
   "metadata": {},
   "outputs": [
    {
     "data": {
      "text/plain": [
       "5"
      ]
     },
     "execution_count": 135,
     "metadata": {},
     "output_type": "execute_result"
    }
   ],
   "source": [
    "salt"
   ]
  },
  {
   "cell_type": "code",
   "execution_count": 136,
   "id": "58a26a78-a525-4436-be4a-a8b962de1b8e",
   "metadata": {},
   "outputs": [],
   "source": [
    "salted_countries = countries.withColumn(\n",
    "    'salt', \n",
    "    F.explode(F.array([F.lit(i) for i in range(salt)])))"
   ]
  },
  {
   "cell_type": "code",
   "execution_count": 138,
   "id": "35ca0a74-8024-46e6-863a-be64b24f41aa",
   "metadata": {},
   "outputs": [
    {
     "data": {
      "text/plain": [
       "pyspark.sql.dataframe.DataFrame"
      ]
     },
     "execution_count": 138,
     "metadata": {},
     "output_type": "execute_result"
    }
   ],
   "source": [
    "type(salted_countries)"
   ]
  },
  {
   "cell_type": "code",
   "execution_count": 140,
   "id": "5d4bbe4e-765c-4193-831b-76ec461cfa9a",
   "metadata": {},
   "outputs": [
    {
     "name": "stdout",
     "output_type": "stream",
     "text": [
      "+---+--------------+----+\n",
      "| id|       country|salt|\n",
      "+---+--------------+----+\n",
      "| 11|United Kingdom|   0|\n",
      "| 11|United Kingdom|   1|\n",
      "| 11|United Kingdom|   2|\n",
      "| 11|United Kingdom|   3|\n",
      "| 11|United Kingdom|   4|\n",
      "| 12|        Poland|   0|\n",
      "| 12|        Poland|   1|\n",
      "| 12|        Poland|   2|\n",
      "| 12|        Poland|   3|\n",
      "| 12|        Poland|   4|\n",
      "| 13|           USA|   0|\n",
      "| 13|           USA|   1|\n",
      "| 13|           USA|   2|\n",
      "| 13|           USA|   3|\n",
      "| 13|           USA|   4|\n",
      "| 14|       Germany|   0|\n",
      "| 14|       Germany|   1|\n",
      "| 14|       Germany|   2|\n",
      "| 14|       Germany|   3|\n",
      "| 14|       Germany|   4|\n",
      "+---+--------------+----+\n",
      "only showing top 20 rows\n",
      "\n"
     ]
    }
   ],
   "source": [
    "salted_countries.show()"
   ]
  },
  {
   "cell_type": "code",
   "execution_count": 139,
   "id": "12bde9c1-e59c-40d7-bb5c-bbf681498db2",
   "metadata": {},
   "outputs": [],
   "source": [
    "\n",
    "salted_transactions = transactions.withColumn('salt', F.round(F.rand() * salt))\n"
   ]
  },
  {
   "cell_type": "code",
   "execution_count": 141,
   "id": "5c106d1f-b2f5-4e5a-bba8-a0cb9784ed00",
   "metadata": {},
   "outputs": [
    {
     "data": {
      "text/plain": [
       "pyspark.sql.dataframe.DataFrame"
      ]
     },
     "execution_count": 141,
     "metadata": {},
     "output_type": "execute_result"
    }
   ],
   "source": [
    "type(salted_transactions)"
   ]
  },
  {
   "cell_type": "code",
   "execution_count": 142,
   "id": "d4b395f2-7f51-4dd2-aff5-31d43bd04dad",
   "metadata": {},
   "outputs": [
    {
     "name": "stdout",
     "output_type": "stream",
     "text": [
      "+--------+------+--------------+----+\n",
      "|    name|amount|       country|salt|\n",
      "+--------+------+--------------+----+\n",
      "|   Marek|643635|        Russia| 4.0|\n",
      "|     Bob|532874|        Russia| 3.0|\n",
      "|    null|336717|        Russia| 1.0|\n",
      "|   Marek|786862|        Russia| 2.0|\n",
      "|    null|385746|        Russia| 4.0|\n",
      "|   Marek|318942|        Russia| 2.0|\n",
      "|Johannes|325739|United Kingdom| 3.0|\n",
      "|Johannes|154472|United Kingdom| 4.0|\n",
      "|   Marek|735861|United Kingdom| 2.0|\n",
      "|Johannes|278370|United Kingdom| 3.0|\n",
      "|   Marek|625428|           USA| 0.0|\n",
      "|   Marek|354905|           USA| 0.0|\n",
      "|     Bob|329732|           USA| 2.0|\n",
      "|   James|883413|           USA| 4.0|\n",
      "|   Marek|327843|           USA| 0.0|\n",
      "|     Bob|776204|           USA| 3.0|\n",
      "|Johannes|344419|           USA| 0.0|\n",
      "|   James| 33482|           USA| 5.0|\n",
      "|Johannes|849905|       Germany| 3.0|\n",
      "|   James|699952|           USA| 1.0|\n",
      "+--------+------+--------------+----+\n",
      "only showing top 20 rows\n",
      "\n"
     ]
    }
   ],
   "source": [
    "salted_transactions.show()"
   ]
  },
  {
   "cell_type": "code",
   "execution_count": 144,
   "id": "f7250747-cdb8-4726-b8ee-2d4b417ee0cb",
   "metadata": {},
   "outputs": [],
   "source": [
    "df = salted_transactions.join(salted_countries, ['country', 'salt'] ) \\\n",
    "    .drop('salt')\n",
    "\n"
   ]
  },
  {
   "cell_type": "code",
   "execution_count": 145,
   "id": "f418812a-a7a9-4535-b9bd-423b9d1af87f",
   "metadata": {},
   "outputs": [
    {
     "name": "stdout",
     "output_type": "stream",
     "text": [
      "+-------+--------+------+---+\n",
      "|country|    name|amount| id|\n",
      "+-------+--------+------+---+\n",
      "|Germany|   James|274584| 14|\n",
      "|    USA|Johannes|415113| 13|\n",
      "|    USA|   James|222877| 13|\n",
      "|    USA|   Marek|694243| 13|\n",
      "|    USA|Johannes|289787| 13|\n",
      "|    USA|    null|913129| 13|\n",
      "|    USA|     Bob|142872| 13|\n",
      "|    USA|   Marek|851767| 13|\n",
      "|    USA|   James|883413| 13|\n",
      "|    USA|   Marek|327843| 13|\n",
      "|    USA|    null|803617| 13|\n",
      "|    USA|     Bob|728786| 13|\n",
      "|    USA|    null|476512| 13|\n",
      "|    USA|   James|899643| 13|\n",
      "|    USA|     Bob|379627| 13|\n",
      "|    USA|     Bob|912322| 13|\n",
      "|    USA|     Bob| 34704| 13|\n",
      "|    USA|   Marek|568279| 13|\n",
      "|    USA|    null|810338| 13|\n",
      "|    USA|   Marek|770562| 13|\n",
      "+-------+--------+------+---+\n",
      "only showing top 20 rows\n",
      "\n"
     ]
    }
   ],
   "source": [
    "df.show()"
   ]
  },
  {
   "cell_type": "code",
   "execution_count": 146,
   "id": "b74c5d76-2824-4593-92e9-060dfc7d2537",
   "metadata": {},
   "outputs": [
    {
     "name": "stdout",
     "output_type": "stream",
     "text": [
      "{0: [Row(country='Germany', name='Johannes', amount=849905, id=14), Row(country='Germany', name='Marek', amount=57537, id=14), Row(country='Germany', name='Marek', amount=618421, id=14), Row(country='USA', name='Marek', amount=625428, id=13), Row(country='USA', name='Marek', amount=354905, id=13), Row(country='USA', name='Marek', amount=327843, id=13), Row(country='USA', name='Johannes', amount=344419, id=13), Row(country='USA', name=None, amount=842104, id=13), Row(country='USA', name=None, amount=840777, id=13), Row(country='USA', name='James', amount=222877, id=13), Row(country='USA', name='Marek', amount=732471, id=13), Row(country='USA', name='Johannes', amount=289787, id=13), Row(country='USA', name='James', amount=899643, id=13), Row(country='USA', name=None, amount=810338, id=13), Row(country='USA', name=None, amount=748436, id=13), Row(country='USA', name='Bob', amount=329732, id=13), Row(country='USA', name='Marek', amount=482184, id=13), Row(country='USA', name='Johannes', amount=287383, id=13), Row(country='USA', name='James', amount=928853, id=13), Row(country='USA', name='James', amount=502373, id=13), Row(country='USA', name='Johannes', amount=537028, id=13), Row(country='USA', name='James', amount=905650, id=13), Row(country='USA', name='Marek', amount=824554, id=13), Row(country='USA', name=None, amount=942438, id=13), Row(country='USA', name='Bob', amount=527781, id=13), Row(country='USA', name='Bob', amount=728786, id=13), Row(country='USA', name=None, amount=476512, id=13), Row(country='USA', name='Bob', amount=379627, id=13), Row(country='USA', name='Bob', amount=445168, id=13), Row(country='USA', name='Bob', amount=450119, id=13), Row(country='USA', name='Johannes', amount=39297, id=13), Row(country='USA', name='Johannes', amount=506354, id=13), Row(country='USA', name='Bob', amount=142872, id=13), Row(country='USA', name='Marek', amount=851767, id=13), Row(country='USA', name='James', amount=883413, id=13), Row(country='USA', name='Bob', amount=13475, id=13), Row(country='USA', name='James', amount=495081, id=13), Row(country='USA', name=None, amount=939915, id=13), Row(country='USA', name='James', amount=321354, id=13), Row(country='USA', name='James', amount=818161, id=13), Row(country='USA', name='Johannes', amount=489120, id=13), Row(country='USA', name='Marek', amount=877071, id=13), Row(country='USA', name='James', amount=923425, id=13), Row(country='USA', name='Marek', amount=770562, id=13), Row(country='USA', name='Johannes', amount=429917, id=13), Row(country='USA', name='James', amount=499996, id=13), Row(country='USA', name='James', amount=877848, id=13)]}\n",
      "{1: [Row(country='Poland', name='Bob', amount=769452, id=12), Row(country='Poland', name='Marek', amount=849430, id=12), Row(country='Russia', name='Marek', amount=786862, id=15), Row(country='Russia', name='Bob', amount=532874, id=15)]}\n",
      "{2: [Row(country='Poland', name=None, amount=191905, id=12), Row(country='Russia', name=None, amount=385746, id=15), Row(country='United Kingdom', name='Johannes', amount=325739, id=11), Row(country='United Kingdom', name='Johannes', amount=278370, id=11), Row(country='United Kingdom', name='Johannes', amount=154472, id=11)]}\n",
      "{3: [Row(country='Russia', name='Marek', amount=318942, id=15)]}\n",
      "{4: [Row(country='Russia', name='Marek', amount=643635, id=15), Row(country='Russia', name=None, amount=336717, id=15)]}\n",
      "{5: [Row(country='Germany', name='Marek', amount=999541, id=14), Row(country='USA', name='James', amount=699952, id=13), Row(country='USA', name='James', amount=897561, id=13), Row(country='USA', name='James', amount=511334, id=13), Row(country='USA', name=None, amount=262648, id=13), Row(country='USA', name='Marek', amount=232624, id=13), Row(country='USA', name='James', amount=632641, id=13), Row(country='USA', name=None, amount=12672, id=13), Row(country='USA', name='Marek', amount=753731, id=13), Row(country='USA', name='Bob', amount=369108, id=13), Row(country='USA', name='Johannes', amount=415113, id=13), Row(country='USA', name='Bob', amount=912322, id=13), Row(country='USA', name='Marek', amount=568279, id=13), Row(country='USA', name=None, amount=913129, id=13), Row(country='USA', name='Bob', amount=596860, id=13), Row(country='USA', name=None, amount=49298, id=13), Row(country='USA', name='Johannes', amount=473428, id=13), Row(country='USA', name='Bob', amount=776204, id=13), Row(country='USA', name='Johannes', amount=114269, id=13), Row(country='USA', name=None, amount=803617, id=13), Row(country='USA', name='Bob', amount=224162, id=13), Row(country='USA', name='Johannes', amount=410714, id=13), Row(country='USA', name=None, amount=925971, id=13), Row(country='USA', name='James', amount=181062, id=13), Row(country='USA', name='Bob', amount=850919, id=13), Row(country='USA', name='Johannes', amount=564583, id=13), Row(country='USA', name='Bob', amount=34704, id=13), Row(country='USA', name=None, amount=543400, id=13), Row(country='USA', name='Bob', amount=593521, id=13), Row(country='USA', name=None, amount=210286, id=13), Row(country='USA', name='Marek', amount=865504, id=13), Row(country='USA', name='Bob', amount=118600, id=13), Row(country='USA', name=None, amount=829402, id=13)]}\n",
      "{6: [Row(country='Germany', name='Bob', amount=334309, id=14)]}\n",
      "{7: [Row(country='United Kingdom', name='Marek', amount=735861, id=11)]}\n"
     ]
    }
   ],
   "source": [
    "# check the partitions data\n",
    "for i, part in enumerate(df.rdd.glom().collect()):\n",
    "    print({i: part})"
   ]
  },
  {
   "cell_type": "code",
   "execution_count": 9,
   "id": "e4df614d-6869-4e2c-ba30-88b5a0e0953e",
   "metadata": {},
   "outputs": [],
   "source": [
    "##Python Kafka \n",
    "from kafka import KafkaProducer\n",
    "from time import sleep\n",
    "import json\n",
    "from datetime import datetime "
   ]
  },
  {
   "cell_type": "code",
   "execution_count": 10,
   "id": "6593d976-d5f4-4291-89fd-207013b49404",
   "metadata": {},
   "outputs": [],
   "source": [
    "##create Kafak producer instance\n",
    "##Bydefault it takes Json serializer\n",
    "producer = KafkaProducer(bootstrap_servers=['localhost:9092'],api_version=(0,10,1))"
   ]
  },
  {
   "cell_type": "code",
   "execution_count": 11,
   "id": "54e28755-ba15-4e85-ac93-f3f3769ca989",
   "metadata": {},
   "outputs": [
    {
     "data": {
      "text/plain": [
       "kafka.producer.kafka.KafkaProducer"
      ]
     },
     "execution_count": 11,
     "metadata": {},
     "output_type": "execute_result"
    }
   ],
   "source": [
    "type(producer)"
   ]
  },
  {
   "cell_type": "code",
   "execution_count": 26,
   "id": "5933b830-9c85-44e7-bff2-af9d821e5456",
   "metadata": {},
   "outputs": [
    {
     "data": {
      "text/plain": [
       "<kafka.producer.future.FutureRecordMetadata at 0x7f57df1a01d0>"
      ]
     },
     "execution_count": 26,
     "metadata": {},
     "output_type": "execute_result"
    }
   ],
   "source": [
    "##now send data on to topic - invoices \n",
    "producer.send('invoices', b'this is your first invoice 1')"
   ]
  },
  {
   "cell_type": "code",
   "execution_count": 20,
   "id": "d20c8f91-ae32-4ea5-a73b-60fa70e8695c",
   "metadata": {},
   "outputs": [],
   "source": [
    "from kafka import KafkaConsumer\n",
    "from json import loads\n",
    "import json"
   ]
  },
  {
   "cell_type": "code",
   "execution_count": 28,
   "id": "239dc8ad-bdf0-45ce-8fb8-5488a13a58ee",
   "metadata": {},
   "outputs": [],
   "source": [
    "##now lets create a consumer \n",
    "consumer = KafkaConsumer('invoices',bootstrap_servers=['localhost:9092'],api_version=(0,10,1))\n"
   ]
  },
  {
   "cell_type": "code",
   "execution_count": null,
   "id": "8b16d4ca-ce90-4bb8-bc03-57031d772546",
   "metadata": {},
   "outputs": [],
   "source": [
    "for message in consumer:\n",
    "    print (message.value)"
   ]
  },
  {
   "cell_type": "code",
   "execution_count": null,
   "id": "1d203e14-03bb-4771-b324-33ab031b8311",
   "metadata": {},
   "outputs": [],
   "source": [
    "consumer.close()"
   ]
  },
  {
   "cell_type": "code",
   "execution_count": 30,
   "id": "1f07e6d8-b619-4086-ad7d-3a2082127735",
   "metadata": {},
   "outputs": [],
   "source": [
    "##AVRO file writing \n",
    "crimeDf=spark.read.\\\n",
    "options(delimiter=';',inferSchema = True , header = True).\\\n",
    "csv(\"/user/forgcpmak/data/Crimes_-_2001_to_Present.csv\")"
   ]
  },
  {
   "cell_type": "code",
   "execution_count": 31,
   "id": "5edb1564-b2bc-4ac0-9eb6-4168bd481a0b",
   "metadata": {},
   "outputs": [
    {
     "name": "stdout",
     "output_type": "stream",
     "text": [
      "root\n",
      " |-- ID: integer (nullable = true)\n",
      " |-- Case Number: string (nullable = true)\n",
      " |-- Date: string (nullable = true)\n",
      " |-- Block: string (nullable = true)\n",
      " |-- IUCR: string (nullable = true)\n",
      " |-- PrimaryType: string (nullable = true)\n",
      " |-- Description: string (nullable = true)\n",
      " |-- Location Description: string (nullable = true)\n",
      " |-- Arrest: boolean (nullable = true)\n",
      " |-- Domestic: boolean (nullable = true)\n",
      " |-- Beat: integer (nullable = true)\n",
      " |-- District: integer (nullable = true)\n",
      " |-- Ward: integer (nullable = true)\n",
      " |-- Community Area: integer (nullable = true)\n",
      " |-- FBICode: string (nullable = true)\n",
      " |-- X_Coordinate: integer (nullable = true)\n",
      " |-- Y_Coordinate: integer (nullable = true)\n",
      " |-- Year: integer (nullable = true)\n",
      " |-- Updated On: string (nullable = true)\n",
      " |-- Latitude: double (nullable = true)\n",
      " |-- Longitude: double (nullable = true)\n",
      " |-- Location: string (nullable = true)\n",
      "\n"
     ]
    }
   ],
   "source": [
    "crimeDf = crimeDf\\\n",
    "              .withColumnRenamed('Primary Type','PrimaryType')\\\n",
    "              .withColumnRenamed('FBI Code','FBICode')\\\n",
    "              .withColumnRenamed('X Coordinate','X_Coordinate')\\\n",
    "              .withColumnRenamed('Y Coordinate','Y_Coordinate')\n",
    "\n",
    "crimeDf.printSchema()"
   ]
  },
  {
   "cell_type": "code",
   "execution_count": 32,
   "id": "cd71d917-49f6-44c8-9fb7-88043df61066",
   "metadata": {},
   "outputs": [
    {
     "name": "stdout",
     "output_type": "stream",
     "text": [
      "+----------------------+-----------+-------------------------+------+\n",
      "|Date                  |PrimaryType|DateStringConvertedToDate|Month |\n",
      "+----------------------+-----------+-------------------------+------+\n",
      "|09/05/2015 01:30:00 PM|BATTERY    |2015-09-05               |201509|\n",
      "|09/04/2015 11:30:00 AM|THEFT      |2015-09-04               |201509|\n",
      "+----------------------+-----------+-------------------------+------+\n",
      "only showing top 2 rows\n",
      "\n"
     ]
    }
   ],
   "source": [
    "#Important Learning here is - the format provided to to_date function - 'MM/dd/yyyy' , should match with data of date being read from the file.\n",
    "crimeDf.\\\n",
    "      select('Date','PrimaryType').\\\n",
    "      withColumn('DateStringConvertedToDate' , to_date(substring(col('Date'),1,10),'MM/dd/yyyy')).\\\n",
    "      withColumn('Month' , date_format(to_date(substring(col('Date'),1,10),'MM/dd/yyyy'),'yyyyMM')).\\\n",
    "      show(2, truncate = False)"
   ]
  },
  {
   "cell_type": "code",
   "execution_count": 33,
   "id": "87759cf3-df05-425d-bf0d-4a2ba5a5e1c3",
   "metadata": {},
   "outputs": [],
   "source": [
    "#Saving file in AVRO does not work in SPARK a it needs additional libraries\n",
    "#added while creating spark session object : .config(\"spark.jars.packages\", \"org.apache.spark:spark-sql-kafka-0-10_2.12:3.0.3,org.apache.spark:spark-avro_2.12:3.0.3\") \\\n",
    "crimeDf.\\\n",
    "      withColumn('Month' , date_format(to_date(substring(col('Date'),1,10),'MM/dd/yyyy'),'yyyyMM')).\\\n",
    "      groupBy(col('Month'),col('PrimaryType')).\\\n",
    "      agg (\n",
    "         count(lit(1)).cast('int').alias('CrimeCount')\n",
    "       ).\\\n",
    "      select ( col('Month'),col('PrimaryType').alias('PrimaryType'),col('CrimeCount') ).\\\n",
    "      orderBy(col('Month').asc(),col(('CrimeCount')).desc()).\\\n",
    "      repartition(1).\\\n",
    "      write.\\\n",
    "      mode('overwrite').\\\n",
    "      save(\"/user/forgcpmak/data/CrimeCountByMonthAvro\",format=\"avro\")"
   ]
  },
  {
   "cell_type": "code",
   "execution_count": 34,
   "id": "c3a847e3-590d-4542-b3c1-260d241d7aab",
   "metadata": {},
   "outputs": [],
   "source": [
    "#Saving file in ORC format \n",
    "crimeDf.\\\n",
    "      withColumn('Month' , date_format(to_date(substring(col('Date'),1,10),'MM/dd/yyyy'),'yyyyMM')).\\\n",
    "      groupBy(col('Month'),col('PrimaryType')).\\\n",
    "      agg (\n",
    "         count(lit(1)).cast('int').alias('CrimeCount')\n",
    "       ).\\\n",
    "      select ( col('Month'),col('PrimaryType').alias('PrimaryType'),col('CrimeCount') ).\\\n",
    "      orderBy(col('Month').asc(),col(('CrimeCount')).desc()).\\\n",
    "      repartition(1).\\\n",
    "      write.\\\n",
    "      mode('overwrite').\\\n",
    "      save(\"/user/forgcpmak/data/CrimeCountByMonthOrc\",format=\"orc\")"
   ]
  },
  {
   "cell_type": "code",
   "execution_count": 36,
   "id": "24fe1443-cfe9-41ef-b124-e9592bc56013",
   "metadata": {},
   "outputs": [],
   "source": [
    "#Saving file in Parquet format \n",
    "crimeDf.\\\n",
    "      withColumn('Month' , date_format(to_date(substring(col('Date'),1,10),'MM/dd/yyyy'),'yyyyMM')).\\\n",
    "      groupBy(col('Month'),col('PrimaryType')).\\\n",
    "      agg (\n",
    "         count(lit(1)).cast('int').alias('CrimeCount')\n",
    "       ).\\\n",
    "      select ( col('Month'),col('PrimaryType').alias('PrimaryType'),col('CrimeCount') ).\\\n",
    "      orderBy(col('Month').asc(),col(('CrimeCount')).desc()).\\\n",
    "      coalesce(1).\\\n",
    "      write.\\\n",
    "      mode('overwrite').\\\n",
    "      save(\"/user/forgcpmak/data/CrimeCountByMonthParq\",format=\"parquet\")"
   ]
  },
  {
   "cell_type": "code",
   "execution_count": 37,
   "id": "0162baaf-ab68-4e8b-87b4-1ece17cbe0b8",
   "metadata": {},
   "outputs": [],
   "source": [
    "crimeDfParquet = spark.read.parquet(\"/user/forgcpmak/data/CrimeCountByMonthParq\")"
   ]
  },
  {
   "cell_type": "code",
   "execution_count": 40,
   "id": "9e6d40bc-ffac-4b81-8ff3-b0247779777c",
   "metadata": {},
   "outputs": [
    {
     "name": "stdout",
     "output_type": "stream",
     "text": [
      "+------+-------------------+----------+\n",
      "|Month |PrimaryType        |CrimeCount|\n",
      "+------+-------------------+----------+\n",
      "|200101|THEFT              |7865      |\n",
      "|200101|BATTERY            |6525      |\n",
      "|200101|NARCOTICS          |4714      |\n",
      "|200101|CRIMINAL DAMAGE    |3966      |\n",
      "|200101|OTHER OFFENSE      |2800      |\n",
      "|200101|ASSAULT            |2123      |\n",
      "|200101|MOTOR VEHICLE THEFT|2096      |\n",
      "|200101|BURGLARY           |1934      |\n",
      "|200101|ROBBERY            |1396      |\n",
      "|200101|DECEPTIVE PRACTICE |1395      |\n",
      "+------+-------------------+----------+\n",
      "only showing top 10 rows\n",
      "\n"
     ]
    }
   ],
   "source": [
    "crimeDfParquet.show(10, truncate = False)"
   ]
  },
  {
   "cell_type": "code",
   "execution_count": 44,
   "id": "6eaf6bd4-1e8c-4af0-a743-6662bf14fc59",
   "metadata": {},
   "outputs": [
    {
     "data": {
      "text/plain": [
       "[Row(ID=10224738, Case Number='HY411648', Date='09/05/2015 01:30:00 PM', Block='043XX S WOOD ST', IUCR='0486', PrimaryType='BATTERY', Description='DOMESTIC BATTERY SIMPLE', Location Description='RESIDENCE', Arrest=False, Domestic=True, Beat=924, District=9, Ward=12, Community Area=61, FBICode='08B', X_Coordinate=1165074, Y_Coordinate=1875917, Year=2015, Updated On='02/10/2018 03:50:01 PM', Latitude=41.815117282, Longitude=-87.669999562, Location='(41.815117282, -87.669999562)'),\n",
       " Row(ID=10224739, Case Number='HY411615', Date='09/04/2015 11:30:00 AM', Block='008XX N CENTRAL AVE', IUCR='0870', PrimaryType='THEFT', Description='POCKET-PICKING', Location Description='CTA BUS', Arrest=False, Domestic=False, Beat=1511, District=15, Ward=29, Community Area=25, FBICode='06', X_Coordinate=1138875, Y_Coordinate=1904869, Year=2015, Updated On='02/10/2018 03:50:01 PM', Latitude=41.895080471, Longitude=-87.765400451, Location='(41.895080471, -87.765400451)'),\n",
       " Row(ID=11646166, Case Number='JC213529', Date='09/01/2018 12:01:00 AM', Block='082XX S INGLESIDE AVE', IUCR='0810', PrimaryType='THEFT', Description='OVER $500', Location Description='RESIDENCE', Arrest=False, Domestic=True, Beat=631, District=6, Ward=8, Community Area=44, FBICode='06', X_Coordinate=None, Y_Coordinate=None, Year=2018, Updated On='04/06/2019 04:04:43 PM', Latitude=None, Longitude=None, Location=None),\n",
       " Row(ID=10224740, Case Number='HY411595', Date='09/05/2015 12:45:00 PM', Block='035XX W BARRY AVE', IUCR='2023', PrimaryType='NARCOTICS', Description='POSS: HEROIN(BRN/TAN)', Location Description='SIDEWALK', Arrest=True, Domestic=False, Beat=1412, District=14, Ward=35, Community Area=21, FBICode='18', X_Coordinate=1152037, Y_Coordinate=1920384, Year=2015, Updated On='02/10/2018 03:50:01 PM', Latitude=41.937405765, Longitude=-87.716649687, Location='(41.937405765, -87.716649687)'),\n",
       " Row(ID=10224741, Case Number='HY411610', Date='09/05/2015 01:00:00 PM', Block='0000X N LARAMIE AVE', IUCR='0560', PrimaryType='ASSAULT', Description='SIMPLE', Location Description='APARTMENT', Arrest=False, Domestic=True, Beat=1522, District=15, Ward=28, Community Area=25, FBICode='08A', X_Coordinate=1141706, Y_Coordinate=1900086, Year=2015, Updated On='02/10/2018 03:50:01 PM', Latitude=41.881903443, Longitude=-87.755121152, Location='(41.881903443, -87.755121152)')]"
      ]
     },
     "execution_count": 44,
     "metadata": {},
     "output_type": "execute_result"
    }
   ],
   "source": [
    "crimeDf.head(5)"
   ]
  },
  {
   "cell_type": "code",
   "execution_count": null,
   "id": "42a79644-ea65-4e97-b5ad-2b75596c012d",
   "metadata": {},
   "outputs": [],
   "source": []
  }
 ],
 "metadata": {
  "kernelspec": {
   "display_name": "Pyspark 2",
   "language": "python",
   "name": "pyspark2"
  },
  "language_info": {
   "codemirror_mode": {
    "name": "ipython",
    "version": 3
   },
   "file_extension": ".py",
   "mimetype": "text/x-python",
   "name": "python",
   "nbconvert_exporter": "python",
   "pygments_lexer": "ipython3",
   "version": "3.6.9"
  }
 },
 "nbformat": 4,
 "nbformat_minor": 5
}
