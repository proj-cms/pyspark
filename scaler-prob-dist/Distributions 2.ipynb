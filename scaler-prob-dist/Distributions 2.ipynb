{
 "cells": [
  {
   "cell_type": "code",
   "execution_count": 1,
   "id": "64fa5447",
   "metadata": {},
   "outputs": [],
   "source": [
    "import numpy as np\n",
    "from scipy.stats import norm,binom"
   ]
  },
  {
   "cell_type": "code",
   "execution_count": 8,
   "id": "87ce0d2a",
   "metadata": {},
   "outputs": [
    {
     "name": "stdout",
     "output_type": "stream",
     "text": [
      "0.2118553985833967\n"
     ]
    }
   ],
   "source": [
    "z = (63 - 65)/2.5\n",
    "print(norm.cdf(z)) # Cumulative distribution function"
   ]
  },
  {
   "cell_type": "code",
   "execution_count": 6,
   "id": "331cde0b",
   "metadata": {},
   "outputs": [
    {
     "name": "stdout",
     "output_type": "stream",
     "text": [
      "fraction in [-1, 1]:  0.6826894921370859\n",
      "fraction in [-2, 2]:  0.9544997361036416\n",
      "fraction in [-3, 3]:  0.9973002039367398\n"
     ]
    }
   ],
   "source": [
    "print(f\"fraction in [-1, 1]: \", norm.cdf(1) - norm.cdf(-1))\n",
    "print(f\"fraction in [-2, 2]: \", norm.cdf(2) - norm.cdf(-2))\n",
    "print(f\"fraction in [-3, 3]: \", norm.cdf(3) - norm.cdf(-3))"
   ]
  },
  {
   "cell_type": "code",
   "execution_count": 9,
   "id": "fb35b726",
   "metadata": {},
   "outputs": [
    {
     "name": "stdout",
     "output_type": "stream",
     "text": [
      "0.9331927987311419\n"
     ]
    }
   ],
   "source": [
    "z = (53 - 50)/2\n",
    "print(norm.cdf(z)) # Cumulative distribution function"
   ]
  },
  {
   "cell_type": "code",
   "execution_count": 14,
   "id": "69b48d03",
   "metadata": {},
   "outputs": [
    {
     "name": "stdout",
     "output_type": "stream",
     "text": [
      "-1.6448536269514729\n",
      "6.860749766836499\n"
     ]
    }
   ],
   "source": [
    "fraction = 0.05\n",
    "z = norm.ppf(fraction) # Percent Point function - inverse of the cdf\n",
    "print(z)\n",
    "x = 7.42 + z * 0.34\n",
    "print(x)"
   ]
  },
  {
   "cell_type": "code",
   "execution_count": 12,
   "id": "ebe67e34",
   "metadata": {},
   "outputs": [
    {
     "name": "stdout",
     "output_type": "stream",
     "text": [
      "0.06680720126885809\n"
     ]
    }
   ],
   "source": [
    "z = 1.5\n",
    "print(1 - norm.cdf(z)) # Cumulative distribution function"
   ]
  },
  {
   "cell_type": "code",
   "execution_count": 2,
   "id": "1244f3c1",
   "metadata": {},
   "outputs": [
    {
     "name": "stdout",
     "output_type": "stream",
     "text": [
      "0.3455999999999997\n"
     ]
    }
   ],
   "source": [
    "#prob distriubution Q#1\n",
    "\n",
    "p = 0.6  #probability\n",
    "n = 5   # number of tries\n",
    "k = 3   # expected outcome\n",
    "\n",
    "print(binom.pmf(n=n,p=p,k=k))"
   ]
  },
  {
   "cell_type": "code",
   "execution_count": 3,
   "id": "e8bb0fab",
   "metadata": {},
   "outputs": [
    {
     "name": "stdout",
     "output_type": "stream",
     "text": [
      "0.14436434635625664\n"
     ]
    }
   ],
   "source": [
    "#prob distriubution Q#2\n",
    "p = 0.25  #probability of producing a defective bulb \n",
    "n = 40   # bulbs is collected\n",
    "k = 10   # expected outcome - exactly 10 bulbs are defective\n",
    "print(binom.pmf(n=n,p=p,k=k))"
   ]
  },
  {
   "cell_type": "code",
   "execution_count": 5,
   "id": "d281395c",
   "metadata": {},
   "outputs": [
    {
     "name": "stdout",
     "output_type": "stream",
     "text": [
      "0.999215014608896\n"
     ]
    }
   ],
   "source": [
    "#prob distriubution Q#4\n",
    "p = 0.20  #20% of all copies of a particular textbook fail a binding \n",
    "n = 15   # We select 15 copies at random for the binding strength test\n",
    "k = 8   # expected outcome - at most 8 copies fail the test  i.e. P[X<=8]\n",
    "print(binom.cdf(n=n,p=p,k=k))"
   ]
  },
  {
   "cell_type": "code",
   "execution_count": null,
   "id": "7dae177d",
   "metadata": {},
   "outputs": [],
   "source": [
    "#prob distriubution Q#5\n",
    "#X be the number of employees who show up at a manager’s office during office hours on a particular day.\n",
    "# p(0) =0.35, p(1) = 0.20, p(2) =0.25, and p(3) =0.10\n",
    "\n",
    "p0 = .35\n",
    "p1 = .2\n",
    "p2 = .25\n",
    "p3 = .10\n",
    "# What is p(4)\n",
    "\n",
    "p4 = 1- (p0+p1+p2+p3) \n",
    "\n",
    "# What is the probability that at least two employees will come to the office during hours\n",
    "# atleast 2 = p2 + p3 +p4\n",
    "\n",
    "p_atleast2 = p2 + p3 +p4"
   ]
  },
  {
   "cell_type": "code",
   "execution_count": 7,
   "id": "65349d19",
   "metadata": {},
   "outputs": [
    {
     "name": "stdout",
     "output_type": "stream",
     "text": [
      "0.3085375387259869\n"
     ]
    }
   ],
   "source": [
    "#prob distriubution Q8. Heavier than you\n",
    "\n",
    "mean = 60  #average weight is 60 \n",
    "std = 10 #standard deviation of 10\n",
    "\n",
    "# you weigh 65 kgs\n",
    "\n",
    "# heavier than you\n",
    "\n",
    "z = (65-60) / 10\n",
    "\n",
    "print ( 1 - norm.cdf(z) ) # CDf gives area under the curve from begnning \n",
    "\n",
    "# so here we need - area ahead of 65"
   ]
  },
  {
   "cell_type": "code",
   "execution_count": 8,
   "id": "232cd811",
   "metadata": {},
   "outputs": [
    {
     "name": "stdout",
     "output_type": "stream",
     "text": [
      "0.10564977366685535\n"
     ]
    }
   ],
   "source": [
    "#prob distriubution Q9. Shorter than you\n",
    "\n",
    "mean = 65  #he average height is 65 inches\n",
    "std = 4 # standard deviation of 4 inches\n",
    "\n",
    "# your height is 60 inches\n",
    "v = 60\n",
    "z = (60-65)/4\n",
    "print ( norm.cdf(z) )"
   ]
  },
  {
   "cell_type": "code",
   "execution_count": 12,
   "id": "dde0dbb3",
   "metadata": {},
   "outputs": [
    {
     "name": "stdout",
     "output_type": "stream",
     "text": [
      "135.78832550863427\n"
     ]
    }
   ],
   "source": [
    "#prob distribution - Q10. Urban Freeway\n",
    "\n",
    "# mean and standard deviation reported were 119 km/h and 13.1 km/h, \n",
    "# respectively. Which speed is among the fastest 10% of all speeds?\n",
    "\n",
    "# Which speed is among the fastest 10% of all speeds?\n",
    "\n",
    "mean = 119\n",
    "std = 13.1\n",
    "\n",
    "p = 1 - 0.1 # the spead s higher than 90% of rest os on gaussin curve we went from start till .9\n",
    "\n",
    "z = norm.ppf(p)\n",
    "value = z*std + mean \n",
    "print (value)"
   ]
  },
  {
   "cell_type": "code",
   "execution_count": 20,
   "id": "10e436cc",
   "metadata": {},
   "outputs": [
    {
     "name": "stdout",
     "output_type": "stream",
     "text": [
      "0.13361440253771617\n"
     ]
    }
   ],
   "source": [
    "# prob distributoion2 - Q11. Plasma cholesterol level\n",
    "\n",
    "mean = 200 #mean of 200 and a standard deviation of 35\n",
    "std = 35\n",
    "\n",
    "z = 1.5 # What is the probability that the plasma cholesterol level differs from the mean by at least 1.5 standard deviations\n",
    "#P[X >= 1.5] = 1 - p[X <= 1.4]\n",
    "# The area expected is atleast 1.5 times std.\n",
    "# whcih means the areas inder both sides of mean with std * 1.5 should be excluded and then the answer\n",
    "print ( 1 - ( norm.cdf(1.5) - norm.cdf(-1.5)) ) \n"
   ]
  }
 ],
 "metadata": {
  "kernelspec": {
   "display_name": "Python 3 (ipykernel)",
   "language": "python",
   "name": "python3"
  },
  "language_info": {
   "codemirror_mode": {
    "name": "ipython",
    "version": 3
   },
   "file_extension": ".py",
   "mimetype": "text/x-python",
   "name": "python",
   "nbconvert_exporter": "python",
   "pygments_lexer": "ipython3",
   "version": "3.9.12"
  }
 },
 "nbformat": 4,
 "nbformat_minor": 5
}
