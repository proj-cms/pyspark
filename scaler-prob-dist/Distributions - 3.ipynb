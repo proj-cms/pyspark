{
 "cells": [
  {
   "cell_type": "code",
   "execution_count": 9,
   "id": "7d7a547e",
   "metadata": {},
   "outputs": [],
   "source": [
    "from scipy.stats import poisson , geom , norm"
   ]
  },
  {
   "cell_type": "code",
   "execution_count": 10,
   "id": "b026fc3f",
   "metadata": {},
   "outputs": [
    {
     "data": {
      "text/plain": [
       "0.10081881344492458"
      ]
     },
     "execution_count": 10,
     "metadata": {},
     "output_type": "execute_result"
    }
   ],
   "source": [
    "poisson.pmf(k = 5, mu = 3)"
   ]
  },
  {
   "cell_type": "code",
   "execution_count": 7,
   "id": "bd9fdac5",
   "metadata": {},
   "outputs": [
    {
     "data": {
      "text/plain": [
       "0.10081881344492448"
      ]
     },
     "execution_count": 7,
     "metadata": {},
     "output_type": "execute_result"
    }
   ],
   "source": [
    "import math as m\n",
    "def poisson_pmf(k, mu):\n",
    "    return mu**k * m.exp(-mu) / m.factorial(k)\n",
    "\n",
    "poisson(5, 3)"
   ]
  },
  {
   "cell_type": "code",
   "execution_count": 11,
   "id": "8cab5bb9",
   "metadata": {},
   "outputs": [
    {
     "data": {
      "text/plain": [
       "0.1991482734714558"
      ]
     },
     "execution_count": 11,
     "metadata": {},
     "output_type": "execute_result"
    }
   ],
   "source": [
    "pX0 = poisson.pmf(k=0, mu=3)\n",
    "pX1 = poisson.pmf(k=1, mu=3)\n",
    "pX0 + pX1"
   ]
  },
  {
   "cell_type": "code",
   "execution_count": 15,
   "id": "ed3a1550",
   "metadata": {},
   "outputs": [
    {
     "name": "stdout",
     "output_type": "stream",
     "text": [
      "0.1991482734714558\n"
     ]
    }
   ],
   "source": [
    "print(poisson.cdf(k = 1, mu = 3))"
   ]
  },
  {
   "cell_type": "code",
   "execution_count": 16,
   "id": "40dbb012",
   "metadata": {},
   "outputs": [
    {
     "data": {
      "text/plain": [
       "0.24902769151284776"
      ]
     },
     "execution_count": 16,
     "metadata": {},
     "output_type": "execute_result"
    }
   ],
   "source": [
    "poisson.cdf(k = 15, mu = 18.5)"
   ]
  },
  {
   "cell_type": "code",
   "execution_count": 18,
   "id": "861deab6",
   "metadata": {},
   "outputs": [
    {
     "data": {
      "text/plain": [
       "0.9992622541111789"
      ]
     },
     "execution_count": 18,
     "metadata": {},
     "output_type": "execute_result"
    }
   ],
   "source": [
    "1 - poisson.cdf(k = 6, mu=18.5)"
   ]
  },
  {
   "cell_type": "code",
   "execution_count": 19,
   "id": "727d61a9",
   "metadata": {},
   "outputs": [
    {
     "data": {
      "text/plain": [
       "0.2706705664732254"
      ]
     },
     "execution_count": 19,
     "metadata": {},
     "output_type": "execute_result"
    }
   ],
   "source": [
    "poisson.pmf(k = 1, mu = 2)"
   ]
  },
  {
   "cell_type": "code",
   "execution_count": 20,
   "id": "2df52bec",
   "metadata": {},
   "outputs": [
    {
     "data": {
      "text/plain": [
       "0.36787944117144233"
      ]
     },
     "execution_count": 20,
     "metadata": {},
     "output_type": "execute_result"
    }
   ],
   "source": [
    "poisson.pmf(k = 0, mu=1)"
   ]
  },
  {
   "cell_type": "code",
   "execution_count": 21,
   "id": "1433203e",
   "metadata": {},
   "outputs": [
    {
     "data": {
      "text/plain": [
       "0.10370316509877235"
      ]
     },
     "execution_count": 21,
     "metadata": {},
     "output_type": "execute_result"
    }
   ],
   "source": [
    "poisson.pmf(k=3, mu=1.33)"
   ]
  },
  {
   "cell_type": "code",
   "execution_count": 22,
   "id": "d3cb695f",
   "metadata": {},
   "outputs": [
    {
     "data": {
      "text/plain": [
       "0.09645061728395063"
      ]
     },
     "execution_count": 22,
     "metadata": {},
     "output_type": "execute_result"
    }
   ],
   "source": [
    "from scipy.stats import geom\n",
    "geom.pmf(k=4, p=1/6)"
   ]
  },
  {
   "cell_type": "code",
   "execution_count": 23,
   "id": "87e0e458",
   "metadata": {},
   "outputs": [
    {
     "data": {
      "text/plain": [
       "0.4212962962962963"
      ]
     },
     "execution_count": 23,
     "metadata": {},
     "output_type": "execute_result"
    }
   ],
   "source": [
    "geom.cdf(k=3, p=1/6)"
   ]
  },
  {
   "cell_type": "code",
   "execution_count": 24,
   "id": "1f64fc45",
   "metadata": {},
   "outputs": [
    {
     "data": {
      "text/plain": [
       "0.6944444444444444"
      ]
     },
     "execution_count": 24,
     "metadata": {},
     "output_type": "execute_result"
    }
   ],
   "source": [
    "1 - geom.cdf(k=2, p=1/6)"
   ]
  },
  {
   "cell_type": "code",
   "execution_count": 25,
   "id": "0f7ec4b2",
   "metadata": {},
   "outputs": [
    {
     "data": {
      "text/plain": [
       "0.018900000000000007"
      ]
     },
     "execution_count": 25,
     "metadata": {},
     "output_type": "execute_result"
    }
   ],
   "source": [
    "geom.pmf(k=4, p=0.7)"
   ]
  },
  {
   "cell_type": "code",
   "execution_count": 26,
   "id": "bf9c965f",
   "metadata": {},
   "outputs": [
    {
     "data": {
      "text/plain": [
       "0.08999999999999997"
      ]
     },
     "execution_count": 26,
     "metadata": {},
     "output_type": "execute_result"
    }
   ],
   "source": [
    "1- geom.cdf(k=2, p = 0.7)"
   ]
  },
  {
   "cell_type": "code",
   "execution_count": 2,
   "id": "da9821c5",
   "metadata": {},
   "outputs": [
    {
     "data": {
      "text/plain": [
       "1.4285714285714286"
      ]
     },
     "execution_count": 2,
     "metadata": {},
     "output_type": "execute_result"
    }
   ],
   "source": [
    "geom.expect(args=(0.7,))"
   ]
  },
  {
   "cell_type": "code",
   "execution_count": 4,
   "id": "6729a357",
   "metadata": {},
   "outputs": [
    {
     "data": {
      "text/plain": [
       "6.0"
      ]
     },
     "execution_count": 4,
     "metadata": {},
     "output_type": "execute_result"
    }
   ],
   "source": [
    "round (geom.expect(args=(1/6,)) ,2 )"
   ]
  },
  {
   "cell_type": "code",
   "execution_count": 31,
   "id": "238ba4e8",
   "metadata": {},
   "outputs": [
    {
     "data": {
      "text/plain": [
       "0.08999999999999997"
      ]
     },
     "execution_count": 31,
     "metadata": {},
     "output_type": "execute_result"
    }
   ],
   "source": [
    "1 - geom.cdf(k=2, p=0.7)"
   ]
  },
  {
   "cell_type": "code",
   "execution_count": 33,
   "id": "55578139",
   "metadata": {},
   "outputs": [
    {
     "data": {
      "text/plain": [
       "<AxesSubplot:>"
      ]
     },
     "execution_count": 33,
     "metadata": {},
     "output_type": "execute_result"
    },
    {
     "data": {
      "image/png": "[encoded data removed]",
      "text/plain": [
       "<Figure size 432x288 with 1 Axes>"
      ]
     },
     "metadata": {
      "needs_background": "light"
     },
     "output_type": "display_data"
    }
   ],
   "source": [
    "from matplotlib import pyplot as plt\n",
    "import seaborn as sns\n",
    "import numpy as np\n",
    "\n",
    "mu = 3.5\n",
    "x_vals = np.arange(0, 20)\n",
    "y_vals = poisson.pmf(x_vals, mu=mu)\n",
    "sns.barplot(x=x_vals, y = y_vals)"
   ]
  },
  {
   "cell_type": "code",
   "execution_count": 35,
   "id": "44ed985b",
   "metadata": {},
   "outputs": [
    {
     "data": {
      "text/plain": [
       "array([0.03, 0.11, 0.18, 0.22, 0.19, 0.13, 0.08, 0.04, 0.02, 0.01, 0.  ,\n",
       "       0.  , 0.  , 0.  , 0.  , 0.  , 0.  , 0.  , 0.  , 0.  ])"
      ]
     },
     "execution_count": 35,
     "metadata": {},
     "output_type": "execute_result"
    }
   ],
   "source": [
    "np.round(y_vals, 2)"
   ]
  },
  {
   "cell_type": "code",
   "execution_count": 37,
   "id": "438b5d8b",
   "metadata": {},
   "outputs": [
    {
     "name": "stdout",
     "output_type": "stream",
     "text": [
      "0.9199974240184564\n",
      "0.9772498680518208\n"
     ]
    }
   ],
   "source": [
    "from scipy.stats import norm\n",
    "cdf = norm.cdf\n",
    "mu = 0\n",
    "s = 1\n",
    "print((cdf(1) + cdf(3))/2)\n",
    "print(cdf(2))"
   ]
  },
  {
   "cell_type": "code",
   "execution_count": 39,
   "id": "31046e68",
   "metadata": {},
   "outputs": [
    {
     "data": {
      "text/plain": [
       "<AxesSubplot:>"
      ]
     },
     "execution_count": 39,
     "metadata": {},
     "output_type": "execute_result"
    },
    {
     "data": {
      "image/png": "[encoded data removed]",
      "text/plain": [
       "<Figure size 432x288 with 1 Axes>"
      ]
     },
     "metadata": {
      "needs_background": "light"
     },
     "output_type": "display_data"
    }
   ],
   "source": [
    "from matplotlib import pyplot as plt\n",
    "import seaborn as sns\n",
    "import numpy as np\n",
    "\n",
    "p = 0.7\n",
    "x_vals = np.arange(0, 20)\n",
    "y_vals = geom.pmf(x_vals, p=p)\n",
    "sns.barplot(x=x_vals, y = y_vals)"
   ]
  },
  {
   "cell_type": "code",
   "execution_count": 5,
   "id": "b124db25",
   "metadata": {},
   "outputs": [
    {
     "data": {
      "text/plain": [
       "0.018900000000000007"
      ]
     },
     "execution_count": 5,
     "metadata": {},
     "output_type": "execute_result"
    }
   ],
   "source": [
    "# probability of winning \n",
    "p = 0.7\n",
    "\n",
    "(1-p)**3*p"
   ]
  },
  {
   "cell_type": "code",
   "execution_count": 6,
   "id": "3ae0644d",
   "metadata": {},
   "outputs": [
    {
     "data": {
      "text/plain": [
       "0.018900000000000007"
      ]
     },
     "execution_count": 6,
     "metadata": {},
     "output_type": "execute_result"
    }
   ],
   "source": [
    "geom.pmf(k = 4,p = 0.7) # for geometric k - after these many evets there will be success  p - probability of success"
   ]
  },
  {
   "cell_type": "code",
   "execution_count": 7,
   "id": "bba8994e",
   "metadata": {},
   "outputs": [
    {
     "data": {
      "text/plain": [
       "1.4285714285714286"
      ]
     },
     "execution_count": 7,
     "metadata": {},
     "output_type": "execute_result"
    }
   ],
   "source": [
    "# probability is known - but need to find the how many attmpts are required for success\n",
    "geom.expect(args =(0.7,))\n"
   ]
  },
  {
   "cell_type": "code",
   "execution_count": null,
   "id": "2b10cb34",
   "metadata": {},
   "outputs": [],
   "source": [
    "# I dont win in first 2 \n",
    "# so 2 are falures for sure\n",
    "# \n",
    "\n",
    "#P[x>2] = 1 - P[X<=2]\n",
    " 1 - geom.cdf(k=2,p = 0.7)"
   ]
  },
  {
   "cell_type": "code",
   "execution_count": 11,
   "id": "c92cae6a",
   "metadata": {},
   "outputs": [
    {
     "data": {
      "text/plain": [
       "0.07"
      ]
     },
     "execution_count": 11,
     "metadata": {},
     "output_type": "execute_result"
    }
   ],
   "source": [
    "# Q1. Coke bottles\n",
    "#  mean filling capacity for a coke bottle is 550ml \n",
    "mean = 550\n",
    "std = 20 \n",
    "\n",
    "# What is the probability that a bottle is filled with at most 520 ml\n",
    "z = (520-550)/20\n",
    "#P[X<= 520] = norm.cdf(z)\n",
    "round(norm.cdf(z),2)\n",
    "\n"
   ]
  },
  {
   "cell_type": "code",
   "execution_count": 13,
   "id": "96cd9ede",
   "metadata": {},
   "outputs": [
    {
     "data": {
      "text/plain": [
       "0.16000000000000003"
      ]
     },
     "execution_count": 13,
     "metadata": {},
     "output_type": "execute_result"
    }
   ],
   "source": [
    "# What is the probability that a bottle is filled with more than 570 ml\n",
    "#P[X > 570] = 1 - P[x<=570]\n",
    "# z for 570\n",
    "z = (570-550)/20\n",
    "1- round(norm.cdf(z),2)"
   ]
  },
  {
   "cell_type": "code",
   "execution_count": 14,
   "id": "6719bfc8",
   "metadata": {},
   "outputs": [
    {
     "data": {
      "text/plain": [
       "0.89"
      ]
     },
     "execution_count": 14,
     "metadata": {},
     "output_type": "execute_result"
    }
   ],
   "source": [
    "# What is the probability that a bottle is filled with a quantity between 460 ml to 575 ml\n",
    "\n",
    "#P[X<=575] - P[X<=460]\n",
    "\n",
    "z_575 = (575-550)/20\n",
    "z_460 = (460-550)/20\n",
    "\n",
    "round ( norm.cdf(z_575) - norm.cdf(z_460) ,2 )\n"
   ]
  },
  {
   "cell_type": "code",
   "execution_count": 15,
   "id": "0c7fd041",
   "metadata": {},
   "outputs": [
    {
     "data": {
      "text/plain": [
       "0.7535533517801833"
      ]
     },
     "execution_count": 15,
     "metadata": {},
     "output_type": "execute_result"
    }
   ],
   "source": [
    "# Q2. Motorcycles\n",
    "\n",
    "mean = 46.8\n",
    "std = 1.75\n",
    "\n",
    "# What is the probability that you will ride a motorcycle at a speed of no more than 48 km/h\n",
    "#P[X <= 48] = norm.cdf(z_48)\n",
    "z_48 = (48-mean)/std\n",
    "norm.cdf(z_48)"
   ]
  },
  {
   "cell_type": "code",
   "execution_count": null,
   "id": "3fc6628d",
   "metadata": {},
   "outputs": [],
   "source": [
    "#What is the probability that the speed will be more than 44 km/h\n",
    "P[X>44] = 1 - P[X<= 44]\n",
    "        = 1 - norm.cdf(z_44)"
   ]
  },
  {
   "cell_type": "code",
   "execution_count": 19,
   "id": "7ec7fac6",
   "metadata": {},
   "outputs": [
    {
     "name": "stdout",
     "output_type": "stream",
     "text": [
      "-2.326\n"
     ]
    },
    {
     "data": {
      "text/plain": [
       "45.348"
      ]
     },
     "execution_count": 19,
     "metadata": {},
     "output_type": "execute_result"
    }
   ],
   "source": [
    "# Q3. Cement bags\n",
    "# mean of 50kg and a standard deviation of 2 kg.\n",
    "mean = 50\n",
    "std = 2\n",
    "\n",
    "# Find the weight that is exceeded by 99% of the bags\n",
    "\n",
    "# 99% bags shoudle xcedd the weight we have to calc\n",
    "# meant he weight we want to calc is inital 1%\n",
    "# so we know the probability and now we want to find the Z scor\n",
    "# it can be done usign ppf fuction\n",
    "\n",
    "from scipy.stats import norm\n",
    "print(round(norm.ppf(0.01),3))\n",
    "\n",
    "# z * std  + mean = X\n",
    "\n",
    "round(norm.ppf(0.01),3)  * std + mean\n",
    "\n"
   ]
  },
  {
   "cell_type": "code",
   "execution_count": 22,
   "id": "9de288b4",
   "metadata": {},
   "outputs": [
    {
     "data": {
      "text/plain": [
       "0.2706705664732254"
      ]
     },
     "execution_count": 22,
     "metadata": {},
     "output_type": "execute_result"
    }
   ],
   "source": [
    "# Q4. 240 vehicles per hour\n",
    "\n",
    "# An observer counts 240 vehicles per hour (3600 seconds) \n",
    "\n",
    "sec_1 = 240/3600\n",
    "\n",
    "# What is the probability of one vehicle arriving over a 30-second time interval\n",
    "\n",
    "k = 1\n",
    "mu = sec_1*30\n",
    "\n",
    "poisson.pmf(k=k,mu=mu)\n"
   ]
  },
  {
   "cell_type": "code",
   "execution_count": 27,
   "id": "bfabbe73",
   "metadata": {},
   "outputs": [
    {
     "name": "stdout",
     "output_type": "stream",
     "text": [
      "0.24902769151284776\n",
      "0.9992622541111789\n"
     ]
    }
   ],
   "source": [
    "# Q5. Acre plot\n",
    "\n",
    "# The expected number of trees per acre is equal to 74.\n",
    "\n",
    "rate_quarter = 74/4\n",
    "\n",
    "# What is the probability that in a certain quarter-acre plot, there will be at most 15 trees = P[X<=15]\n",
    "\n",
    "k = 15 # of tress\n",
    "\n",
    "mu = rate_quarter\n",
    "\n",
    "print (poisson.cdf(k=k,mu=mu))\n",
    "\n",
    "# What is the probability that in a certain quarter-acre plot, there will be at least 7 trees\n",
    "# P[X>=7] = 1 - P[X<=6]\n",
    "k=6\n",
    "print ( 1- poisson.cdf(k=k,mu=mu) )\n"
   ]
  },
  {
   "cell_type": "code",
   "execution_count": 28,
   "id": "0444bf62",
   "metadata": {},
   "outputs": [
    {
     "data": {
      "text/plain": [
       "0.9898141728888165"
      ]
     },
     "execution_count": 28,
     "metadata": {},
     "output_type": "execute_result"
    }
   ],
   "source": [
    "# Q6. Power failure\n",
    "# three failures every 20 weeks\n",
    "week_1 = 3/20\n",
    "# there will not be more than one failure during a week\n",
    "\n",
    "#P[X<=1]\n",
    "k=1\n",
    "mu = week_1\n",
    "poisson.cdf(k=k,mu=mu)"
   ]
  },
  {
   "cell_type": "code",
   "execution_count": 32,
   "id": "f23427b9",
   "metadata": {},
   "outputs": [
    {
     "data": {
      "text/plain": [
       "0.34869862838623983"
      ]
     },
     "execution_count": 32,
     "metadata": {},
     "output_type": "execute_result"
    }
   ],
   "source": [
    "# Q7. Birthday\n",
    "# a party of 500 guests\n",
    "# What is the probability that exactly one other guest has the same birthday as you\n",
    "\n",
    "\n",
    "# birthday probability - birthday can be 1 day in 365 days \n",
    "\n",
    "# thi is a binomial distribution- since there can be at max 2 results - either a birth day or no birthday \n",
    "n = 500 -1 # 1 minus since - I am out \n",
    "k = 1 # exactly one person should have same birthday as me\n",
    "p = 1/365 # probability of birth day , birthday can be any day in year of 365 days\n",
    "\n",
    "binom.pmf(n=499,k=1,p=1/365)"
   ]
  },
  {
   "cell_type": "code",
   "execution_count": 33,
   "id": "41433bca",
   "metadata": {},
   "outputs": [
    {
     "data": {
      "text/plain": [
       "0.049787068367863944"
      ]
     },
     "execution_count": 33,
     "metadata": {},
     "output_type": "execute_result"
    }
   ],
   "source": [
    "# Q8. Theft of Credit Cards\n",
    "# 0.02% of credit card holders of a company report theft of their credit cards each month\n",
    "# The company has a total of 15,000 credit cards\n",
    "\n",
    "# What is the probability that no one reports theft of credit cards during the next month\n",
    "\n",
    "# X = number of cards theft \n",
    "#p[X=0]\n",
    "\n",
    "mu = 0.02/100*15000\n",
    "k = 0\n",
    "\n",
    "poisson.pmf(k=k,mu = mu)"
   ]
  },
  {
   "cell_type": "code",
   "execution_count": 39,
   "id": "f76f1a98",
   "metadata": {},
   "outputs": [
    {
     "data": {
      "text/plain": [
       "3.0"
      ]
     },
     "execution_count": 39,
     "metadata": {},
     "output_type": "execute_result"
    }
   ],
   "source": [
    "# Determine the expected number of reported stolen credit cards in a month.\n",
    "0.0002*15000"
   ]
  },
  {
   "cell_type": "code",
   "execution_count": 41,
   "id": "cf3a4d1e",
   "metadata": {},
   "outputs": [
    {
     "data": {
      "text/plain": [
       "3.3333333333333317"
      ]
     },
     "execution_count": 41,
     "metadata": {},
     "output_type": "execute_result"
    }
   ],
   "source": [
    "# Q9. Feedback Response\n",
    "\n",
    "# 30% negative responses, and 70% positive\n",
    "\n",
    "p_positive = .3\n",
    "p_negative = .7\n",
    "\n",
    "# estimate the number of feedbacks to expect before negative feedback appears \n",
    "# when we pick one response after another randomly\n",
    "\n",
    "# this appears to be a geometric distribution - so we need to find how many are required for given event to occur\n",
    "\n",
    "# so to find when -ve feedback comes , while using the geom.expect we should use the compliment \n",
    "\n",
    "# another interpretation is find the number of +ve feedbacks\n",
    "\n",
    "geom.expect(args=(0.3,))"
   ]
  },
  {
   "cell_type": "code",
   "execution_count": 52,
   "id": "c62f9fce",
   "metadata": {},
   "outputs": [
    {
     "name": "stdout",
     "output_type": "stream",
     "text": [
      "0.023\n",
      "43.95578901598566\n"
     ]
    }
   ],
   "source": [
    "# Q10. Expected number of days\n",
    "\n",
    "mean = 0\n",
    "std = 1\n",
    "\n",
    "\n",
    "# what is the expected number of days you have to draw until you get a value greater than 2 \n",
    "# p{X>2} = 1 - p[x<=2]\n",
    "theta = 1- norm.cdf(2)\n",
    "print(round(theta,3))\n",
    "\n",
    "# theta calculated is one day probaility\n",
    "# this is one day rate - so the expectation would be \n",
    "\n",
    "expected = 1/theta\n",
    "print(expected)"
   ]
  },
  {
   "cell_type": "code",
   "execution_count": 53,
   "id": "0706dda0",
   "metadata": {},
   "outputs": [
    {
     "data": {
      "text/plain": [
       "0.953344"
      ]
     },
     "execution_count": 53,
     "metadata": {},
     "output_type": "execute_result"
    }
   ],
   "source": [
    "# Q11. Pandemic Cure\n",
    "\n",
    "# the probability of manufacturing the drug successfully was 40% \n",
    "\n",
    "p_success = .4\n",
    "\n",
    "\n",
    "# what would be the probability of successfully manufacturing the drug in less than 7 production processes\n",
    "\n",
    "# p [ x< 7] = p[x<=6] \n",
    "\n",
    "# this is geom\n",
    "geom.cdf(k=6,p=.4)\n"
   ]
  }
 ],
 "metadata": {
  "kernelspec": {
   "display_name": "Python 3 (ipykernel)",
   "language": "python",
   "name": "python3"
  },
  "language_info": {
   "codemirror_mode": {
    "name": "ipython",
    "version": 3
   },
   "file_extension": ".py",
   "mimetype": "text/x-python",
   "name": "python",
   "nbconvert_exporter": "python",
   "pygments_lexer": "ipython3",
   "version": "3.9.12"
  }
 },
 "nbformat": 4,
 "nbformat_minor": 5
}
